{
 "cells": [
  {
   "cell_type": "markdown",
   "id": "e612716f-70a0-4a2d-b0dd-9854a0ccf2f6",
   "metadata": {},
   "source": [
    "# *``lca_graphic``* : **A toolbox for daily LCA users**"
   ]
  },
  {
   "cell_type": "markdown",
   "id": "f2ff7e1f-8c4f-4dea-9fd5-c3d4486b2662",
   "metadata": {},
   "source": [
    "---\n",
    "\n",
    "**Purpose = to give understandable graphs for the daily LCA users to quickly analyze his LCA**\n",
    "<br>\n",
    "---\n",
    "\n",
    "**Author** : Teo Lavisse, teo.lavisse@cea.fr       \n"
   ]
  },
  {
   "cell_type": "markdown",
   "id": "a4da6a81-21ca-4635-9b8f-18d286d83e52",
   "metadata": {
    "tags": []
   },
   "source": [
    "## Initializing"
   ]
  },
  {
   "cell_type": "code",
   "execution_count": 1,
   "id": "1dd4042e-1a62-43a0-a2b9-ce24ea189760",
   "metadata": {},
   "outputs": [],
   "source": [
    "import bw2data as bd\n",
    "import bw2calc as bc\n",
    "import bw2io as bi\n",
    "import numpy as np\n",
    "import matplotlib.pyplot as plt\n",
    "from pathlib import Path\n",
    "import pandas as pd\n",
    "import json\n",
    "import os\n",
    "import matrix_utils as mu\n",
    "import bw_processing as bp\n",
    "import math\n",
    "import warnings\n",
    "import ipywidgets as widgets\n",
    "from ipywidgets import interact\n",
    "import bw2analyzer as ba\n",
    "import seaborn as sns\n",
    "import textwrap\n",
    "\n",
    "from utils import *\n",
    "from dashboards import *"
   ]
  },
  {
   "cell_type": "code",
   "execution_count": 2,
   "id": "f805dca7-63e1-4c80-931c-96b54dbfb426",
   "metadata": {},
   "outputs": [],
   "source": [
    "bd.projects.set_current(\"Visualization\")"
   ]
  },
  {
   "cell_type": "markdown",
   "id": "8c234f2f-75de-4d34-8676-12f4b7ec61db",
   "metadata": {
    "jp-MarkdownHeadingCollapsed": true,
    "tags": []
   },
   "source": [
    "### Importing Databases"
   ]
  },
  {
   "cell_type": "code",
   "execution_count": 3,
   "id": "c989cfba-50b9-4df2-b3b4-60889947a469",
   "metadata": {},
   "outputs": [
    {
     "data": {
      "text/plain": [
       "Databases dictionary with 2 object(s):\n",
       "\tUS EEIO 1.1\n",
       "\tbiosphere3"
      ]
     },
     "execution_count": 3,
     "metadata": {},
     "output_type": "execute_result"
    }
   ],
   "source": [
    "bd.databases"
   ]
  },
  {
   "cell_type": "code",
   "execution_count": 4,
   "id": "bca03117-8c63-4d4d-b167-0cea0be04a91",
   "metadata": {},
   "outputs": [],
   "source": [
    "datadir = Path(\"data\")\n",
    "datadir.mkdir(exist_ok=True)"
   ]
  },
  {
   "cell_type": "code",
   "execution_count": 5,
   "id": "ca335eeb-df8a-405e-8f0e-c3313be4afcf",
   "metadata": {},
   "outputs": [
    {
     "name": "stdout",
     "output_type": "stream",
     "text": [
      "US EEIO 1.1 already present\n"
     ]
    }
   ],
   "source": [
    "bi.useeio11()"
   ]
  },
  {
   "cell_type": "code",
   "execution_count": 6,
   "id": "b0481cb1-1dec-4ee9-a5ae-9cb3c1091477",
   "metadata": {},
   "outputs": [
    {
     "data": {
      "text/html": [
       "<div>\n",
       "<style scoped>\n",
       "    .dataframe tbody tr th:only-of-type {\n",
       "        vertical-align: middle;\n",
       "    }\n",
       "\n",
       "    .dataframe tbody tr th {\n",
       "        vertical-align: top;\n",
       "    }\n",
       "\n",
       "    .dataframe thead th {\n",
       "        text-align: right;\n",
       "    }\n",
       "</style>\n",
       "<table border=\"1\" class=\"dataframe\">\n",
       "  <thead>\n",
       "    <tr style=\"text-align: right;\">\n",
       "      <th></th>\n",
       "      <th>CAS number</th>\n",
       "      <th>categories</th>\n",
       "      <th>classifications</th>\n",
       "      <th>code</th>\n",
       "      <th>database</th>\n",
       "      <th>description</th>\n",
       "      <th>dqEntry</th>\n",
       "      <th>dqSystem</th>\n",
       "      <th>exchangeDqSystem</th>\n",
       "      <th>filename</th>\n",
       "      <th>id</th>\n",
       "      <th>location</th>\n",
       "      <th>modified</th>\n",
       "      <th>name</th>\n",
       "      <th>processDocumentation</th>\n",
       "      <th>type</th>\n",
       "      <th>unit</th>\n",
       "      <th>version</th>\n",
       "    </tr>\n",
       "  </thead>\n",
       "  <tbody>\n",
       "    <tr>\n",
       "      <th>412</th>\n",
       "      <td></td>\n",
       "      <td>(water, unspecified)</td>\n",
       "      <td>NaN</td>\n",
       "      <td>2ee4697d-b7f4-362b-86a4-94b644699500</td>\n",
       "      <td>US EEIO 1.1</td>\n",
       "      <td>NaN</td>\n",
       "      <td>NaN</td>\n",
       "      <td>NaN</td>\n",
       "      <td>NaN</td>\n",
       "      <td>NaN</td>\n",
       "      <td>1134</td>\n",
       "      <td>NaN</td>\n",
       "      <td>NaN</td>\n",
       "      <td>(2,4-DICHLOROPHENOXY)ACETIC ACID COMPD. WITH 2...</td>\n",
       "      <td>NaN</td>\n",
       "      <td>emission</td>\n",
       "      <td></td>\n",
       "      <td>NaN</td>\n",
       "    </tr>\n",
       "    <tr>\n",
       "      <th>727</th>\n",
       "      <td></td>\n",
       "      <td>(air, low population density)</td>\n",
       "      <td>NaN</td>\n",
       "      <td>6ca23b5d-83dc-3b02-bf39-8eabf9d41151</td>\n",
       "      <td>US EEIO 1.1</td>\n",
       "      <td>NaN</td>\n",
       "      <td>NaN</td>\n",
       "      <td>NaN</td>\n",
       "      <td>NaN</td>\n",
       "      <td>NaN</td>\n",
       "      <td>1640</td>\n",
       "      <td>NaN</td>\n",
       "      <td>NaN</td>\n",
       "      <td>(2,4-DICHLOROPHENOXY)ACETIC ACID COMPD. WITH 2...</td>\n",
       "      <td>NaN</td>\n",
       "      <td>emission</td>\n",
       "      <td></td>\n",
       "      <td>NaN</td>\n",
       "    </tr>\n",
       "    <tr>\n",
       "      <th>945</th>\n",
       "      <td></td>\n",
       "      <td>(soil, groundwater)</td>\n",
       "      <td>NaN</td>\n",
       "      <td>5b98f875-8d1c-3549-a7df-28d7d90e7ccb</td>\n",
       "      <td>US EEIO 1.1</td>\n",
       "      <td>NaN</td>\n",
       "      <td>NaN</td>\n",
       "      <td>NaN</td>\n",
       "      <td>NaN</td>\n",
       "      <td>NaN</td>\n",
       "      <td>1427</td>\n",
       "      <td>NaN</td>\n",
       "      <td>NaN</td>\n",
       "      <td>(2,4-DICHLOROPHENOXY)ACETIC ACID COMPD. WITH 2...</td>\n",
       "      <td>NaN</td>\n",
       "      <td>emission</td>\n",
       "      <td></td>\n",
       "      <td>NaN</td>\n",
       "    </tr>\n",
       "    <tr>\n",
       "      <th>1256</th>\n",
       "      <td></td>\n",
       "      <td>(air, low population density)</td>\n",
       "      <td>NaN</td>\n",
       "      <td>3404c9d4-8d41-36cb-8a95-c8b428518cfa</td>\n",
       "      <td>US EEIO 1.1</td>\n",
       "      <td>NaN</td>\n",
       "      <td>NaN</td>\n",
       "      <td>NaN</td>\n",
       "      <td>NaN</td>\n",
       "      <td>NaN</td>\n",
       "      <td>1166</td>\n",
       "      <td>NaN</td>\n",
       "      <td>NaN</td>\n",
       "      <td>(4-CHLORO-2-METHYLPHENOXY)ACETIC ACID COMPD. W...</td>\n",
       "      <td>NaN</td>\n",
       "      <td>emission</td>\n",
       "      <td></td>\n",
       "      <td>NaN</td>\n",
       "    </tr>\n",
       "    <tr>\n",
       "      <th>1409</th>\n",
       "      <td></td>\n",
       "      <td>(soil, groundwater)</td>\n",
       "      <td>NaN</td>\n",
       "      <td>b8889098-9a89-35c6-b226-07cb66c83217</td>\n",
       "      <td>US EEIO 1.1</td>\n",
       "      <td>NaN</td>\n",
       "      <td>NaN</td>\n",
       "      <td>NaN</td>\n",
       "      <td>NaN</td>\n",
       "      <td>NaN</td>\n",
       "      <td>2160</td>\n",
       "      <td>NaN</td>\n",
       "      <td>NaN</td>\n",
       "      <td>(4-CHLORO-2-METHYLPHENOXY)ACETIC ACID COMPD. W...</td>\n",
       "      <td>NaN</td>\n",
       "      <td>emission</td>\n",
       "      <td></td>\n",
       "      <td>NaN</td>\n",
       "    </tr>\n",
       "    <tr>\n",
       "      <th>...</th>\n",
       "      <td>...</td>\n",
       "      <td>...</td>\n",
       "      <td>...</td>\n",
       "      <td>...</td>\n",
       "      <td>...</td>\n",
       "      <td>...</td>\n",
       "      <td>...</td>\n",
       "      <td>...</td>\n",
       "      <td>...</td>\n",
       "      <td>...</td>\n",
       "      <td>...</td>\n",
       "      <td>...</td>\n",
       "      <td>...</td>\n",
       "      <td>...</td>\n",
       "      <td>...</td>\n",
       "      <td>...</td>\n",
       "      <td>...</td>\n",
       "      <td>...</td>\n",
       "    </tr>\n",
       "    <tr>\n",
       "      <th>1698</th>\n",
       "      <td></td>\n",
       "      <td>(air, unspecified)</td>\n",
       "      <td>NaN</td>\n",
       "      <td>d9a5b786-d06c-44af-a088-b070aa605d9b</td>\n",
       "      <td>US EEIO 1.1</td>\n",
       "      <td>NaN</td>\n",
       "      <td>NaN</td>\n",
       "      <td>NaN</td>\n",
       "      <td>NaN</td>\n",
       "      <td>NaN</td>\n",
       "      <td>2370</td>\n",
       "      <td>NaN</td>\n",
       "      <td>NaN</td>\n",
       "      <td>trifluralin</td>\n",
       "      <td>NaN</td>\n",
       "      <td>emission</td>\n",
       "      <td></td>\n",
       "      <td>NaN</td>\n",
       "    </tr>\n",
       "    <tr>\n",
       "      <th>1024</th>\n",
       "      <td>7440622.0</td>\n",
       "      <td>(water, unspecified)</td>\n",
       "      <td>NaN</td>\n",
       "      <td>63e8256e-8549-11e0-9d78-0800200c9a66</td>\n",
       "      <td>US EEIO 1.1</td>\n",
       "      <td>NaN</td>\n",
       "      <td>NaN</td>\n",
       "      <td>NaN</td>\n",
       "      <td>NaN</td>\n",
       "      <td>NaN</td>\n",
       "      <td>1577</td>\n",
       "      <td>NaN</td>\n",
       "      <td>NaN</td>\n",
       "      <td>vanadium</td>\n",
       "      <td>NaN</td>\n",
       "      <td>emission</td>\n",
       "      <td></td>\n",
       "      <td>NaN</td>\n",
       "    </tr>\n",
       "    <tr>\n",
       "      <th>1785</th>\n",
       "      <td>7440622.0</td>\n",
       "      <td>(soil, industrial)</td>\n",
       "      <td>NaN</td>\n",
       "      <td>1a5850a0-0069-4b73-bb91-7a61e8d45ae5</td>\n",
       "      <td>US EEIO 1.1</td>\n",
       "      <td>NaN</td>\n",
       "      <td>NaN</td>\n",
       "      <td>NaN</td>\n",
       "      <td>NaN</td>\n",
       "      <td>NaN</td>\n",
       "      <td>971</td>\n",
       "      <td>NaN</td>\n",
       "      <td>NaN</td>\n",
       "      <td>vanadium</td>\n",
       "      <td>NaN</td>\n",
       "      <td>emission</td>\n",
       "      <td></td>\n",
       "      <td>NaN</td>\n",
       "    </tr>\n",
       "    <tr>\n",
       "      <th>1913</th>\n",
       "      <td>7440622.0</td>\n",
       "      <td>(air, unspecified)</td>\n",
       "      <td>NaN</td>\n",
       "      <td>591b0a62-8064-4697-86ed-47bfa1f8b5e6</td>\n",
       "      <td>US EEIO 1.1</td>\n",
       "      <td>NaN</td>\n",
       "      <td>NaN</td>\n",
       "      <td>NaN</td>\n",
       "      <td>NaN</td>\n",
       "      <td>NaN</td>\n",
       "      <td>1407</td>\n",
       "      <td>NaN</td>\n",
       "      <td>NaN</td>\n",
       "      <td>vanadium</td>\n",
       "      <td>NaN</td>\n",
       "      <td>emission</td>\n",
       "      <td></td>\n",
       "      <td>NaN</td>\n",
       "    </tr>\n",
       "    <tr>\n",
       "      <th>1115</th>\n",
       "      <td></td>\n",
       "      <td>(air, unspecified)</td>\n",
       "      <td>NaN</td>\n",
       "      <td>1d444a45-70c4-4718-8427-1c0fff91f88e</td>\n",
       "      <td>US EEIO 1.1</td>\n",
       "      <td>NaN</td>\n",
       "      <td>NaN</td>\n",
       "      <td>NaN</td>\n",
       "      <td>NaN</td>\n",
       "      <td>NaN</td>\n",
       "      <td>1000</td>\n",
       "      <td>NaN</td>\n",
       "      <td>NaN</td>\n",
       "      <td>vinyl acetate</td>\n",
       "      <td>NaN</td>\n",
       "      <td>emission</td>\n",
       "      <td></td>\n",
       "      <td>NaN</td>\n",
       "    </tr>\n",
       "  </tbody>\n",
       "</table>\n",
       "<p>2649 rows × 18 columns</p>\n",
       "</div>"
      ],
      "text/plain": [
       "     CAS number                     categories classifications  \\\n",
       "412                       (water, unspecified)             NaN   \n",
       "727              (air, low population density)             NaN   \n",
       "945                        (soil, groundwater)             NaN   \n",
       "1256             (air, low population density)             NaN   \n",
       "1409                       (soil, groundwater)             NaN   \n",
       "...         ...                            ...             ...   \n",
       "1698                        (air, unspecified)             NaN   \n",
       "1024  7440622.0           (water, unspecified)             NaN   \n",
       "1785  7440622.0             (soil, industrial)             NaN   \n",
       "1913  7440622.0             (air, unspecified)             NaN   \n",
       "1115                        (air, unspecified)             NaN   \n",
       "\n",
       "                                      code     database description dqEntry  \\\n",
       "412   2ee4697d-b7f4-362b-86a4-94b644699500  US EEIO 1.1         NaN     NaN   \n",
       "727   6ca23b5d-83dc-3b02-bf39-8eabf9d41151  US EEIO 1.1         NaN     NaN   \n",
       "945   5b98f875-8d1c-3549-a7df-28d7d90e7ccb  US EEIO 1.1         NaN     NaN   \n",
       "1256  3404c9d4-8d41-36cb-8a95-c8b428518cfa  US EEIO 1.1         NaN     NaN   \n",
       "1409  b8889098-9a89-35c6-b226-07cb66c83217  US EEIO 1.1         NaN     NaN   \n",
       "...                                    ...          ...         ...     ...   \n",
       "1698  d9a5b786-d06c-44af-a088-b070aa605d9b  US EEIO 1.1         NaN     NaN   \n",
       "1024  63e8256e-8549-11e0-9d78-0800200c9a66  US EEIO 1.1         NaN     NaN   \n",
       "1785  1a5850a0-0069-4b73-bb91-7a61e8d45ae5  US EEIO 1.1         NaN     NaN   \n",
       "1913  591b0a62-8064-4697-86ed-47bfa1f8b5e6  US EEIO 1.1         NaN     NaN   \n",
       "1115  1d444a45-70c4-4718-8427-1c0fff91f88e  US EEIO 1.1         NaN     NaN   \n",
       "\n",
       "     dqSystem exchangeDqSystem filename    id location modified  \\\n",
       "412       NaN              NaN      NaN  1134      NaN      NaN   \n",
       "727       NaN              NaN      NaN  1640      NaN      NaN   \n",
       "945       NaN              NaN      NaN  1427      NaN      NaN   \n",
       "1256      NaN              NaN      NaN  1166      NaN      NaN   \n",
       "1409      NaN              NaN      NaN  2160      NaN      NaN   \n",
       "...       ...              ...      ...   ...      ...      ...   \n",
       "1698      NaN              NaN      NaN  2370      NaN      NaN   \n",
       "1024      NaN              NaN      NaN  1577      NaN      NaN   \n",
       "1785      NaN              NaN      NaN   971      NaN      NaN   \n",
       "1913      NaN              NaN      NaN  1407      NaN      NaN   \n",
       "1115      NaN              NaN      NaN  1000      NaN      NaN   \n",
       "\n",
       "                                                   name processDocumentation  \\\n",
       "412   (2,4-DICHLOROPHENOXY)ACETIC ACID COMPD. WITH 2...                  NaN   \n",
       "727   (2,4-DICHLOROPHENOXY)ACETIC ACID COMPD. WITH 2...                  NaN   \n",
       "945   (2,4-DICHLOROPHENOXY)ACETIC ACID COMPD. WITH 2...                  NaN   \n",
       "1256  (4-CHLORO-2-METHYLPHENOXY)ACETIC ACID COMPD. W...                  NaN   \n",
       "1409  (4-CHLORO-2-METHYLPHENOXY)ACETIC ACID COMPD. W...                  NaN   \n",
       "...                                                 ...                  ...   \n",
       "1698                                        trifluralin                  NaN   \n",
       "1024                                           vanadium                  NaN   \n",
       "1785                                           vanadium                  NaN   \n",
       "1913                                           vanadium                  NaN   \n",
       "1115                                      vinyl acetate                  NaN   \n",
       "\n",
       "          type unit version  \n",
       "412   emission          NaN  \n",
       "727   emission          NaN  \n",
       "945   emission          NaN  \n",
       "1256  emission          NaN  \n",
       "1409  emission          NaN  \n",
       "...        ...  ...     ...  \n",
       "1698  emission          NaN  \n",
       "1024  emission          NaN  \n",
       "1785  emission          NaN  \n",
       "1913  emission          NaN  \n",
       "1115  emission          NaN  \n",
       "\n",
       "[2649 rows x 18 columns]"
      ]
     },
     "execution_count": 6,
     "metadata": {},
     "output_type": "execute_result"
    }
   ],
   "source": [
    "df = bd.Database(\"US EEIO 1.1\").nodes_to_dataframe()\n",
    "df"
   ]
  },
  {
   "cell_type": "code",
   "execution_count": 7,
   "id": "28e80f62-c04c-4846-a23c-ee44410e405a",
   "metadata": {},
   "outputs": [],
   "source": [
    "def safe_joiner(x):\n",
    "    try:\n",
    "        if not x or np.isnan(x):\n",
    "            return None\n",
    "    except TypeError:\n",
    "        pass\n",
    "    return \"::\".join(x)"
   ]
  },
  {
   "cell_type": "code",
   "execution_count": 8,
   "id": "234f98c3-94fd-4e90-a2a8-b409aa887438",
   "metadata": {},
   "outputs": [],
   "source": [
    "df['categories'] = df['categories'].apply(safe_joiner)\n"
   ]
  },
  {
   "cell_type": "code",
   "execution_count": 9,
   "id": "d8cecbb7-666a-46b2-b280-edcd4cb34c0e",
   "metadata": {},
   "outputs": [],
   "source": [
    "def safe_converter(x):\n",
    "    try:\n",
    "        return str(int(x))\n",
    "    except:\n",
    "        return None"
   ]
  },
  {
   "cell_type": "code",
   "execution_count": 10,
   "id": "8de69250-810b-44f9-873b-14c79976d073",
   "metadata": {},
   "outputs": [],
   "source": [
    "df['CAS number'] = df['CAS number'].apply(safe_converter)\n"
   ]
  },
  {
   "cell_type": "code",
   "execution_count": 11,
   "id": "6d552cb2-6c86-4308-b332-f4bfcaf7427f",
   "metadata": {},
   "outputs": [],
   "source": [
    "df.to_csv(datadir / \"useeio_nodes.csv\", index=False)"
   ]
  },
  {
   "cell_type": "code",
   "execution_count": 12,
   "id": "a79a0b13-b0a9-4cbb-a220-6fcdb8c4703a",
   "metadata": {},
   "outputs": [
    {
     "name": "stdout",
     "output_type": "stream",
     "text": [
      "Getting activity data\n"
     ]
    },
    {
     "name": "stderr",
     "output_type": "stream",
     "text": [
      "100%|██████████████████████████████████████████████████████████████████████████| 2649/2649 [00:00<00:00, 188323.52it/s]"
     ]
    },
    {
     "name": "stdout",
     "output_type": "stream",
     "text": [
      "Adding exchange data to activities\n"
     ]
    },
    {
     "name": "stderr",
     "output_type": "stream",
     "text": [
      "\n",
      "100%|███████████████████████████████████████████████████████████████████████| 162926/162926 [00:05<00:00, 28857.83it/s]\n"
     ]
    },
    {
     "name": "stdout",
     "output_type": "stream",
     "text": [
      "Filling out exchange data\n"
     ]
    },
    {
     "name": "stderr",
     "output_type": "stream",
     "text": [
      "100%|███████████████████████████████████████████████████████████████████████████| 2649/2649 [00:00<00:00, 97589.07it/s]\n"
     ]
    },
    {
     "name": "stdout",
     "output_type": "stream",
     "text": [
      "Creating DataFrame\n",
      "Compressing DataFrame\n"
     ]
    }
   ],
   "source": [
    "\n",
    "bd.Database(\"US EEIO 1.1\").edges_to_dataframe().to_csv(datadir / \"useeio_edges.csv\", index=False)"
   ]
  },
  {
   "cell_type": "code",
   "execution_count": 13,
   "id": "3e60c680-1067-44b0-a977-c9e98364ccc7",
   "metadata": {},
   "outputs": [],
   "source": [
    "product = next(node for node in bd.Database(\"US EEIO 1.1\") if node['type'] == 'product')\n"
   ]
  },
  {
   "cell_type": "code",
   "execution_count": 14,
   "id": "5065a84a-cb00-4f5b-abb5-67d6f2fa8d5a",
   "metadata": {},
   "outputs": [
    {
     "name": "stdout",
     "output_type": "stream",
     "text": [
      "Biosphere database already present!!! No setup is needed\n"
     ]
    }
   ],
   "source": [
    "bi.bw2setup() #Importing elementary flows, LCIA methods and some other data"
   ]
  },
  {
   "cell_type": "code",
   "execution_count": 15,
   "id": "05568b3a-1e2b-41c7-93de-6950d51e9b5a",
   "metadata": {},
   "outputs": [
    {
     "data": {
      "text/plain": [
       "Databases dictionary with 2 object(s):\n",
       "\tUS EEIO 1.1\n",
       "\tbiosphere3"
      ]
     },
     "execution_count": 15,
     "metadata": {},
     "output_type": "execute_result"
    }
   ],
   "source": [
    "bd.databases\n"
   ]
  },
  {
   "cell_type": "code",
   "execution_count": 16,
   "id": "ca19dd8e-a073-4902-a3ea-b94c747751c4",
   "metadata": {},
   "outputs": [],
   "source": [
    "df=bd.Database(\"US EEIO 1.1\")\n"
   ]
  },
  {
   "cell_type": "markdown",
   "id": "19e8af32-ce56-42c4-9c14-6ccc8c7fa35f",
   "metadata": {
    "tags": []
   },
   "source": [
    "###  Get activities and methods"
   ]
  },
  {
   "cell_type": "markdown",
   "id": "acade620-4874-43e0-9437-c969e84d78e4",
   "metadata": {},
   "source": [
    "Get 2 activities and methods from the database"
   ]
  },
  {
   "cell_type": "code",
   "execution_count": 21,
   "id": "7c710767-b1f6-40db-b64d-4e0d9975e81f",
   "metadata": {},
   "outputs": [
    {
     "data": {
      "text/plain": [
       "'Metal windows, doors, and architectural products; at manufacturer' (, United States, ('31-33: Manufacturing', '3323: Architectural and Structural Metals Manufacturing'))"
      ]
     },
     "execution_count": 21,
     "metadata": {},
     "output_type": "execute_result"
    }
   ],
   "source": [
    "window_metal=next(node for node in bd.Database(\"US EEIO 1.1\") if node['type'] == 'product' if node['name']==\"Metal windows, doors, and architectural products; at manufacturer\")\n",
    "window_metal"
   ]
  },
  {
   "cell_type": "code",
   "execution_count": 22,
   "id": "4bb44a27-0edd-45f0-8e72-7e4acb99deec",
   "metadata": {},
   "outputs": [
    {
     "data": {
      "text/plain": [
       "'Wooden windows, door, and flooring; at manufacturer' (, United States, ('31-33: Manufacturing', '3219: Other Wood Product Manufacturing'))"
      ]
     },
     "execution_count": 22,
     "metadata": {},
     "output_type": "execute_result"
    }
   ],
   "source": [
    "window_wood=next(node for node in bd.Database(\"US EEIO 1.1\") if node['type'] == 'product' if node['name']==\"Wooden windows, door, and flooring; at manufacturer\")\n",
    "window_wood"
   ]
  },
  {
   "cell_type": "code",
   "execution_count": 23,
   "id": "f2755f87-304f-4329-98ef-336fbb928c09",
   "metadata": {},
   "outputs": [],
   "source": [
    "fu={window_metal:1,window_wood:1}"
   ]
  },
  {
   "cell_type": "code",
   "execution_count": 24,
   "id": "f2062ad7-2ed3-40ae-ba20-8ebf6051b828",
   "metadata": {},
   "outputs": [],
   "source": [
    "methods = [\n",
    "    ('Impact Potential', 'GCC'),\n",
    "    ('Impact Potential', 'HTOX'),\n",
    "    ('Resource Use', 'LAND'),\n",
    "    ('Resource Use', 'WATR'),\n",
    "]"
   ]
  },
  {
   "cell_type": "markdown",
   "id": "e2e88f64-9513-4349-b712-ffe976f6326b",
   "metadata": {
    "jp-MarkdownHeadingCollapsed": true,
    "tags": []
   },
   "source": [
    "### Defining colors"
   ]
  },
  {
   "cell_type": "code",
   "execution_count": 25,
   "id": "025a2537-7388-48b9-b3d1-7d9e2670eaaf",
   "metadata": {},
   "outputs": [],
   "source": [
    "#define standard color palette:\n",
    "colors = [\"#F08C2E\", \"#7f6000\", \"#72AF42\", \"#A32683\"]\n",
    "\n",
    "#create longer color list for complex figures\n",
    "color_div_YlBr=sns.color_palette('YlOrBr',6)\n",
    "color_seq_green=sns.color_palette('Greens',6)\n",
    "color_seq_RdPu=sns.color_palette('RdPu',6)\n",
    "color_seq_org=sns.color_palette('Oranges',5)\n",
    "\n",
    "colors.extend(colors)\n",
    "# colors.extend(color_div_YlBr)\n",
    "# colors.extend(color_seq_green)\n",
    "# colors.extend(color_seq_RdPu)\n",
    "# colors.extend(color_seq_org)\n",
    "\n",
    "df_color=pd.DataFrame(index=methods,data=[colors[c] for c in range(len(methods))]).T"
   ]
  },
  {
   "cell_type": "markdown",
   "id": "b12a1acf-1ca0-487d-8cdc-cbb9c2f25877",
   "metadata": {
    "jp-MarkdownHeadingCollapsed": true,
    "tags": []
   },
   "source": [
    "##  Perform basic lca computations"
   ]
  },
  {
   "cell_type": "code",
   "execution_count": 26,
   "id": "c97c208a-4f55-4695-a52b-d64c65d61734",
   "metadata": {},
   "outputs": [
    {
     "data": {
      "text/html": [
       "<div>\n",
       "<style scoped>\n",
       "    .dataframe tbody tr th:only-of-type {\n",
       "        vertical-align: middle;\n",
       "    }\n",
       "\n",
       "    .dataframe tbody tr th {\n",
       "        vertical-align: top;\n",
       "    }\n",
       "\n",
       "    .dataframe thead th {\n",
       "        text-align: right;\n",
       "    }\n",
       "</style>\n",
       "<table border=\"1\" class=\"dataframe\">\n",
       "  <thead>\n",
       "    <tr style=\"text-align: right;\">\n",
       "      <th></th>\n",
       "      <th>(Impact Potential, GCC)</th>\n",
       "    </tr>\n",
       "  </thead>\n",
       "  <tbody>\n",
       "    <tr>\n",
       "      <th>Metal windows, doors, and architectural products; at manufacturer</th>\n",
       "      <td>0.567139</td>\n",
       "    </tr>\n",
       "    <tr>\n",
       "      <th>Wooden windows, door, and flooring; at manufacturer</th>\n",
       "      <td>0.384134</td>\n",
       "    </tr>\n",
       "  </tbody>\n",
       "</table>\n",
       "</div>"
      ],
      "text/plain": [
       "                                                    (Impact Potential, GCC)\n",
       "Metal windows, doors, and architectural product...                 0.567139\n",
       "Wooden windows, door, and flooring; at manufact...                 0.384134"
      ]
     },
     "execution_count": 26,
     "metadata": {},
     "output_type": "execute_result"
    }
   ],
   "source": [
    "df=lca_comparison(fu, [methods[0]])\n",
    "df"
   ]
  },
  {
   "cell_type": "code",
   "execution_count": 27,
   "id": "54eb5447-c6b4-41fa-8167-dc033ebf9a65",
   "metadata": {},
   "outputs": [
    {
     "data": {
      "text/html": [
       "<div>\n",
       "<style scoped>\n",
       "    .dataframe tbody tr th:only-of-type {\n",
       "        vertical-align: middle;\n",
       "    }\n",
       "\n",
       "    .dataframe tbody tr th {\n",
       "        vertical-align: top;\n",
       "    }\n",
       "\n",
       "    .dataframe thead th {\n",
       "        text-align: right;\n",
       "    }\n",
       "</style>\n",
       "<table border=\"1\" class=\"dataframe\">\n",
       "  <thead>\n",
       "    <tr style=\"text-align: right;\">\n",
       "      <th></th>\n",
       "      <th>Metal windows, doors, and architectural products; at manufacturer</th>\n",
       "      <th>Wooden windows, door, and flooring; at manufacturer</th>\n",
       "    </tr>\n",
       "  </thead>\n",
       "  <tbody>\n",
       "    <tr>\n",
       "      <th>(Impact Potential, GCC)</th>\n",
       "      <td>100.0</td>\n",
       "      <td>67.731889</td>\n",
       "    </tr>\n",
       "  </tbody>\n",
       "</table>\n",
       "</div>"
      ],
      "text/plain": [
       "                         Metal windows, doors, and architectural products; at manufacturer  \\\n",
       "(Impact Potential, GCC)                                              100.0                   \n",
       "\n",
       "                         Wooden windows, door, and flooring; at manufacturer  \n",
       "(Impact Potential, GCC)                                          67.731889    "
      ]
     },
     "execution_count": 27,
     "metadata": {},
     "output_type": "execute_result"
    }
   ],
   "source": [
    "df_norm=df.T.apply(lambda x: x/x.max(), axis=1)*100 #to normalize the results for each impact category\n",
    "df_norm"
   ]
  },
  {
   "cell_type": "markdown",
   "id": "b11d3183-c4f7-4ed4-8b69-ec1a7e2fd8d8",
   "metadata": {
    "jp-MarkdownHeadingCollapsed": true,
    "tags": []
   },
   "source": [
    "## Perform a basic contribution analysis"
   ]
  },
  {
   "cell_type": "code",
   "execution_count": 28,
   "id": "d1afc24e-8c24-4235-9232-b5576ecd7a2c",
   "metadata": {},
   "outputs": [
    {
     "data": {
      "text/plain": [
       "'Metal windows, doors, and architectural products; at manufacturer' (, United States, ('31-33: Manufacturing', '3323: Architectural and Structural Metals Manufacturing'))"
      ]
     },
     "execution_count": 28,
     "metadata": {},
     "output_type": "execute_result"
    }
   ],
   "source": [
    "act_topscore(fu)"
   ]
  },
  {
   "cell_type": "code",
   "execution_count": 29,
   "id": "6eb97725-eb85-407a-97cf-44ac2a464d40",
   "metadata": {},
   "outputs": [
    {
     "data": {
      "text/html": [
       "<div>\n",
       "<style scoped>\n",
       "    .dataframe tbody tr th:only-of-type {\n",
       "        vertical-align: middle;\n",
       "    }\n",
       "\n",
       "    .dataframe tbody tr th {\n",
       "        vertical-align: top;\n",
       "    }\n",
       "\n",
       "    .dataframe thead th {\n",
       "        text-align: right;\n",
       "    }\n",
       "</style>\n",
       "<table border=\"1\" class=\"dataframe\">\n",
       "  <thead>\n",
       "    <tr style=\"text-align: right;\">\n",
       "      <th></th>\n",
       "      <th>(Impact Potential, GCC)</th>\n",
       "    </tr>\n",
       "  </thead>\n",
       "  <tbody>\n",
       "    <tr>\n",
       "      <th>Natural gas; at consumer</th>\n",
       "      <td>4.746876</td>\n",
       "    </tr>\n",
       "    <tr>\n",
       "      <th>Truck transport</th>\n",
       "      <td>6.116044</td>\n",
       "    </tr>\n",
       "    <tr>\n",
       "      <th>Coal; at mine</th>\n",
       "      <td>6.409533</td>\n",
       "    </tr>\n",
       "    <tr>\n",
       "      <th>Electricity; at consumer</th>\n",
       "      <td>21.308793</td>\n",
       "    </tr>\n",
       "    <tr>\n",
       "      <th>Primary iron, steel, and ferroalloy products; at manufacturer</th>\n",
       "      <td>27.927123</td>\n",
       "    </tr>\n",
       "    <tr>\n",
       "      <th>Others</th>\n",
       "      <td>33.491631</td>\n",
       "    </tr>\n",
       "  </tbody>\n",
       "</table>\n",
       "</div>"
      ],
      "text/plain": [
       "                                                    (Impact Potential, GCC)\n",
       "Natural gas; at consumer                                           4.746876\n",
       "Truck transport                                                    6.116044\n",
       "Coal; at mine                                                      6.409533\n",
       "Electricity; at consumer                                          21.308793\n",
       "Primary iron, steel, and ferroalloy products; a...                27.927123\n",
       "Others                                                            33.491631"
      ]
     },
     "execution_count": 29,
     "metadata": {},
     "output_type": "execute_result"
    }
   ],
   "source": [
    "df=contributions_df(window_metal,methods[0],limit=5,limit_type='number',norm=True)\n",
    "df"
   ]
  },
  {
   "cell_type": "code",
   "execution_count": 30,
   "id": "034137e2-3fa3-482a-a7c3-71493b139f12",
   "metadata": {},
   "outputs": [
    {
     "data": {
      "text/plain": [
       "100.0"
      ]
     },
     "execution_count": 30,
     "metadata": {},
     "output_type": "execute_result"
    }
   ],
   "source": [
    "df.values.sum()"
   ]
  },
  {
   "cell_type": "markdown",
   "id": "a7524732-b07b-49e8-a421-25d0e443f114",
   "metadata": {},
   "source": [
    "## Display all thes informations in a nice dashboard"
   ]
  },
  {
   "cell_type": "markdown",
   "id": "ed2ef574-052c-479d-abe2-dbeed35be06e",
   "metadata": {
    "tags": []
   },
   "source": [
    "### Dashboard compare"
   ]
  },
  {
   "cell_type": "code",
   "execution_count": 34,
   "id": "7f709172-b208-44ea-9cd5-d7eea7b920b9",
   "metadata": {},
   "outputs": [
    {
     "data": {
      "application/vnd.jupyter.widget-view+json": {
       "model_id": "a1a5112a006540aeb7d130bbe509565d",
       "version_major": 2,
       "version_minor": 0
      },
      "text/plain": [
       "Tab(children=(Output(), Output()), selected_index=0, titles=('Reference indicator', 'All indicators'))"
      ]
     },
     "metadata": {},
     "output_type": "display_data"
    }
   ],
   "source": [
    "compare(fu, methods, sharex=False, cols=2, func_unit=\"kg\")"
   ]
  },
  {
   "cell_type": "markdown",
   "id": "04030ddb-8a71-4ffd-bbb5-9837518fa0cb",
   "metadata": {
    "tags": []
   },
   "source": [
    "### Dashboard hotspots"
   ]
  },
  {
   "cell_type": "code",
   "execution_count": 32,
   "id": "8298689f-097b-494b-b29c-4f97f19f1f8f",
   "metadata": {},
   "outputs": [
    {
     "data": {
      "application/vnd.jupyter.widget-view+json": {
       "model_id": "a9707056add04fadad8db87a5cee3816",
       "version_major": 2,
       "version_minor": 0
      },
      "text/plain": [
       "Tab(children=(Output(), Output(), Output(), Output()), selected_index=0, titles=('on Impact Potential [GCC]', …"
      ]
     },
     "metadata": {},
     "output_type": "display_data"
    },
    {
     "data": {
      "application/vnd.jupyter.widget-view+json": {
       "model_id": "5192c864f1c74e6ab6b021458b9afa0d",
       "version_major": 2,
       "version_minor": 0
      },
      "text/plain": [
       "Tab(children=(Output(), Output(), Output(), Output()), selected_index=0, titles=('on Impact Potential [GCC]', …"
      ]
     },
     "metadata": {},
     "output_type": "display_data"
    }
   ],
   "source": [
    "hotspots(fu, methods, limit=0.02)"
   ]
  },
  {
   "cell_type": "markdown",
   "id": "dd9554c2-4955-437b-99a5-c26d4becc7b0",
   "metadata": {
    "tags": []
   },
   "source": [
    "### Dashboard impact_transfer"
   ]
  },
  {
   "cell_type": "code",
   "execution_count": null,
   "id": "d5df430f-2d2a-4cd9-96d2-9c11a38a40c1",
   "metadata": {},
   "outputs": [
    {
     "data": {
      "application/vnd.jupyter.widget-view+json": {
       "model_id": "f7be1de02f5344119b02e3e1568fc90a",
       "version_major": 2,
       "version_minor": 0
      },
      "text/plain": [
       "Tab(children=(Output(), Output(), Output(), Output()), selected_index=0, titles=('Impact transfer', 'Heatmap',…"
      ]
     },
     "metadata": {},
     "output_type": "display_data"
    }
   ],
   "source": [
    "impact_transfer({window_metal:1,window_wood:1}, methods, reference_category=('Impact Potential', 'GCC'),limit=5, cols=2, func_unit=\"kWh\")"
   ]
  },
  {
   "cell_type": "markdown",
   "id": "b7830bec-54d8-43af-bb14-760ea13645e6",
   "metadata": {},
   "source": [
    "## Generic function : lca_graphic"
   ]
  },
  {
   "cell_type": "code",
   "execution_count": 40,
   "id": "0eca8ecb-2006-4eab-a661-65569b33f095",
   "metadata": {},
   "outputs": [
    {
     "data": {
      "application/vnd.jupyter.widget-view+json": {
       "model_id": "59798e1de5ba42fca8e37a7c547ae607",
       "version_major": 2,
       "version_minor": 0
      },
      "text/plain": [
       "Tab(children=(Output(), Output()), selected_index=0, titles=('Reference indicator', 'All indicators'))"
      ]
     },
     "metadata": {},
     "output_type": "display_data"
    },
    {
     "data": {
      "application/vnd.jupyter.widget-view+json": {
       "model_id": "ea248b77ba4f401fb55159c6ad14bad3",
       "version_major": 2,
       "version_minor": 0
      },
      "text/plain": [
       "Tab(children=(Output(), Output(), Output(), Output()), selected_index=0, titles=('Impact transfer', 'Heatmap',…"
      ]
     },
     "metadata": {},
     "output_type": "display_data"
    },
    {
     "data": {
      "application/vnd.jupyter.widget-view+json": {
       "model_id": "ad14af51cd8e4a06a9de08240e965e53",
       "version_major": 2,
       "version_minor": 0
      },
      "text/plain": [
       "Tab(children=(Output(), Output(), Output(), Output()), selected_index=0, titles=('on Impact Potential [GCC]', …"
      ]
     },
     "metadata": {},
     "output_type": "display_data"
    },
    {
     "data": {
      "application/vnd.jupyter.widget-view+json": {
       "model_id": "1c4f0f04a9c6467ba38cf2aa861ab673",
       "version_major": 2,
       "version_minor": 0
      },
      "text/plain": [
       "Tab(children=(Output(), Output(), Output(), Output()), selected_index=0, titles=('on Impact Potential [GCC]', …"
      ]
     },
     "metadata": {},
     "output_type": "display_data"
    }
   ],
   "source": [
    "lca_graphic({window_metal:1,window_wood:1},methods, reference_category=('Impact Potential', 'GCC'), func_unit=\"kg\")"
   ]
  },
  {
   "cell_type": "code",
   "execution_count": 41,
   "id": "e36d784a-eb6b-42bd-acec-c80992a3cef6",
   "metadata": {},
   "outputs": [
    {
     "data": {
      "application/vnd.jupyter.widget-view+json": {
       "model_id": "45dbf930ee8540118d8e649af28b26da",
       "version_major": 2,
       "version_minor": 0
      },
      "text/plain": [
       "Tab(children=(Output(), Output()), selected_index=0, titles=('Reference indicator', 'All indicators'))"
      ]
     },
     "metadata": {},
     "output_type": "display_data"
    },
    {
     "data": {
      "application/vnd.jupyter.widget-view+json": {
       "model_id": "339b9ef3252f4b58a2bd32f3a6c07fb3",
       "version_major": 2,
       "version_minor": 0
      },
      "text/plain": [
       "Tab(children=(Output(), Output(), Output(), Output()), selected_index=0, titles=('Impact transfer', 'Heatmap',…"
      ]
     },
     "metadata": {},
     "output_type": "display_data"
    },
    {
     "data": {
      "application/vnd.jupyter.widget-view+json": {
       "model_id": "927491cabb3a4b9c9ce51dbc8a30b38b",
       "version_major": 2,
       "version_minor": 0
      },
      "text/plain": [
       "Tab(children=(Output(), Output(), Output(), Output()), selected_index=0, titles=('on Impact Potential [GCC]', …"
      ]
     },
     "metadata": {},
     "output_type": "display_data"
    },
    {
     "data": {
      "application/vnd.jupyter.widget-view+json": {
       "model_id": "18eef1bc11b34d62a5310a8fa98da6b4",
       "version_major": 2,
       "version_minor": 0
      },
      "text/plain": [
       "Tab(children=(Output(), Output(), Output(), Output()), selected_index=0, titles=('on Impact Potential [GCC]', …"
      ]
     },
     "metadata": {},
     "output_type": "display_data"
    }
   ],
   "source": [
    "lca_graphic(fu, methods)"
   ]
  },
  {
   "cell_type": "code",
   "execution_count": 44,
   "id": "9c61cce0-a60c-44a7-8a1b-513c3cf2a001",
   "metadata": {},
   "outputs": [
    {
     "data": {
      "application/vnd.jupyter.widget-view+json": {
       "model_id": "b2e8bf89c497483eb7bad3cc5eec7c3b",
       "version_major": 2,
       "version_minor": 0
      },
      "text/plain": [
       "Tab(children=(Output(), Output()), selected_index=0, titles=('Reference indicator', 'All indicators'))"
      ]
     },
     "metadata": {},
     "output_type": "display_data"
    },
    {
     "data": {
      "application/vnd.jupyter.widget-view+json": {
       "model_id": "2110b1f637c14d07a31c1323376518ec",
       "version_major": 2,
       "version_minor": 0
      },
      "text/plain": [
       "Tab(children=(Output(), Output(), Output(), Output()), selected_index=0, titles=('Impact transfer', 'Heatmap',…"
      ]
     },
     "metadata": {},
     "output_type": "display_data"
    },
    {
     "data": {
      "application/vnd.jupyter.widget-view+json": {
       "model_id": "7dcb9893877a4043a1da715fb1b51bd0",
       "version_major": 2,
       "version_minor": 0
      },
      "text/plain": [
       "Tab(children=(Output(), Output(), Output(), Output()), selected_index=0, titles=('on Impact Potential [GCC]', …"
      ]
     },
     "metadata": {},
     "output_type": "display_data"
    },
    {
     "data": {
      "application/vnd.jupyter.widget-view+json": {
       "model_id": "b0acca33dc974a329abd73ea0b262e3e",
       "version_major": 2,
       "version_minor": 0
      },
      "text/plain": [
       "Tab(children=(Output(), Output(), Output(), Output()), selected_index=0, titles=('on Impact Potential [GCC]', …"
      ]
     },
     "metadata": {},
     "output_type": "display_data"
    }
   ],
   "source": [
    "lca_graphic(fu,methods)"
   ]
  },
  {
   "cell_type": "code",
   "execution_count": 45,
   "id": "f28a3172-fbc1-4309-a35b-04641d1e1a5d",
   "metadata": {},
   "outputs": [
    {
     "data": {
      "application/vnd.jupyter.widget-view+json": {
       "model_id": "6d9d90c952614bbe8102afeda501600c",
       "version_major": 2,
       "version_minor": 0
      },
      "text/plain": [
       "Tab(children=(Output(), Output()), selected_index=0, titles=('Reference indicator', 'All indicators'))"
      ]
     },
     "metadata": {},
     "output_type": "display_data"
    },
    {
     "data": {
      "application/vnd.jupyter.widget-view+json": {
       "model_id": "233ee75a1f7144d4955b6c06af43e9e5",
       "version_major": 2,
       "version_minor": 0
      },
      "text/plain": [
       "Tab(children=(Output(), Output(), Output(), Output()), selected_index=0, titles=('Impact transfer', 'Heatmap',…"
      ]
     },
     "metadata": {},
     "output_type": "display_data"
    },
    {
     "data": {
      "application/vnd.jupyter.widget-view+json": {
       "model_id": "36505a296721468a916bd3977f64555c",
       "version_major": 2,
       "version_minor": 0
      },
      "text/plain": [
       "Tab(children=(Output(), Output(), Output(), Output()), selected_index=0, titles=('on Impact Potential [GCC]', …"
      ]
     },
     "metadata": {},
     "output_type": "display_data"
    },
    {
     "data": {
      "application/vnd.jupyter.widget-view+json": {
       "model_id": "f1ea2203679343da8fba01a22329b808",
       "version_major": 2,
       "version_minor": 0
      },
      "text/plain": [
       "Tab(children=(Output(), Output(), Output(), Output()), selected_index=0, titles=('on Impact Potential [GCC]', …"
      ]
     },
     "metadata": {},
     "output_type": "display_data"
    }
   ],
   "source": [
    "lca_graphic(fu,methods)"
   ]
  },
  {
   "cell_type": "code",
   "execution_count": 47,
   "id": "21a261d7-f87b-40f1-ae28-ac20c4b9d93d",
   "metadata": {},
   "outputs": [
    {
     "data": {
      "application/vnd.jupyter.widget-view+json": {
       "model_id": "0bca0e27141c43a5bf6afb39c2520771",
       "version_major": 2,
       "version_minor": 0
      },
      "text/plain": [
       "Tab(children=(Output(), Output()), selected_index=0, titles=('Reference indicator', 'All indicators'))"
      ]
     },
     "metadata": {},
     "output_type": "display_data"
    },
    {
     "data": {
      "application/vnd.jupyter.widget-view+json": {
       "model_id": "4d37216cca4d4626885093dd89e9d241",
       "version_major": 2,
       "version_minor": 0
      },
      "text/plain": [
       "Tab(children=(Output(), Output(), Output(), Output()), selected_index=0, titles=('Impact transfer', 'Heatmap',…"
      ]
     },
     "metadata": {},
     "output_type": "display_data"
    },
    {
     "data": {
      "application/vnd.jupyter.widget-view+json": {
       "model_id": "245dce764ab24401bcd41ac43fc1ed67",
       "version_major": 2,
       "version_minor": 0
      },
      "text/plain": [
       "Tab(children=(Output(), Output(), Output(), Output()), selected_index=0, titles=('on Impact Potential [GCC]', …"
      ]
     },
     "metadata": {},
     "output_type": "display_data"
    },
    {
     "data": {
      "application/vnd.jupyter.widget-view+json": {
       "model_id": "b16ce2c40fdb43e18b088f93b026f3ca",
       "version_major": 2,
       "version_minor": 0
      },
      "text/plain": [
       "Tab(children=(Output(), Output(), Output(), Output()), selected_index=0, titles=('on Impact Potential [GCC]', …"
      ]
     },
     "metadata": {},
     "output_type": "display_data"
    }
   ],
   "source": [
    "lca_graphic(fu,methods)"
   ]
  },
  {
   "cell_type": "code",
   "execution_count": 48,
   "id": "e9ed3aa8-0707-4117-a611-491ba2292585",
   "metadata": {},
   "outputs": [
    {
     "data": {
      "application/vnd.jupyter.widget-view+json": {
       "model_id": "98760dae808e4848aa8dee2ee27fb158",
       "version_major": 2,
       "version_minor": 0
      },
      "text/plain": [
       "Tab(children=(Output(), Output()), selected_index=0, titles=('Reference indicator', 'All indicators'))"
      ]
     },
     "metadata": {},
     "output_type": "display_data"
    },
    {
     "data": {
      "application/vnd.jupyter.widget-view+json": {
       "model_id": "58e41a7f39eb4e0891b8dacf45d92134",
       "version_major": 2,
       "version_minor": 0
      },
      "text/plain": [
       "Tab(children=(Output(), Output(), Output(), Output()), selected_index=0, titles=('Impact transfer', 'Heatmap',…"
      ]
     },
     "metadata": {},
     "output_type": "display_data"
    },
    {
     "data": {
      "application/vnd.jupyter.widget-view+json": {
       "model_id": "bdd7696415be403d8637f431963b21eb",
       "version_major": 2,
       "version_minor": 0
      },
      "text/plain": [
       "Tab(children=(Output(), Output(), Output(), Output()), selected_index=0, titles=('on Impact Potential [GCC]', …"
      ]
     },
     "metadata": {},
     "output_type": "display_data"
    },
    {
     "data": {
      "application/vnd.jupyter.widget-view+json": {
       "model_id": "e29c0334ebf84d0a86bdb05885d2070a",
       "version_major": 2,
       "version_minor": 0
      },
      "text/plain": [
       "Tab(children=(Output(), Output(), Output(), Output()), selected_index=0, titles=('on Impact Potential [GCC]', …"
      ]
     },
     "metadata": {},
     "output_type": "display_data"
    }
   ],
   "source": [
    "lca_graphic(fu,methods)"
   ]
  },
  {
   "cell_type": "code",
   "execution_count": null,
   "id": "4e54ac9d-cbc4-4f5e-9e87-cb521295bc81",
   "metadata": {},
   "outputs": [],
   "source": []
  }
 ],
 "metadata": {
  "kernelspec": {
   "display_name": "Python 3 (ipykernel)",
   "language": "python",
   "name": "python3"
  },
  "language_info": {
   "codemirror_mode": {
    "name": "ipython",
    "version": 3
   },
   "file_extension": ".py",
   "mimetype": "text/x-python",
   "name": "python",
   "nbconvert_exporter": "python",
   "pygments_lexer": "ipython3",
   "version": "3.11.0"
  },
  "vscode": {
   "interpreter": {
    "hash": "5f417be04f91f0718b989f3234292f09cafb7263a3fd4fa9e204297b1fa5cd6f"
   }
  }
 },
 "nbformat": 4,
 "nbformat_minor": 5
}
