{
 "cells": [
  {
   "cell_type": "markdown",
   "id": "e612716f-70a0-4a2d-b0dd-9854a0ccf2f6",
   "metadata": {},
   "source": [
    "# *``lca_graphic``* : **A toolbox for daily LCA users**"
   ]
  },
  {
   "cell_type": "markdown",
   "id": "f2ff7e1f-8c4f-4dea-9fd5-c3d4486b2662",
   "metadata": {},
   "source": [
    "---\n",
    "\n",
    "**Purpose = to give understandable graphs for the daily LCA users to quickly analyze his LCA**\n",
    "<br>\n",
    "---\n",
    "\n",
    "**Author** : Teo Lavisse, teo.lavisse@cea.fr       \n"
   ]
  },
  {
   "cell_type": "markdown",
   "id": "a4da6a81-21ca-4635-9b8f-18d286d83e52",
   "metadata": {
    "tags": []
   },
   "source": [
    "## Initializing"
   ]
  },
  {
   "cell_type": "code",
   "execution_count": 1,
   "id": "1dd4042e-1a62-43a0-a2b9-ce24ea189760",
   "metadata": {},
   "outputs": [],
   "source": [
    "import bw2data as bd\n",
    "import bw2calc as bc\n",
    "import bw2io as bi\n",
    "import numpy as np\n",
    "import matplotlib.pyplot as plt\n",
    "from pathlib import Path\n",
    "import pandas as pd\n",
    "import json\n",
    "import os\n",
    "import matrix_utils as mu\n",
    "import bw_processing as bp\n",
    "import math\n",
    "import warnings\n",
    "import ipywidgets as widgets\n",
    "from ipywidgets import interact\n",
    "import bw2analyzer as ba\n",
    "import seaborn as sns\n",
    "import textwrap\n",
    "\n",
    "from utils import *\n",
    "from dashboards import *"
   ]
  },
  {
   "cell_type": "code",
   "execution_count": 2,
   "id": "f805dca7-63e1-4c80-931c-96b54dbfb426",
   "metadata": {},
   "outputs": [],
   "source": [
    "bd.projects.set_current(\"Visualization\")"
   ]
  },
  {
   "cell_type": "markdown",
   "id": "8c234f2f-75de-4d34-8676-12f4b7ec61db",
   "metadata": {
    "tags": []
   },
   "source": [
    "### Importing Databases"
   ]
  },
  {
   "cell_type": "code",
   "execution_count": 3,
   "id": "05568b3a-1e2b-41c7-93de-6950d51e9b5a",
   "metadata": {},
   "outputs": [
    {
     "data": {
      "text/plain": [
       "Databases dictionary with 3 object(s):\n",
       "\tUS EEIO 1.1\n",
       "\tbiosphere3\n",
       "\tecoinvent 3.9_cutoff"
      ]
     },
     "execution_count": 3,
     "metadata": {},
     "output_type": "execute_result"
    }
   ],
   "source": [
    "bd.databases\n"
   ]
  },
  {
   "cell_type": "code",
   "execution_count": 4,
   "id": "ca19dd8e-a073-4902-a3ea-b94c747751c4",
   "metadata": {},
   "outputs": [],
   "source": [
    "db_USLCI=bd.Database(\"US EEIO 1.1\")\n",
    "db_EI=bd.Database(\"ecoinvent 3.9_cutoff\")"
   ]
  },
  {
   "cell_type": "markdown",
   "id": "19e8af32-ce56-42c4-9c14-6ccc8c7fa35f",
   "metadata": {
    "tags": []
   },
   "source": [
    "###  Get activities and methods"
   ]
  },
  {
   "cell_type": "markdown",
   "id": "6af2612b-e376-4d88-844b-901bc402a531",
   "metadata": {
    "tags": []
   },
   "source": [
    "#### US LCI"
   ]
  },
  {
   "cell_type": "markdown",
   "id": "acade620-4874-43e0-9437-c969e84d78e4",
   "metadata": {},
   "source": [
    "Get 2 activities and methods from the database"
   ]
  },
  {
   "cell_type": "code",
   "execution_count": 5,
   "id": "7c710767-b1f6-40db-b64d-4e0d9975e81f",
   "metadata": {},
   "outputs": [
    {
     "data": {
      "text/plain": [
       "'Metal windows, doors, and architectural products; at manufacturer' (, United States, ('31-33: Manufacturing', '3323: Architectural and Structural Metals Manufacturing'))"
      ]
     },
     "execution_count": 5,
     "metadata": {},
     "output_type": "execute_result"
    }
   ],
   "source": [
    "window_metal=next(node for node in db_USLCI if node['type'] == 'product' if node['name']==\"Metal windows, doors, and architectural products; at manufacturer\")\n",
    "window_metal"
   ]
  },
  {
   "cell_type": "code",
   "execution_count": 6,
   "id": "4bb44a27-0edd-45f0-8e72-7e4acb99deec",
   "metadata": {},
   "outputs": [
    {
     "data": {
      "text/plain": [
       "'Wooden windows, door, and flooring; at manufacturer' (, United States, ('31-33: Manufacturing', '3219: Other Wood Product Manufacturing'))"
      ]
     },
     "execution_count": 6,
     "metadata": {},
     "output_type": "execute_result"
    }
   ],
   "source": [
    "window_wood=next(node for node in db_USLCI if node['type'] == 'product' if node['name']==\"Wooden windows, door, and flooring; at manufacturer\")\n",
    "window_wood"
   ]
  },
  {
   "cell_type": "code",
   "execution_count": 7,
   "id": "f2755f87-304f-4329-98ef-336fbb928c09",
   "metadata": {},
   "outputs": [],
   "source": [
    "fu={window_metal:1,window_wood:1}"
   ]
  },
  {
   "cell_type": "code",
   "execution_count": 8,
   "id": "f2062ad7-2ed3-40ae-ba20-8ebf6051b828",
   "metadata": {},
   "outputs": [],
   "source": [
    "methods = [\n",
    "    ('Impact Potential', 'GCC'),\n",
    "    ('Impact Potential', 'HTOX'),\n",
    "    ('Resource Use', 'LAND'),\n",
    "    ('Resource Use', 'WATR'),\n",
    "]"
   ]
  },
  {
   "cell_type": "markdown",
   "id": "e54c56da-bb0d-45ee-982f-83e91a76b18b",
   "metadata": {},
   "source": [
    "#### EI"
   ]
  },
  {
   "cell_type": "code",
   "execution_count": 9,
   "id": "c9a190b9-8af1-4447-9a21-e2a65ee67aca",
   "metadata": {},
   "outputs": [],
   "source": [
    "act1 = db_EI.random()\n",
    "act2 = bd.get_activity(database=\"ecoinvent 3.9_cutoff\", name=\"market group for waste wood, untreated\", location=\"Europe without Switzerland\")\n",
    "\n",
    "fu = {act1: 1, act2: 1}"
   ]
  },
  {
   "cell_type": "code",
   "execution_count": 10,
   "id": "c087e343-bdf9-4faa-ab5a-d47d5a8b8921",
   "metadata": {},
   "outputs": [],
   "source": [
    "CC = [method for method in bd.methods if \"IPCC 2021\" in str(method) and \"GWP100\" in str(method)][0]\n",
    "ADP = [method for method in bd.methods if \"ADP\" in str(method) if \"ultimate reserves\" in str(method) if 'EF v3.1 no LT' in str(method)][0]\n",
    "TOX = [method for method in bd.methods if \"human toxicity: carcinogenic no LT\" in str(method) if 'EF v3.1' in str(method)][0]\n",
    "\n",
    "impact_categories = [CC, ADP, TOX]"
   ]
  },
  {
   "cell_type": "code",
   "execution_count": 11,
   "id": "b3b07fe5-e3cf-45a2-87c9-760127fd7e98",
   "metadata": {},
   "outputs": [
    {
     "data": {
      "text/plain": [
       "{'mecoprop production' (kilogram, RoW, None): 1,\n",
       " 'market group for waste wood, untreated' (kilogram, Europe without Switzerland, None): 1}"
      ]
     },
     "execution_count": 11,
     "metadata": {},
     "output_type": "execute_result"
    }
   ],
   "source": [
    "fu"
   ]
  },
  {
   "cell_type": "markdown",
   "id": "b12a1acf-1ca0-487d-8cdc-cbb9c2f25877",
   "metadata": {
    "tags": []
   },
   "source": [
    "##  Perform basic lca computations"
   ]
  },
  {
   "cell_type": "code",
   "execution_count": 12,
   "id": "18a19d32-fa2d-43d9-882e-838a4a5e0a38",
   "metadata": {},
   "outputs": [
    {
     "data": {
      "text/plain": [
       "{'mecoprop production' (kilogram, RoW, None): 1,\n",
       " 'market group for waste wood, untreated' (kilogram, Europe without Switzerland, None): 1}"
      ]
     },
     "execution_count": 12,
     "metadata": {},
     "output_type": "execute_result"
    }
   ],
   "source": [
    "fu"
   ]
  },
  {
   "cell_type": "code",
   "execution_count": 13,
   "id": "c97c208a-4f55-4695-a52b-d64c65d61734",
   "metadata": {},
   "outputs": [
    {
     "data": {
      "text/html": [
       "<div>\n",
       "<style scoped>\n",
       "    .dataframe tbody tr th:only-of-type {\n",
       "        vertical-align: middle;\n",
       "    }\n",
       "\n",
       "    .dataframe tbody tr th {\n",
       "        vertical-align: top;\n",
       "    }\n",
       "\n",
       "    .dataframe thead th {\n",
       "        text-align: right;\n",
       "    }\n",
       "</style>\n",
       "<table border=\"1\" class=\"dataframe\">\n",
       "  <thead>\n",
       "    <tr style=\"text-align: right;\">\n",
       "      <th></th>\n",
       "      <th>(IPCC 2021 no LT, climate change no LT, global warming potential (GWP100) no LT)</th>\n",
       "      <th>(EF v3.1 no LT, material resources: metals/minerals no LT, abiotic depletion potential (ADP): elements (ultimate reserves) no LT)</th>\n",
       "      <th>(EF v3.1 no LT, human toxicity: carcinogenic no LT, comparative toxic unit for human (CTUh) no LT)</th>\n",
       "    </tr>\n",
       "  </thead>\n",
       "  <tbody>\n",
       "    <tr>\n",
       "      <th>mecoprop production</th>\n",
       "      <td>5.513712</td>\n",
       "      <td>5.931300e-05</td>\n",
       "      <td>7.086654e-09</td>\n",
       "    </tr>\n",
       "    <tr>\n",
       "      <th>market group for waste wood, untreated</th>\n",
       "      <td>-0.061967</td>\n",
       "      <td>-5.965131e-08</td>\n",
       "      <td>-2.150296e-10</td>\n",
       "    </tr>\n",
       "  </tbody>\n",
       "</table>\n",
       "</div>"
      ],
      "text/plain": [
       "                                        (IPCC 2021 no LT, climate change no LT, global warming potential (GWP100) no LT)  \\\n",
       "mecoprop production                                                              5.513712                                  \n",
       "market group for waste wood, untreated                                          -0.061967                                  \n",
       "\n",
       "                                        (EF v3.1 no LT, material resources: metals/minerals no LT, abiotic depletion potential (ADP): elements (ultimate reserves) no LT)  \\\n",
       "mecoprop production                                                          5.931300e-05                                                                                   \n",
       "market group for waste wood, untreated                                      -5.965131e-08                                                                                   \n",
       "\n",
       "                                        (EF v3.1 no LT, human toxicity: carcinogenic no LT, comparative toxic unit for human (CTUh) no LT)  \n",
       "mecoprop production                                                          7.086654e-09                                                   \n",
       "market group for waste wood, untreated                                      -2.150296e-10                                                   "
      ]
     },
     "execution_count": 13,
     "metadata": {},
     "output_type": "execute_result"
    }
   ],
   "source": [
    "df=lca_comparison(fu, impact_categories)\n",
    "df"
   ]
  },
  {
   "cell_type": "code",
   "execution_count": 14,
   "id": "54eb5447-c6b4-41fa-8167-dc033ebf9a65",
   "metadata": {},
   "outputs": [
    {
     "data": {
      "text/html": [
       "<div>\n",
       "<style scoped>\n",
       "    .dataframe tbody tr th:only-of-type {\n",
       "        vertical-align: middle;\n",
       "    }\n",
       "\n",
       "    .dataframe tbody tr th {\n",
       "        vertical-align: top;\n",
       "    }\n",
       "\n",
       "    .dataframe thead th {\n",
       "        text-align: right;\n",
       "    }\n",
       "</style>\n",
       "<table border=\"1\" class=\"dataframe\">\n",
       "  <thead>\n",
       "    <tr style=\"text-align: right;\">\n",
       "      <th></th>\n",
       "      <th>mecoprop production</th>\n",
       "      <th>market group for waste wood, untreated</th>\n",
       "    </tr>\n",
       "  </thead>\n",
       "  <tbody>\n",
       "    <tr>\n",
       "      <th>(IPCC 2021 no LT, climate change no LT, global warming potential (GWP100) no LT)</th>\n",
       "      <td>100.0</td>\n",
       "      <td>-1.123863</td>\n",
       "    </tr>\n",
       "    <tr>\n",
       "      <th>(EF v3.1 no LT, material resources: metals/minerals no LT, abiotic depletion potential (ADP): elements (ultimate reserves) no LT)</th>\n",
       "      <td>100.0</td>\n",
       "      <td>-0.100570</td>\n",
       "    </tr>\n",
       "    <tr>\n",
       "      <th>(EF v3.1 no LT, human toxicity: carcinogenic no LT, comparative toxic unit for human (CTUh) no LT)</th>\n",
       "      <td>100.0</td>\n",
       "      <td>-3.034290</td>\n",
       "    </tr>\n",
       "  </tbody>\n",
       "</table>\n",
       "</div>"
      ],
      "text/plain": [
       "                                                    mecoprop production  \\\n",
       "(IPCC 2021 no LT, climate change no LT, global ...                100.0   \n",
       "(EF v3.1 no LT, material resources: metals/mine...                100.0   \n",
       "(EF v3.1 no LT, human toxicity: carcinogenic no...                100.0   \n",
       "\n",
       "                                                    market group for waste wood, untreated  \n",
       "(IPCC 2021 no LT, climate change no LT, global ...                               -1.123863  \n",
       "(EF v3.1 no LT, material resources: metals/mine...                               -0.100570  \n",
       "(EF v3.1 no LT, human toxicity: carcinogenic no...                               -3.034290  "
      ]
     },
     "execution_count": 14,
     "metadata": {},
     "output_type": "execute_result"
    }
   ],
   "source": [
    "df_norm=df.T.apply(lambda x: x/x.max(), axis=1)*100 #to normalize the results for each impact category\n",
    "df_norm"
   ]
  },
  {
   "cell_type": "markdown",
   "id": "b11d3183-c4f7-4ed4-8b69-ec1a7e2fd8d8",
   "metadata": {
    "tags": []
   },
   "source": [
    "## Perform a basic contribution analysis"
   ]
  },
  {
   "cell_type": "code",
   "execution_count": 15,
   "id": "d1afc24e-8c24-4235-9232-b5576ecd7a2c",
   "metadata": {},
   "outputs": [
    {
     "data": {
      "text/plain": [
       "'mecoprop production' (kilogram, RoW, None)"
      ]
     },
     "execution_count": 15,
     "metadata": {},
     "output_type": "execute_result"
    }
   ],
   "source": [
    "act_topscore(fu, CC)"
   ]
  },
  {
   "cell_type": "code",
   "execution_count": 16,
   "id": "6eb97725-eb85-407a-97cf-44ac2a464d40",
   "metadata": {},
   "outputs": [],
   "source": [
    "df=contributions_df(act1,impact_categories[0],limit=5,limit_type='number',norm=True)\n"
   ]
  },
  {
   "cell_type": "code",
   "execution_count": 17,
   "id": "034137e2-3fa3-482a-a7c3-71493b139f12",
   "metadata": {},
   "outputs": [
    {
     "data": {
      "text/plain": [
       "100.0"
      ]
     },
     "execution_count": 17,
     "metadata": {},
     "output_type": "execute_result"
    }
   ],
   "source": [
    "df.values.sum()"
   ]
  },
  {
   "cell_type": "markdown",
   "id": "e2e88f64-9513-4349-b712-ffe976f6326b",
   "metadata": {
    "tags": []
   },
   "source": [
    "### Defining colors"
   ]
  },
  {
   "cell_type": "code",
   "execution_count": 18,
   "id": "025a2537-7388-48b9-b3d1-7d9e2670eaaf",
   "metadata": {},
   "outputs": [],
   "source": [
    "#define standard color palette:\n",
    "colors = [\"#F08C2E\", \"#7f6000\", \"#72AF42\", \"#A32683\"]\n",
    "\n",
    "#create longer color list for complex figures\n",
    "color_div_YlBr=sns.color_palette('YlOrBr',6)\n",
    "color_seq_green=sns.color_palette('Greens',6)\n",
    "color_seq_RdPu=sns.color_palette('RdPu',6)\n",
    "color_seq_org=sns.color_palette('Oranges',5)\n",
    "\n",
    "colors.extend(colors)\n",
    "# colors.extend(color_div_YlBr)\n",
    "# colors.extend(color_seq_green)\n",
    "# colors.extend(color_seq_RdPu)\n",
    "# colors.extend(color_seq_org)\n",
    "\n",
    "df_color=pd.DataFrame(index=methods,data=[colors[c] for c in range(len(methods))]).T"
   ]
  },
  {
   "cell_type": "markdown",
   "id": "a7524732-b07b-49e8-a421-25d0e443f114",
   "metadata": {},
   "source": [
    "## Display all thes informations in a nice dashboard"
   ]
  },
  {
   "cell_type": "markdown",
   "id": "ed2ef574-052c-479d-abe2-dbeed35be06e",
   "metadata": {
    "tags": []
   },
   "source": [
    "### Dashboard compare"
   ]
  },
  {
   "cell_type": "code",
   "execution_count": 19,
   "id": "7f709172-b208-44ea-9cd5-d7eea7b920b9",
   "metadata": {},
   "outputs": [
    {
     "data": {
      "application/vnd.jupyter.widget-view+json": {
       "model_id": "5465e1d48a614041bd4c0cc2e6c02508",
       "version_major": 2,
       "version_minor": 0
      },
      "text/plain": [
       "Tab(children=(Output(), Output()), selected_index=0, titles=('Reference indicator', 'All indicators'))"
      ]
     },
     "metadata": {},
     "output_type": "display_data"
    }
   ],
   "source": [
    "compare(fu, impact_categories, sharex=False, cols=2, func_unit=\"kg\")"
   ]
  },
  {
   "cell_type": "markdown",
   "id": "04030ddb-8a71-4ffd-bbb5-9837518fa0cb",
   "metadata": {
    "tags": []
   },
   "source": [
    "### Dashboard hotspots"
   ]
  },
  {
   "cell_type": "code",
   "execution_count": 20,
   "id": "8298689f-097b-494b-b29c-4f97f19f1f8f",
   "metadata": {},
   "outputs": [
    {
     "data": {
      "application/vnd.jupyter.widget-view+json": {
       "model_id": "27bbf825973044e9a1fcba86a0745936",
       "version_major": 2,
       "version_minor": 0
      },
      "text/plain": [
       "Tab(children=(Output(), Output(), Output()), selected_index=0, titles=('on climate change no LT', 'on material…"
      ]
     },
     "metadata": {},
     "output_type": "display_data"
    },
    {
     "data": {
      "application/vnd.jupyter.widget-view+json": {
       "model_id": "a019f74e65cc45cab92f6ee36908de45",
       "version_major": 2,
       "version_minor": 0
      },
      "text/plain": [
       "Tab(children=(Output(), Output(), Output()), selected_index=0, titles=('on climate change no LT', 'on material…"
      ]
     },
     "metadata": {},
     "output_type": "display_data"
    }
   ],
   "source": [
    "hotspots(fu, impact_categories, limit=0.05)"
   ]
  },
  {
   "cell_type": "markdown",
   "id": "dd9554c2-4955-437b-99a5-c26d4becc7b0",
   "metadata": {
    "tags": []
   },
   "source": [
    "### Dashboard impact_transfer"
   ]
  },
  {
   "cell_type": "code",
   "execution_count": 21,
   "id": "5fb4b44d-e75a-4d5c-bb3c-e001c02c3503",
   "metadata": {},
   "outputs": [
    {
     "ename": "KeyError",
     "evalue": "0",
     "output_type": "error",
     "traceback": [
      "\u001b[1;31m---------------------------------------------------------------------------\u001b[0m",
      "\u001b[1;31mKeyError\u001b[0m                                  Traceback (most recent call last)",
      "File \u001b[1;32m~\\.conda\\envs\\viz\\Lib\\site-packages\\pandas\\core\\indexes\\base.py:3803\u001b[0m, in \u001b[0;36mIndex.get_loc\u001b[1;34m(self, key, method, tolerance)\u001b[0m\n\u001b[0;32m   3802\u001b[0m \u001b[38;5;28;01mtry\u001b[39;00m:\n\u001b[1;32m-> 3803\u001b[0m     \u001b[38;5;28;01mreturn\u001b[39;00m \u001b[38;5;28mself\u001b[39m\u001b[38;5;241m.\u001b[39m_engine\u001b[38;5;241m.\u001b[39mget_loc(casted_key)\n\u001b[0;32m   3804\u001b[0m \u001b[38;5;28;01mexcept\u001b[39;00m \u001b[38;5;167;01mKeyError\u001b[39;00m \u001b[38;5;28;01mas\u001b[39;00m err:\n",
      "File \u001b[1;32m~\\.conda\\envs\\viz\\Lib\\site-packages\\pandas\\_libs\\index.pyx:138\u001b[0m, in \u001b[0;36mpandas._libs.index.IndexEngine.get_loc\u001b[1;34m()\u001b[0m\n",
      "File \u001b[1;32m~\\.conda\\envs\\viz\\Lib\\site-packages\\pandas\\_libs\\index.pyx:165\u001b[0m, in \u001b[0;36mpandas._libs.index.IndexEngine.get_loc\u001b[1;34m()\u001b[0m\n",
      "File \u001b[1;32mpandas\\_libs\\hashtable_class_helper.pxi:5745\u001b[0m, in \u001b[0;36mpandas._libs.hashtable.PyObjectHashTable.get_item\u001b[1;34m()\u001b[0m\n",
      "File \u001b[1;32mpandas\\_libs\\hashtable_class_helper.pxi:5753\u001b[0m, in \u001b[0;36mpandas._libs.hashtable.PyObjectHashTable.get_item\u001b[1;34m()\u001b[0m\n",
      "\u001b[1;31mKeyError\u001b[0m: 0",
      "\nThe above exception was the direct cause of the following exception:\n",
      "\u001b[1;31mKeyError\u001b[0m                                  Traceback (most recent call last)",
      "Cell \u001b[1;32mIn [21], line 16\u001b[0m\n\u001b[0;32m     14\u001b[0m \u001b[38;5;28;01mfor\u001b[39;00m m \u001b[38;5;129;01min\u001b[39;00m impact_categories:\n\u001b[0;32m     15\u001b[0m     \u001b[38;5;28;01mif\u001b[39;00m c \u001b[38;5;129;01min\u001b[39;00m contributions_by_category[m]\u001b[38;5;241m.\u001b[39mindex:\n\u001b[1;32m---> 16\u001b[0m         contributions_by_category[m]\u001b[38;5;241m.\u001b[39mloc[\u001b[38;5;124m'\u001b[39m\u001b[38;5;124mheat and power co-generation, lignite [PL]\u001b[39m\u001b[38;5;124m'\u001b[39m][\u001b[38;5;241m0\u001b[39m]\n",
      "File \u001b[1;32m~\\.conda\\envs\\viz\\Lib\\site-packages\\pandas\\core\\frame.py:3805\u001b[0m, in \u001b[0;36mDataFrame.__getitem__\u001b[1;34m(self, key)\u001b[0m\n\u001b[0;32m   3803\u001b[0m \u001b[38;5;28;01mif\u001b[39;00m \u001b[38;5;28mself\u001b[39m\u001b[38;5;241m.\u001b[39mcolumns\u001b[38;5;241m.\u001b[39mnlevels \u001b[38;5;241m>\u001b[39m \u001b[38;5;241m1\u001b[39m:\n\u001b[0;32m   3804\u001b[0m     \u001b[38;5;28;01mreturn\u001b[39;00m \u001b[38;5;28mself\u001b[39m\u001b[38;5;241m.\u001b[39m_getitem_multilevel(key)\n\u001b[1;32m-> 3805\u001b[0m indexer \u001b[38;5;241m=\u001b[39m \u001b[38;5;28mself\u001b[39m\u001b[38;5;241m.\u001b[39mcolumns\u001b[38;5;241m.\u001b[39mget_loc(key)\n\u001b[0;32m   3806\u001b[0m \u001b[38;5;28;01mif\u001b[39;00m is_integer(indexer):\n\u001b[0;32m   3807\u001b[0m     indexer \u001b[38;5;241m=\u001b[39m [indexer]\n",
      "File \u001b[1;32m~\\.conda\\envs\\viz\\Lib\\site-packages\\pandas\\core\\indexes\\base.py:3805\u001b[0m, in \u001b[0;36mIndex.get_loc\u001b[1;34m(self, key, method, tolerance)\u001b[0m\n\u001b[0;32m   3803\u001b[0m     \u001b[38;5;28;01mreturn\u001b[39;00m \u001b[38;5;28mself\u001b[39m\u001b[38;5;241m.\u001b[39m_engine\u001b[38;5;241m.\u001b[39mget_loc(casted_key)\n\u001b[0;32m   3804\u001b[0m \u001b[38;5;28;01mexcept\u001b[39;00m \u001b[38;5;167;01mKeyError\u001b[39;00m \u001b[38;5;28;01mas\u001b[39;00m err:\n\u001b[1;32m-> 3805\u001b[0m     \u001b[38;5;28;01mraise\u001b[39;00m \u001b[38;5;167;01mKeyError\u001b[39;00m(key) \u001b[38;5;28;01mfrom\u001b[39;00m \u001b[38;5;21;01merr\u001b[39;00m\n\u001b[0;32m   3806\u001b[0m \u001b[38;5;28;01mexcept\u001b[39;00m \u001b[38;5;167;01mTypeError\u001b[39;00m:\n\u001b[0;32m   3807\u001b[0m     \u001b[38;5;66;03m# If we have a listlike key, _check_indexing_error will raise\u001b[39;00m\n\u001b[0;32m   3808\u001b[0m     \u001b[38;5;66;03m#  InvalidIndexError. Otherwise we fall through and re-raise\u001b[39;00m\n\u001b[0;32m   3809\u001b[0m     \u001b[38;5;66;03m#  the TypeError.\u001b[39;00m\n\u001b[0;32m   3810\u001b[0m     \u001b[38;5;28mself\u001b[39m\u001b[38;5;241m.\u001b[39m_check_indexing_error(key)\n",
      "\u001b[1;31mKeyError\u001b[0m: 0"
     ]
    }
   ],
   "source": [
    "df = contributions_df(act1,CC,limit=5,limit_type='number',group_by_other=False,norm=True)\n",
    "top_contributors_reference = [a for a in df.index]\n",
    "\n",
    "#Compute the contributors for the other impact categories and gather it into a dictionnary\n",
    "contributions_by_category = {}\n",
    "for m in impact_categories:\n",
    "    contributions_by_category[m] = contributions_df(act1, m, limit=0.000001,norm=True) #  very small threshold to get almost every contributors\n",
    "\n",
    "# Create an empty dataframe with the top reference contributors as indexes and the impact categories as columns\n",
    "result_df = pd.DataFrame(columns=impact_categories, index=top_contributors_reference)\n",
    "\n",
    "# For each reference top contributor, check if it appears in the contributions dataframes stored in the dictionary\n",
    "for c in top_contributors_reference:\n",
    "    for m in impact_categories:\n",
    "        if c in contributions_by_category[m].index:\n",
    "            contributions_by_category[m].loc['heat and power co-generation, lignite [PL]'][0]"
   ]
  },
  {
   "cell_type": "code",
   "execution_count": 27,
   "id": "09a35165-cff0-47a2-8244-1e53415cecf5",
   "metadata": {},
   "outputs": [
    {
     "data": {
      "text/plain": [
       "{('IPCC 2021 no LT',\n",
       "  'climate change no LT',\n",
       "  'global warming potential (GWP100) no LT'):                                                     (IPCC 2021 no LT, climate change no LT, global warming potential (GWP100) no LT)\n",
       " urea production [RoW]                                                                       -0.004007                               \n",
       " urea production [CN]                                                                        -0.002324                               \n",
       " land already in use, pasture, man made to peren...                                          -0.001602                               \n",
       " urea production [RNA]                                                                       -0.000407                               \n",
       " land already in use, annual cropland to perenni...                                          -0.000293                               \n",
       " ...                                                                                               ...                               \n",
       " propylene production [RoW]                                                                   3.529268                               \n",
       " hard coal mine operation and hard coal preparat...                                           4.426555                               \n",
       " heat production, at hard coal industrial furnac...                                           4.679810                               \n",
       " mecoprop production [RoW]                                                                    5.142996                               \n",
       " benzene production [RoW]                                                                    10.102874                               \n",
       " \n",
       " [1764 rows x 1 columns],\n",
       " ('EF v3.1 no LT',\n",
       "  'material resources: metals/minerals no LT',\n",
       "  'abiotic depletion potential (ADP): elements (ultimate reserves) no LT'):                                                     (EF v3.1 no LT, material resources: metals/minerals no LT, abiotic depletion potential (ADP): elements (ultimate reserves) no LT)\n",
       " polyvinylidenchloride production, granulate [RoW]                                            0.000107                                                                                \n",
       " sodium percarbonate production, powder [RER]                                                 0.000115                                                                                \n",
       " soy-based resin production [RoW]                                                             0.000125                                                                                \n",
       " carbon tetrachloride production [RoW]                                                        0.000130                                                                                \n",
       " heavy mineral sand quarry operation [AU]                                                     0.000136                                                                                \n",
       " ...                                                                                               ...                                                                                \n",
       " copper mine operation and beneficiation, sulfid...                                           4.609392                                                                                \n",
       " gold mine operation and gold production, unrefi...                                           8.473488                                                                                \n",
       " copper mine operation and beneficiation, sulfid...                                          12.372440                                                                                \n",
       " copper mine operation and beneficiation, sulfid...                                          14.531188                                                                                \n",
       " sodium chloride production, powder [RoW]                                                    18.479556                                                                                \n",
       " \n",
       " [124 rows x 1 columns],\n",
       " ('EF v3.1 no LT',\n",
       "  'human toxicity: carcinogenic no LT',\n",
       "  'comparative toxic unit for human (CTUh) no LT'):                                                     (EF v3.1 no LT, human toxicity: carcinogenic no LT, comparative toxic unit for human (CTUh) no LT)\n",
       " sugarcane production [BR-SP]                                                                -0.000106                                                 \n",
       " treatment of residue from Na-dichromate product...                                           0.000101                                                 \n",
       " heat and power co-generation, wood chips, 6667 ...                                           0.000101                                                 \n",
       " treatment of sulfidic tailings, from zinc-lead ...                                           0.000101                                                 \n",
       " polyvinylchloride production, emulsion polymeri...                                           0.000101                                                 \n",
       " ...                                                                                               ...                                                 \n",
       " treatment of electric arc furnace slag, residua...                                           5.633393                                                 \n",
       " cumene production [RoW]                                                                      6.362922                                                 \n",
       " ferrochromium production, high-carbon, 68% Cr [...                                           6.563689                                                 \n",
       " mecoprop production [RoW]                                                                   13.147760                                                 \n",
       " coking [RoW]                                                                                36.446384                                                 \n",
       " \n",
       " [930 rows x 1 columns]}"
      ]
     },
     "execution_count": 27,
     "metadata": {},
     "output_type": "execute_result"
    }
   ],
   "source": [
    "contributions_by_category"
   ]
  },
  {
   "cell_type": "code",
   "execution_count": 25,
   "id": "05b8b4f9-8e9f-4959-b875-ed2f2a8ecf41",
   "metadata": {},
   "outputs": [
    {
     "ename": "TypeError",
     "evalue": "string indices must be integers, not 'str'",
     "output_type": "error",
     "traceback": [
      "\u001b[1;31m---------------------------------------------------------------------------\u001b[0m",
      "\u001b[1;31mTypeError\u001b[0m                                 Traceback (most recent call last)",
      "Cell \u001b[1;32mIn [25], line 4\u001b[0m\n\u001b[0;32m      2\u001b[0m \u001b[38;5;28;01mfor\u001b[39;00m i \u001b[38;5;129;01min\u001b[39;00m contributions_by_category[\u001b[38;5;28mlist\u001b[39m(contributions_by_category\u001b[38;5;241m.\u001b[39mkeys())[\u001b[38;5;241m0\u001b[39m]]\u001b[38;5;241m.\u001b[39mindex:\n\u001b[0;32m      3\u001b[0m     \u001b[38;5;28;01mif\u001b[39;00m i \u001b[38;5;129;01min\u001b[39;00m names:\n\u001b[1;32m----> 4\u001b[0m         \u001b[38;5;28mprint\u001b[39m(i[\u001b[38;5;124m'\u001b[39m\u001b[38;5;124mkey\u001b[39m\u001b[38;5;124m'\u001b[39m])\n\u001b[0;32m      5\u001b[0m     \u001b[38;5;28;01melse\u001b[39;00m:\n\u001b[0;32m      6\u001b[0m         names\u001b[38;5;241m.\u001b[39mappend(i)\n",
      "\u001b[1;31mTypeError\u001b[0m: string indices must be integers, not 'str'"
     ]
    }
   ],
   "source": [
    "names = []\n",
    "for i in contributions_by_category[list(contributions_by_category.keys())[0]].index:\n",
    "    if i in names:\n",
    "        print(i['key'])\n",
    "    else:\n",
    "        names.append(i)"
   ]
  },
  {
   "cell_type": "markdown",
   "id": "db16ad62-3808-4f57-a481-a8a0dada82d3",
   "metadata": {},
   "source": [
    "**problem** of the name : they are maybe contributors that have exactly the same name <br>\n",
    "**solution** : use id of the activities ?"
   ]
  },
  {
   "cell_type": "code",
   "execution_count": null,
   "id": "420afd40-8af2-4828-be3d-bd7c87311f35",
   "metadata": {},
   "outputs": [],
   "source": [
    "contributions_by_category['CC']"
   ]
  },
  {
   "cell_type": "code",
   "execution_count": null,
   "id": "354913f6-7a3d-4022-8a49-083f8ff1677a",
   "metadata": {},
   "outputs": [],
   "source": [
    "top_contributors_reference"
   ]
  },
  {
   "cell_type": "code",
   "execution_count": null,
   "id": "e8bc9805-7a2f-4fa9-94a0-5fc5cbe7db24",
   "metadata": {},
   "outputs": [],
   "source": [
    "for c in top_contributors_reference:\n",
    "    contributions_by_category[CC].loc[\"heat and power co-generation, hard coal [PL]\"][0]"
   ]
  },
  {
   "cell_type": "code",
   "execution_count": null,
   "id": "e42dc28b-c6af-4d19-a2e6-ece7162883f2",
   "metadata": {},
   "outputs": [],
   "source": [
    "top_contributors_reference"
   ]
  },
  {
   "cell_type": "code",
   "execution_count": null,
   "id": "9463abe5-8707-4c22-b471-8eb738eae42e",
   "metadata": {},
   "outputs": [],
   "source": [
    "result_df"
   ]
  },
  {
   "cell_type": "code",
   "execution_count": null,
   "id": "d5df430f-2d2a-4cd9-96d2-9c11a38a40c1",
   "metadata": {},
   "outputs": [],
   "source": [
    "impact_transfer({act1:1,act2:1}, impact_categories,limit=5, cols=2, func_unit=\"kWh\")"
   ]
  },
  {
   "cell_type": "markdown",
   "id": "b7830bec-54d8-43af-bb14-760ea13645e6",
   "metadata": {},
   "source": [
    "## Generic function : lca_graphic"
   ]
  },
  {
   "cell_type": "code",
   "execution_count": null,
   "id": "0eca8ecb-2006-4eab-a661-65569b33f095",
   "metadata": {},
   "outputs": [],
   "source": [
    "lca_graphic({window_metal:1,window_wood:1},methods, reference_category=('Impact Potential', 'GCC'), func_unit=\"kg\")"
   ]
  },
  {
   "cell_type": "code",
   "execution_count": null,
   "id": "e9ed3aa8-0707-4117-a611-491ba2292585",
   "metadata": {},
   "outputs": [],
   "source": [
    "lca_graphic(fu,impact_categories)"
   ]
  },
  {
   "cell_type": "code",
   "execution_count": null,
   "id": "4e54ac9d-cbc4-4f5e-9e87-cb521295bc81",
   "metadata": {},
   "outputs": [],
   "source": []
  }
 ],
 "metadata": {
  "kernelspec": {
   "display_name": "Python 3 (ipykernel)",
   "language": "python",
   "name": "python3"
  },
  "language_info": {
   "codemirror_mode": {
    "name": "ipython",
    "version": 3
   },
   "file_extension": ".py",
   "mimetype": "text/x-python",
   "name": "python",
   "nbconvert_exporter": "python",
   "pygments_lexer": "ipython3",
   "version": "3.11.0"
  },
  "vscode": {
   "interpreter": {
    "hash": "5f417be04f91f0718b989f3234292f09cafb7263a3fd4fa9e204297b1fa5cd6f"
   }
  }
 },
 "nbformat": 4,
 "nbformat_minor": 5
}
