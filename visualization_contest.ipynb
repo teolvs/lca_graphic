{
 "cells": [
  {
   "cell_type": "markdown",
   "id": "e612716f-70a0-4a2d-b0dd-9854a0ccf2f6",
   "metadata": {},
   "source": [
    "# *``lca_graphic``* : **A toolbox for daily LCA users**"
   ]
  },
  {
   "cell_type": "markdown",
   "id": "f2ff7e1f-8c4f-4dea-9fd5-c3d4486b2662",
   "metadata": {},
   "source": [
    "---\n",
    "**Purpose = to give understandable graphs for the daily LCA users to quickly analyze his LCA**\n",
    "<br>\n",
    "---\n",
    "Author : Teo Lavisse, teo.lavisse@cea.fr   \n",
    "Date : 28/11/2022\n",
    "---\n"
   ]
  },
  {
   "cell_type": "markdown",
   "id": "a4da6a81-21ca-4635-9b8f-18d286d83e52",
   "metadata": {
    "tags": []
   },
   "source": [
    "## Initializing"
   ]
  },
  {
   "cell_type": "code",
   "execution_count": 1,
   "id": "1dd4042e-1a62-43a0-a2b9-ce24ea189760",
   "metadata": {},
   "outputs": [],
   "source": [
    "import bw2data as bd\n",
    "import bw2calc as bc\n",
    "import bw2io as bi\n",
    "import numpy as np\n",
    "import matplotlib.pyplot as plt\n",
    "from pathlib import Path\n",
    "import pandas as pd\n",
    "import json\n",
    "import os\n",
    "import matrix_utils as mu\n",
    "import bw_processing as bp\n",
    "import math\n",
    "import warnings\n",
    "import ipywidgets as widgets\n",
    "from ipywidgets import interact\n",
    "import bw2analyzer as ba\n",
    "import seaborn as sns\n",
    "import textwrap\n"
   ]
  },
  {
   "cell_type": "code",
   "execution_count": 2,
   "id": "f805dca7-63e1-4c80-931c-96b54dbfb426",
   "metadata": {},
   "outputs": [],
   "source": [
    "bd.projects.set_current(\"Visualization\")"
   ]
  },
  {
   "cell_type": "markdown",
   "id": "8c234f2f-75de-4d34-8676-12f4b7ec61db",
   "metadata": {
    "jp-MarkdownHeadingCollapsed": true,
    "tags": []
   },
   "source": [
    "### Importing Databases"
   ]
  },
  {
   "cell_type": "code",
   "execution_count": 3,
   "id": "c989cfba-50b9-4df2-b3b4-60889947a469",
   "metadata": {},
   "outputs": [
    {
     "data": {
      "text/plain": [
       "Databases dictionary with 2 object(s):\n",
       "\tUS EEIO 1.1\n",
       "\tbiosphere3"
      ]
     },
     "execution_count": 3,
     "metadata": {},
     "output_type": "execute_result"
    }
   ],
   "source": [
    "bd.databases"
   ]
  },
  {
   "cell_type": "code",
   "execution_count": 4,
   "id": "bca03117-8c63-4d4d-b167-0cea0be04a91",
   "metadata": {},
   "outputs": [],
   "source": [
    "datadir = Path(\"data\")\n",
    "datadir.mkdir(exist_ok=True)"
   ]
  },
  {
   "cell_type": "code",
   "execution_count": 5,
   "id": "ca335eeb-df8a-405e-8f0e-c3313be4afcf",
   "metadata": {},
   "outputs": [
    {
     "name": "stdout",
     "output_type": "stream",
     "text": [
      "US EEIO 1.1 already present\n"
     ]
    }
   ],
   "source": [
    "bi.useeio11()"
   ]
  },
  {
   "cell_type": "code",
   "execution_count": 6,
   "id": "b0481cb1-1dec-4ee9-a5ae-9cb3c1091477",
   "metadata": {},
   "outputs": [
    {
     "data": {
      "text/html": [
       "<div>\n",
       "<style scoped>\n",
       "    .dataframe tbody tr th:only-of-type {\n",
       "        vertical-align: middle;\n",
       "    }\n",
       "\n",
       "    .dataframe tbody tr th {\n",
       "        vertical-align: top;\n",
       "    }\n",
       "\n",
       "    .dataframe thead th {\n",
       "        text-align: right;\n",
       "    }\n",
       "</style>\n",
       "<table border=\"1\" class=\"dataframe\">\n",
       "  <thead>\n",
       "    <tr style=\"text-align: right;\">\n",
       "      <th></th>\n",
       "      <th>CAS number</th>\n",
       "      <th>categories</th>\n",
       "      <th>classifications</th>\n",
       "      <th>code</th>\n",
       "      <th>database</th>\n",
       "      <th>description</th>\n",
       "      <th>dqEntry</th>\n",
       "      <th>dqSystem</th>\n",
       "      <th>exchangeDqSystem</th>\n",
       "      <th>filename</th>\n",
       "      <th>id</th>\n",
       "      <th>location</th>\n",
       "      <th>modified</th>\n",
       "      <th>name</th>\n",
       "      <th>processDocumentation</th>\n",
       "      <th>type</th>\n",
       "      <th>unit</th>\n",
       "      <th>version</th>\n",
       "    </tr>\n",
       "  </thead>\n",
       "  <tbody>\n",
       "    <tr>\n",
       "      <th>897</th>\n",
       "      <td></td>\n",
       "      <td>(air, low population density)</td>\n",
       "      <td>NaN</td>\n",
       "      <td>6ca23b5d-83dc-3b02-bf39-8eabf9d41151</td>\n",
       "      <td>US EEIO 1.1</td>\n",
       "      <td>NaN</td>\n",
       "      <td>NaN</td>\n",
       "      <td>NaN</td>\n",
       "      <td>NaN</td>\n",
       "      <td>NaN</td>\n",
       "      <td>1640</td>\n",
       "      <td>NaN</td>\n",
       "      <td>NaN</td>\n",
       "      <td>(2,4-DICHLOROPHENOXY)ACETIC ACID COMPD. WITH 2...</td>\n",
       "      <td>NaN</td>\n",
       "      <td>emission</td>\n",
       "      <td></td>\n",
       "      <td>NaN</td>\n",
       "    </tr>\n",
       "    <tr>\n",
       "      <th>1135</th>\n",
       "      <td></td>\n",
       "      <td>(water, unspecified)</td>\n",
       "      <td>NaN</td>\n",
       "      <td>2ee4697d-b7f4-362b-86a4-94b644699500</td>\n",
       "      <td>US EEIO 1.1</td>\n",
       "      <td>NaN</td>\n",
       "      <td>NaN</td>\n",
       "      <td>NaN</td>\n",
       "      <td>NaN</td>\n",
       "      <td>NaN</td>\n",
       "      <td>1134</td>\n",
       "      <td>NaN</td>\n",
       "      <td>NaN</td>\n",
       "      <td>(2,4-DICHLOROPHENOXY)ACETIC ACID COMPD. WITH 2...</td>\n",
       "      <td>NaN</td>\n",
       "      <td>emission</td>\n",
       "      <td></td>\n",
       "      <td>NaN</td>\n",
       "    </tr>\n",
       "    <tr>\n",
       "      <th>1832</th>\n",
       "      <td></td>\n",
       "      <td>(soil, groundwater)</td>\n",
       "      <td>NaN</td>\n",
       "      <td>5b98f875-8d1c-3549-a7df-28d7d90e7ccb</td>\n",
       "      <td>US EEIO 1.1</td>\n",
       "      <td>NaN</td>\n",
       "      <td>NaN</td>\n",
       "      <td>NaN</td>\n",
       "      <td>NaN</td>\n",
       "      <td>NaN</td>\n",
       "      <td>1427</td>\n",
       "      <td>NaN</td>\n",
       "      <td>NaN</td>\n",
       "      <td>(2,4-DICHLOROPHENOXY)ACETIC ACID COMPD. WITH 2...</td>\n",
       "      <td>NaN</td>\n",
       "      <td>emission</td>\n",
       "      <td></td>\n",
       "      <td>NaN</td>\n",
       "    </tr>\n",
       "    <tr>\n",
       "      <th>2079</th>\n",
       "      <td></td>\n",
       "      <td>(water, unspecified)</td>\n",
       "      <td>NaN</td>\n",
       "      <td>93086e32-c013-3e34-a074-4760c72fe775</td>\n",
       "      <td>US EEIO 1.1</td>\n",
       "      <td>NaN</td>\n",
       "      <td>NaN</td>\n",
       "      <td>NaN</td>\n",
       "      <td>NaN</td>\n",
       "      <td>NaN</td>\n",
       "      <td>1886</td>\n",
       "      <td>NaN</td>\n",
       "      <td>NaN</td>\n",
       "      <td>(4-CHLORO-2-METHYLPHENOXY)ACETIC ACID COMPD. W...</td>\n",
       "      <td>NaN</td>\n",
       "      <td>emission</td>\n",
       "      <td></td>\n",
       "      <td>NaN</td>\n",
       "    </tr>\n",
       "    <tr>\n",
       "      <th>2451</th>\n",
       "      <td></td>\n",
       "      <td>(air, low population density)</td>\n",
       "      <td>NaN</td>\n",
       "      <td>3404c9d4-8d41-36cb-8a95-c8b428518cfa</td>\n",
       "      <td>US EEIO 1.1</td>\n",
       "      <td>NaN</td>\n",
       "      <td>NaN</td>\n",
       "      <td>NaN</td>\n",
       "      <td>NaN</td>\n",
       "      <td>NaN</td>\n",
       "      <td>1166</td>\n",
       "      <td>NaN</td>\n",
       "      <td>NaN</td>\n",
       "      <td>(4-CHLORO-2-METHYLPHENOXY)ACETIC ACID COMPD. W...</td>\n",
       "      <td>NaN</td>\n",
       "      <td>emission</td>\n",
       "      <td></td>\n",
       "      <td>NaN</td>\n",
       "    </tr>\n",
       "    <tr>\n",
       "      <th>...</th>\n",
       "      <td>...</td>\n",
       "      <td>...</td>\n",
       "      <td>...</td>\n",
       "      <td>...</td>\n",
       "      <td>...</td>\n",
       "      <td>...</td>\n",
       "      <td>...</td>\n",
       "      <td>...</td>\n",
       "      <td>...</td>\n",
       "      <td>...</td>\n",
       "      <td>...</td>\n",
       "      <td>...</td>\n",
       "      <td>...</td>\n",
       "      <td>...</td>\n",
       "      <td>...</td>\n",
       "      <td>...</td>\n",
       "      <td>...</td>\n",
       "      <td>...</td>\n",
       "    </tr>\n",
       "    <tr>\n",
       "      <th>1574</th>\n",
       "      <td></td>\n",
       "      <td>(air, unspecified)</td>\n",
       "      <td>NaN</td>\n",
       "      <td>d9a5b786-d06c-44af-a088-b070aa605d9b</td>\n",
       "      <td>US EEIO 1.1</td>\n",
       "      <td>NaN</td>\n",
       "      <td>NaN</td>\n",
       "      <td>NaN</td>\n",
       "      <td>NaN</td>\n",
       "      <td>NaN</td>\n",
       "      <td>2370</td>\n",
       "      <td>NaN</td>\n",
       "      <td>NaN</td>\n",
       "      <td>trifluralin</td>\n",
       "      <td>NaN</td>\n",
       "      <td>emission</td>\n",
       "      <td></td>\n",
       "      <td>NaN</td>\n",
       "    </tr>\n",
       "    <tr>\n",
       "      <th>1203</th>\n",
       "      <td>7440622.0</td>\n",
       "      <td>(soil, industrial)</td>\n",
       "      <td>NaN</td>\n",
       "      <td>1a5850a0-0069-4b73-bb91-7a61e8d45ae5</td>\n",
       "      <td>US EEIO 1.1</td>\n",
       "      <td>NaN</td>\n",
       "      <td>NaN</td>\n",
       "      <td>NaN</td>\n",
       "      <td>NaN</td>\n",
       "      <td>NaN</td>\n",
       "      <td>971</td>\n",
       "      <td>NaN</td>\n",
       "      <td>NaN</td>\n",
       "      <td>vanadium</td>\n",
       "      <td>NaN</td>\n",
       "      <td>emission</td>\n",
       "      <td></td>\n",
       "      <td>NaN</td>\n",
       "    </tr>\n",
       "    <tr>\n",
       "      <th>1745</th>\n",
       "      <td>7440622.0</td>\n",
       "      <td>(water, unspecified)</td>\n",
       "      <td>NaN</td>\n",
       "      <td>63e8256e-8549-11e0-9d78-0800200c9a66</td>\n",
       "      <td>US EEIO 1.1</td>\n",
       "      <td>NaN</td>\n",
       "      <td>NaN</td>\n",
       "      <td>NaN</td>\n",
       "      <td>NaN</td>\n",
       "      <td>NaN</td>\n",
       "      <td>1577</td>\n",
       "      <td>NaN</td>\n",
       "      <td>NaN</td>\n",
       "      <td>vanadium</td>\n",
       "      <td>NaN</td>\n",
       "      <td>emission</td>\n",
       "      <td></td>\n",
       "      <td>NaN</td>\n",
       "    </tr>\n",
       "    <tr>\n",
       "      <th>2004</th>\n",
       "      <td>7440622.0</td>\n",
       "      <td>(air, unspecified)</td>\n",
       "      <td>NaN</td>\n",
       "      <td>591b0a62-8064-4697-86ed-47bfa1f8b5e6</td>\n",
       "      <td>US EEIO 1.1</td>\n",
       "      <td>NaN</td>\n",
       "      <td>NaN</td>\n",
       "      <td>NaN</td>\n",
       "      <td>NaN</td>\n",
       "      <td>NaN</td>\n",
       "      <td>1407</td>\n",
       "      <td>NaN</td>\n",
       "      <td>NaN</td>\n",
       "      <td>vanadium</td>\n",
       "      <td>NaN</td>\n",
       "      <td>emission</td>\n",
       "      <td></td>\n",
       "      <td>NaN</td>\n",
       "    </tr>\n",
       "    <tr>\n",
       "      <th>2030</th>\n",
       "      <td></td>\n",
       "      <td>(air, unspecified)</td>\n",
       "      <td>NaN</td>\n",
       "      <td>1d444a45-70c4-4718-8427-1c0fff91f88e</td>\n",
       "      <td>US EEIO 1.1</td>\n",
       "      <td>NaN</td>\n",
       "      <td>NaN</td>\n",
       "      <td>NaN</td>\n",
       "      <td>NaN</td>\n",
       "      <td>NaN</td>\n",
       "      <td>1000</td>\n",
       "      <td>NaN</td>\n",
       "      <td>NaN</td>\n",
       "      <td>vinyl acetate</td>\n",
       "      <td>NaN</td>\n",
       "      <td>emission</td>\n",
       "      <td></td>\n",
       "      <td>NaN</td>\n",
       "    </tr>\n",
       "  </tbody>\n",
       "</table>\n",
       "<p>2649 rows × 18 columns</p>\n",
       "</div>"
      ],
      "text/plain": [
       "     CAS number                     categories classifications  \\\n",
       "897              (air, low population density)             NaN   \n",
       "1135                      (water, unspecified)             NaN   \n",
       "1832                       (soil, groundwater)             NaN   \n",
       "2079                      (water, unspecified)             NaN   \n",
       "2451             (air, low population density)             NaN   \n",
       "...         ...                            ...             ...   \n",
       "1574                        (air, unspecified)             NaN   \n",
       "1203  7440622.0             (soil, industrial)             NaN   \n",
       "1745  7440622.0           (water, unspecified)             NaN   \n",
       "2004  7440622.0             (air, unspecified)             NaN   \n",
       "2030                        (air, unspecified)             NaN   \n",
       "\n",
       "                                      code     database description dqEntry  \\\n",
       "897   6ca23b5d-83dc-3b02-bf39-8eabf9d41151  US EEIO 1.1         NaN     NaN   \n",
       "1135  2ee4697d-b7f4-362b-86a4-94b644699500  US EEIO 1.1         NaN     NaN   \n",
       "1832  5b98f875-8d1c-3549-a7df-28d7d90e7ccb  US EEIO 1.1         NaN     NaN   \n",
       "2079  93086e32-c013-3e34-a074-4760c72fe775  US EEIO 1.1         NaN     NaN   \n",
       "2451  3404c9d4-8d41-36cb-8a95-c8b428518cfa  US EEIO 1.1         NaN     NaN   \n",
       "...                                    ...          ...         ...     ...   \n",
       "1574  d9a5b786-d06c-44af-a088-b070aa605d9b  US EEIO 1.1         NaN     NaN   \n",
       "1203  1a5850a0-0069-4b73-bb91-7a61e8d45ae5  US EEIO 1.1         NaN     NaN   \n",
       "1745  63e8256e-8549-11e0-9d78-0800200c9a66  US EEIO 1.1         NaN     NaN   \n",
       "2004  591b0a62-8064-4697-86ed-47bfa1f8b5e6  US EEIO 1.1         NaN     NaN   \n",
       "2030  1d444a45-70c4-4718-8427-1c0fff91f88e  US EEIO 1.1         NaN     NaN   \n",
       "\n",
       "     dqSystem exchangeDqSystem filename    id location modified  \\\n",
       "897       NaN              NaN      NaN  1640      NaN      NaN   \n",
       "1135      NaN              NaN      NaN  1134      NaN      NaN   \n",
       "1832      NaN              NaN      NaN  1427      NaN      NaN   \n",
       "2079      NaN              NaN      NaN  1886      NaN      NaN   \n",
       "2451      NaN              NaN      NaN  1166      NaN      NaN   \n",
       "...       ...              ...      ...   ...      ...      ...   \n",
       "1574      NaN              NaN      NaN  2370      NaN      NaN   \n",
       "1203      NaN              NaN      NaN   971      NaN      NaN   \n",
       "1745      NaN              NaN      NaN  1577      NaN      NaN   \n",
       "2004      NaN              NaN      NaN  1407      NaN      NaN   \n",
       "2030      NaN              NaN      NaN  1000      NaN      NaN   \n",
       "\n",
       "                                                   name processDocumentation  \\\n",
       "897   (2,4-DICHLOROPHENOXY)ACETIC ACID COMPD. WITH 2...                  NaN   \n",
       "1135  (2,4-DICHLOROPHENOXY)ACETIC ACID COMPD. WITH 2...                  NaN   \n",
       "1832  (2,4-DICHLOROPHENOXY)ACETIC ACID COMPD. WITH 2...                  NaN   \n",
       "2079  (4-CHLORO-2-METHYLPHENOXY)ACETIC ACID COMPD. W...                  NaN   \n",
       "2451  (4-CHLORO-2-METHYLPHENOXY)ACETIC ACID COMPD. W...                  NaN   \n",
       "...                                                 ...                  ...   \n",
       "1574                                        trifluralin                  NaN   \n",
       "1203                                           vanadium                  NaN   \n",
       "1745                                           vanadium                  NaN   \n",
       "2004                                           vanadium                  NaN   \n",
       "2030                                      vinyl acetate                  NaN   \n",
       "\n",
       "          type unit version  \n",
       "897   emission          NaN  \n",
       "1135  emission          NaN  \n",
       "1832  emission          NaN  \n",
       "2079  emission          NaN  \n",
       "2451  emission          NaN  \n",
       "...        ...  ...     ...  \n",
       "1574  emission          NaN  \n",
       "1203  emission          NaN  \n",
       "1745  emission          NaN  \n",
       "2004  emission          NaN  \n",
       "2030  emission          NaN  \n",
       "\n",
       "[2649 rows x 18 columns]"
      ]
     },
     "execution_count": 6,
     "metadata": {},
     "output_type": "execute_result"
    }
   ],
   "source": [
    "df = bd.Database(\"US EEIO 1.1\").nodes_to_dataframe()\n",
    "df"
   ]
  },
  {
   "cell_type": "code",
   "execution_count": 7,
   "id": "28e80f62-c04c-4846-a23c-ee44410e405a",
   "metadata": {},
   "outputs": [],
   "source": [
    "def safe_joiner(x):\n",
    "    try:\n",
    "        if not x or np.isnan(x):\n",
    "            return None\n",
    "    except TypeError:\n",
    "        pass\n",
    "    return \"::\".join(x)"
   ]
  },
  {
   "cell_type": "code",
   "execution_count": 8,
   "id": "234f98c3-94fd-4e90-a2a8-b409aa887438",
   "metadata": {},
   "outputs": [],
   "source": [
    "df['categories'] = df['categories'].apply(safe_joiner)\n"
   ]
  },
  {
   "cell_type": "code",
   "execution_count": 9,
   "id": "d8cecbb7-666a-46b2-b280-edcd4cb34c0e",
   "metadata": {},
   "outputs": [],
   "source": [
    "def safe_converter(x):\n",
    "    try:\n",
    "        return str(int(x))\n",
    "    except:\n",
    "        return None"
   ]
  },
  {
   "cell_type": "code",
   "execution_count": 10,
   "id": "8de69250-810b-44f9-873b-14c79976d073",
   "metadata": {},
   "outputs": [],
   "source": [
    "df['CAS number'] = df['CAS number'].apply(safe_converter)\n"
   ]
  },
  {
   "cell_type": "code",
   "execution_count": 11,
   "id": "6d552cb2-6c86-4308-b332-f4bfcaf7427f",
   "metadata": {},
   "outputs": [],
   "source": [
    "df.to_csv(datadir / \"useeio_nodes.csv\", index=False)"
   ]
  },
  {
   "cell_type": "code",
   "execution_count": 12,
   "id": "a79a0b13-b0a9-4cbb-a220-6fcdb8c4703a",
   "metadata": {},
   "outputs": [
    {
     "name": "stdout",
     "output_type": "stream",
     "text": [
      "Getting activity data\n"
     ]
    },
    {
     "name": "stderr",
     "output_type": "stream",
     "text": [
      "100%|██████████████████████████████████████████████████████████████████████████| 2649/2649 [00:00<00:00, 176989.79it/s]\n"
     ]
    },
    {
     "name": "stdout",
     "output_type": "stream",
     "text": [
      "Adding exchange data to activities\n"
     ]
    },
    {
     "name": "stderr",
     "output_type": "stream",
     "text": [
      "100%|███████████████████████████████████████████████████████████████████████| 162926/162926 [00:05<00:00, 29891.57it/s]\n"
     ]
    },
    {
     "name": "stdout",
     "output_type": "stream",
     "text": [
      "Filling out exchange data\n"
     ]
    },
    {
     "name": "stderr",
     "output_type": "stream",
     "text": [
      "100%|███████████████████████████████████████████████████████████████████████████| 2649/2649 [00:00<00:00, 79069.10it/s]\n"
     ]
    },
    {
     "name": "stdout",
     "output_type": "stream",
     "text": [
      "Creating DataFrame\n",
      "Compressing DataFrame\n"
     ]
    }
   ],
   "source": [
    "\n",
    "bd.Database(\"US EEIO 1.1\").edges_to_dataframe().to_csv(datadir / \"useeio_edges.csv\", index=False)"
   ]
  },
  {
   "cell_type": "code",
   "execution_count": 13,
   "id": "3e60c680-1067-44b0-a977-c9e98364ccc7",
   "metadata": {},
   "outputs": [],
   "source": [
    "product = next(node for node in bd.Database(\"US EEIO 1.1\") if node['type'] == 'product')\n"
   ]
  },
  {
   "cell_type": "code",
   "execution_count": 14,
   "id": "5065a84a-cb00-4f5b-abb5-67d6f2fa8d5a",
   "metadata": {},
   "outputs": [
    {
     "name": "stdout",
     "output_type": "stream",
     "text": [
      "Biosphere database already present!!! No setup is needed\n"
     ]
    }
   ],
   "source": [
    "bi.bw2setup() #Importing elementary flows, LCIA methods and some other data"
   ]
  },
  {
   "cell_type": "code",
   "execution_count": 15,
   "id": "05568b3a-1e2b-41c7-93de-6950d51e9b5a",
   "metadata": {},
   "outputs": [
    {
     "data": {
      "text/plain": [
       "Databases dictionary with 2 object(s):\n",
       "\tUS EEIO 1.1\n",
       "\tbiosphere3"
      ]
     },
     "execution_count": 15,
     "metadata": {},
     "output_type": "execute_result"
    }
   ],
   "source": [
    "bd.databases\n"
   ]
  },
  {
   "cell_type": "code",
   "execution_count": 16,
   "id": "ca19dd8e-a073-4902-a3ea-b94c747751c4",
   "metadata": {},
   "outputs": [],
   "source": [
    "df=bd.Database(\"US EEIO 1.1\")\n"
   ]
  },
  {
   "cell_type": "markdown",
   "id": "19e8af32-ce56-42c4-9c14-6ccc8c7fa35f",
   "metadata": {
    "tags": []
   },
   "source": [
    "###  Get activities and methods"
   ]
  },
  {
   "cell_type": "markdown",
   "id": "acade620-4874-43e0-9437-c969e84d78e4",
   "metadata": {},
   "source": [
    "Get 2 activities and methods from the database"
   ]
  },
  {
   "cell_type": "code",
   "execution_count": 164,
   "id": "258b9173-d114-4405-966b-ec2af63a7306",
   "metadata": {},
   "outputs": [
    {
     "data": {
      "text/plain": [
       "'Storage batteries; at manufacturer' (, United States, ('31-33: Manufacturing', '3359: Other Electrical Equipment and Component Manufacturing'))"
      ]
     },
     "execution_count": 164,
     "metadata": {},
     "output_type": "execute_result"
    }
   ],
   "source": [
    "act1=next(node for node in bd.Database(\"US EEIO 1.1\") if node['type'] == 'product')\n",
    "act1"
   ]
  },
  {
   "cell_type": "code",
   "execution_count": 165,
   "id": "62afe995-e976-46d0-94a4-dbf8ab5c1633",
   "metadata": {},
   "outputs": [
    {
     "data": {
      "text/plain": [
       "'Asphalt shingles; at manufacturer' (, United States, ('31-33: Manufacturing', '3241: Petroleum and Coal Products Manufacturing'))"
      ]
     },
     "execution_count": 165,
     "metadata": {},
     "output_type": "execute_result"
    }
   ],
   "source": [
    "act2=next(node for node in bd.Database(\"US EEIO 1.1\") if node['type'] == 'product')\n",
    "act2"
   ]
  },
  {
   "cell_type": "code",
   "execution_count": 166,
   "id": "397796d3-0678-468f-aeed-c7489422b3a4",
   "metadata": {},
   "outputs": [
    {
     "data": {
      "text/plain": [
       "'Mineral wool; at manufacturer' (, United States, ('31-33: Manufacturing', '3279: Other Nonmetallic Mineral Product Manufacturing'))"
      ]
     },
     "execution_count": 166,
     "metadata": {},
     "output_type": "execute_result"
    }
   ],
   "source": [
    "act3=next(node for node in bd.Database(\"US EEIO 1.1\") if node['type'] == 'product')\n",
    "act3"
   ]
  },
  {
   "cell_type": "code",
   "execution_count": 178,
   "id": "f2755f87-304f-4329-98ef-336fbb928c09",
   "metadata": {},
   "outputs": [],
   "source": [
    "fu={act1:1,act2:1,act3:1}"
   ]
  },
  {
   "cell_type": "code",
   "execution_count": 167,
   "id": "f2062ad7-2ed3-40ae-ba20-8ebf6051b828",
   "metadata": {},
   "outputs": [],
   "source": [
    "methods = [\n",
    "    ('Impact Potential', 'GCC'),\n",
    "    ('Impact Potential', 'HTOX'),\n",
    "    ('Resource Use', 'LAND'),\n",
    "    ('Resource Use', 'WATR'),\n",
    "]"
   ]
  },
  {
   "cell_type": "markdown",
   "id": "e2e88f64-9513-4349-b712-ffe976f6326b",
   "metadata": {
    "tags": []
   },
   "source": [
    "### Defining colors"
   ]
  },
  {
   "cell_type": "code",
   "execution_count": 168,
   "id": "025a2537-7388-48b9-b3d1-7d9e2670eaaf",
   "metadata": {},
   "outputs": [],
   "source": [
    "#define standard color palette:\n",
    "colors = [\"#F08C2E\", \"#7f6000\", \"#72AF42\", \"#A32683\"]\n",
    "\n",
    "#create longer color list for complex figures\n",
    "color_div_YlBr=sns.color_palette('YlOrBr',6)\n",
    "color_seq_green=sns.color_palette('Greens',6)\n",
    "color_seq_RdPu=sns.color_palette('RdPu',6)\n",
    "color_seq_org=sns.color_palette('Oranges',5)\n",
    "\n",
    "colors.extend(colors)\n",
    "# colors.extend(color_div_YlBr)\n",
    "# colors.extend(color_seq_green)\n",
    "# colors.extend(color_seq_RdPu)\n",
    "# colors.extend(color_seq_org)\n",
    "\n",
    "df_color=pd.DataFrame(index=list_methods,data=[colors[c] for c in range(len(list_methods))]).T"
   ]
  },
  {
   "cell_type": "markdown",
   "id": "b12a1acf-1ca0-487d-8cdc-cbb9c2f25877",
   "metadata": {
    "tags": []
   },
   "source": [
    "##  Perform basic lca computations"
   ]
  },
  {
   "cell_type": "code",
   "execution_count": 197,
   "id": "063916d0-bfa5-4948-b34e-b220d2ffd3e9",
   "metadata": {},
   "outputs": [],
   "source": [
    "def lca_comparison(fu, methods, method_ref=('Impact Potential', 'GCC'), ):\n",
    "    '''\n",
    "    Compare several activities for several impact categories and return a DataFrame with the impact score for each categories and each activities.\n",
    "    ----------\n",
    "    fu : dicitonnary of the activity/activities to compare associated with its/their associated reference flow/s\n",
    "    methods : tuple of several/single methods\n",
    "    method_ref : method used for normalization\n",
    "    '''\n",
    "    scores=[]\n",
    "    names=[]\n",
    "    try: #for multi impact categories\n",
    "        for act, q in zip(fu.keys(),fu.values()):\n",
    "            lca=bc.LCA({act:q},methods[0])\n",
    "            lca.lci()\n",
    "            lca.lcia()\n",
    "            res=[]\n",
    "            for m in methods:\n",
    "                lca.switch_method(m)\n",
    "                lca.lcia()\n",
    "                res.append(lca.score)\n",
    "            scores.append(res)\n",
    "            names.append(act['name'])\n",
    "    except : #if only one method\n",
    "        for act, q in zip(fu.keys(),fu.values()):\n",
    "            lca=bc.LCA({act:q},methods[0])\n",
    "            lca.lci()\n",
    "            lca.lcia()\n",
    "            scores.append(lca.score)\n",
    "            names.append(act['name'])\n",
    "    return pd.DataFrame(index=names,data=scores,columns=methods).sort_values(by=[method_ref],ascending=False)\n",
    "        "
   ]
  },
  {
   "cell_type": "code",
   "execution_count": 198,
   "id": "c97c208a-4f55-4695-a52b-d64c65d61734",
   "metadata": {},
   "outputs": [
    {
     "data": {
      "text/html": [
       "<div>\n",
       "<style scoped>\n",
       "    .dataframe tbody tr th:only-of-type {\n",
       "        vertical-align: middle;\n",
       "    }\n",
       "\n",
       "    .dataframe tbody tr th {\n",
       "        vertical-align: top;\n",
       "    }\n",
       "\n",
       "    .dataframe thead th {\n",
       "        text-align: right;\n",
       "    }\n",
       "</style>\n",
       "<table border=\"1\" class=\"dataframe\">\n",
       "  <thead>\n",
       "    <tr style=\"text-align: right;\">\n",
       "      <th></th>\n",
       "      <th>(Impact Potential, GCC)</th>\n",
       "    </tr>\n",
       "  </thead>\n",
       "  <tbody>\n",
       "    <tr>\n",
       "      <th>Asphalt shingles; at manufacturer</th>\n",
       "      <td>1.146130</td>\n",
       "    </tr>\n",
       "    <tr>\n",
       "      <th>Mineral wool; at manufacturer</th>\n",
       "      <td>0.861417</td>\n",
       "    </tr>\n",
       "    <tr>\n",
       "      <th>Storage batteries; at manufacturer</th>\n",
       "      <td>0.636573</td>\n",
       "    </tr>\n",
       "  </tbody>\n",
       "</table>\n",
       "</div>"
      ],
      "text/plain": [
       "                                    (Impact Potential, GCC)\n",
       "Asphalt shingles; at manufacturer                  1.146130\n",
       "Mineral wool; at manufacturer                      0.861417\n",
       "Storage batteries; at manufacturer                 0.636573"
      ]
     },
     "execution_count": 198,
     "metadata": {},
     "output_type": "execute_result"
    }
   ],
   "source": [
    "df=lca_comparison({act1:1,act2:1, act3:1}, [list_methods[0]])\n",
    "df"
   ]
  },
  {
   "cell_type": "code",
   "execution_count": null,
   "id": "54eb5447-c6b4-41fa-8167-dc033ebf9a65",
   "metadata": {},
   "outputs": [
    {
     "data": {
      "text/html": [
       "<div>\n",
       "<style scoped>\n",
       "    .dataframe tbody tr th:only-of-type {\n",
       "        vertical-align: middle;\n",
       "    }\n",
       "\n",
       "    .dataframe tbody tr th {\n",
       "        vertical-align: top;\n",
       "    }\n",
       "\n",
       "    .dataframe thead th {\n",
       "        text-align: right;\n",
       "    }\n",
       "</style>\n",
       "<table border=\"1\" class=\"dataframe\">\n",
       "  <thead>\n",
       "    <tr style=\"text-align: right;\">\n",
       "      <th></th>\n",
       "      <th>Asphalt shingles; at manufacturer</th>\n",
       "      <th>Mineral wool; at manufacturer</th>\n",
       "      <th>Storage batteries; at manufacturer</th>\n",
       "    </tr>\n",
       "  </thead>\n",
       "  <tbody>\n",
       "    <tr>\n",
       "      <th>(Impact Potential, GCC)</th>\n",
       "      <td>100.0</td>\n",
       "      <td>75.158801</td>\n",
       "      <td>55.541108</td>\n",
       "    </tr>\n",
       "  </tbody>\n",
       "</table>\n",
       "</div>"
      ],
      "text/plain": [
       "                         Asphalt shingles; at manufacturer  \\\n",
       "(Impact Potential, GCC)                              100.0   \n",
       "\n",
       "                         Mineral wool; at manufacturer  \\\n",
       "(Impact Potential, GCC)                      75.158801   \n",
       "\n",
       "                         Storage batteries; at manufacturer  \n",
       "(Impact Potential, GCC)                           55.541108  "
      ]
     },
     "execution_count": 174,
     "metadata": {},
     "output_type": "execute_result"
    }
   ],
   "source": [
    "df_norm=df.T.apply(lambda x: x/x.max(), axis=1)*100 #to normalize the results for each impact category\n",
    "df_norm"
   ]
  },
  {
   "cell_type": "markdown",
   "id": "b11d3183-c4f7-4ed4-8b69-ec1a7e2fd8d8",
   "metadata": {
    "tags": []
   },
   "source": [
    "## Perform a basic contribution analysis"
   ]
  },
  {
   "cell_type": "code",
   "execution_count": 199,
   "id": "68edd6d5-16d9-4adb-93ac-6583ea578da2",
   "metadata": {},
   "outputs": [],
   "source": [
    "def act_topscore(fu, method_ref=('Impact Potential', 'GCC')):\n",
    "    '''\n",
    "    Give the activity which has the highest score the reference method\n",
    "    ----------\n",
    "    fu : dicitonnary of the activity/activities to compare associated with its/their associated reference flow/s\n",
    "    method_ref : method used for normalization (by default, GCC)\n",
    "    '''\n",
    "    activities=list(fu.keys())\n",
    "    scores=[]\n",
    "    \n",
    "    for act, q in zip(activities,fu.values()):\n",
    "        lca=bc.LCA({act:q},method_ref)\n",
    "        lca.lci()\n",
    "        lca.lcia()\n",
    "        scores.append(lca.score)\n",
    "\n",
    "    # Récupération de l'index de l'activité ayant le score d'impact le plus élevé\n",
    "    max_index = scores.index(max(scores))\n",
    "        \n",
    "    return activities[max_index]\n"
   ]
  },
  {
   "cell_type": "code",
   "execution_count": 200,
   "id": "d1afc24e-8c24-4235-9232-b5576ecd7a2c",
   "metadata": {},
   "outputs": [
    {
     "data": {
      "text/plain": [
       "'Asphalt shingles; at manufacturer' (, United States, ('31-33: Manufacturing', '3241: Petroleum and Coal Products Manufacturing'))"
      ]
     },
     "execution_count": 200,
     "metadata": {},
     "output_type": "execute_result"
    }
   ],
   "source": [
    "act_topscore({act1:1,act2:1, act3:1})"
   ]
  },
  {
   "cell_type": "code",
   "execution_count": 201,
   "id": "4ee3ad26-2b39-4459-804c-f62459b6cb4e",
   "metadata": {},
   "outputs": [],
   "source": [
    "def contributions_df(activity,method,limit=0.01,limit_type='percent',group_by_other=True, norm=False):\n",
    "    '''\n",
    "    Gather in a dataframe the main contributors of the lca score \n",
    "    ----------    \n",
    "    activity : activity to be analyzed\n",
    "    method : impact category method\n",
    "    limit: relative threshold of the total lca score from which contributors are displayed : (0.01 by default)\n",
    "    limit_type : percentage or number for the threshold ('percent' by default)\n",
    "    group_by_other : group the other contributors into an 'other' category (True by default)\n",
    "    norm : norm the contributions (False by default)\n",
    "    '''\n",
    "    \n",
    "    ca = ba.ContributionAnalysis()    \n",
    "    #we compute the top contributors for the impact category\n",
    "    lca=bc.LCA({activity:1},method)\n",
    "    lca.lci()\n",
    "    lca.lcia()\n",
    "    contrib=(ca.annotated_top_processes(lca, limit=limit, limit_type=limit_type)) #returns a list of tuples: (lca score, supply amount, activity name)\n",
    "\n",
    "    names=[i[2]['name'] for i in contrib] #for each impact category we concatenate all names\n",
    "    scores=[i[0] for i in contrib]#for each impact category we add a new tuple for the scores\n",
    "    \n",
    "    if group_by_other:\n",
    "        names.append('Others')\n",
    "        scores.append(lca.score-np.sum(scores))\n",
    "    \n",
    "    if norm:\n",
    "        scores=[s/lca.score*100 for s in scores]\n",
    "\n",
    "    return pd.DataFrame(index=names, data=scores, columns=[method]).sort_values(by=[method],ascending=True)"
   ]
  },
  {
   "cell_type": "code",
   "execution_count": 202,
   "id": "6eb97725-eb85-407a-97cf-44ac2a464d40",
   "metadata": {},
   "outputs": [
    {
     "data": {
      "text/html": [
       "<div>\n",
       "<style scoped>\n",
       "    .dataframe tbody tr th:only-of-type {\n",
       "        vertical-align: middle;\n",
       "    }\n",
       "\n",
       "    .dataframe tbody tr th {\n",
       "        vertical-align: top;\n",
       "    }\n",
       "\n",
       "    .dataframe thead th {\n",
       "        text-align: right;\n",
       "    }\n",
       "</style>\n",
       "<table border=\"1\" class=\"dataframe\">\n",
       "  <thead>\n",
       "    <tr style=\"text-align: right;\">\n",
       "      <th></th>\n",
       "      <th>(Impact Potential, GCC)</th>\n",
       "    </tr>\n",
       "  </thead>\n",
       "  <tbody>\n",
       "    <tr>\n",
       "      <th>Storage batteries; at manufacturer</th>\n",
       "      <td>6.522423</td>\n",
       "    </tr>\n",
       "    <tr>\n",
       "      <th>Truck transport</th>\n",
       "      <td>7.127676</td>\n",
       "    </tr>\n",
       "    <tr>\n",
       "      <th>Primary iron, steel, and ferroalloy products; at manufacturer</th>\n",
       "      <td>9.068244</td>\n",
       "    </tr>\n",
       "    <tr>\n",
       "      <th>Other primary nonferrous metals; at manufacturer</th>\n",
       "      <td>14.686507</td>\n",
       "    </tr>\n",
       "    <tr>\n",
       "      <th>Electricity; at consumer</th>\n",
       "      <td>25.965708</td>\n",
       "    </tr>\n",
       "    <tr>\n",
       "      <th>Others</th>\n",
       "      <td>36.629443</td>\n",
       "    </tr>\n",
       "  </tbody>\n",
       "</table>\n",
       "</div>"
      ],
      "text/plain": [
       "                                                    (Impact Potential, GCC)\n",
       "Storage batteries; at manufacturer                                 6.522423\n",
       "Truck transport                                                    7.127676\n",
       "Primary iron, steel, and ferroalloy products; a...                 9.068244\n",
       "Other primary nonferrous metals; at manufacturer                  14.686507\n",
       "Electricity; at consumer                                          25.965708\n",
       "Others                                                            36.629443"
      ]
     },
     "execution_count": 202,
     "metadata": {},
     "output_type": "execute_result"
    }
   ],
   "source": [
    "df=contributions_df(act1,list_methods[0],limit=5,limit_type='number',norm=True)\n",
    "df"
   ]
  },
  {
   "cell_type": "code",
   "execution_count": 203,
   "id": "034137e2-3fa3-482a-a7c3-71493b139f12",
   "metadata": {},
   "outputs": [
    {
     "data": {
      "text/plain": [
       "100.0"
      ]
     },
     "execution_count": 203,
     "metadata": {},
     "output_type": "execute_result"
    }
   ],
   "source": [
    "df.values.sum()"
   ]
  },
  {
   "cell_type": "markdown",
   "id": "a7524732-b07b-49e8-a421-25d0e443f114",
   "metadata": {},
   "source": [
    "## Display all thes informations in a nice dashboard"
   ]
  },
  {
   "cell_type": "code",
   "execution_count": 205,
   "id": "1ce90b9e-6a2c-4e28-afb9-d33838a0a76b",
   "metadata": {},
   "outputs": [],
   "source": [
    "#the following methods come from the library lca_algebraic from stats.py : \n",
    "# https://github.com/oie-mines-paristech/lca_algebraic/blob/master/lca_algebraic/stats.py\n",
    "\n",
    "def _display_tabs(titlesAndContentF):\n",
    "    \"\"\"Generate tabs\"\"\"\n",
    "    tabs = []\n",
    "    titles = []\n",
    "    for title, content_f in titlesAndContentF:\n",
    "        titles.append(title)\n",
    "\n",
    "        tab = widgets.Output()\n",
    "        with tab:\n",
    "            content_f()\n",
    "        tabs.append(tab)\n",
    "\n",
    "    res = widgets.Tab(children=tabs)\n",
    "    for i, title in enumerate(titles):\n",
    "        res.set_title(i, title)\n",
    "    display(res)\n",
    "    \n",
    "def displayWithExportButton(df):\n",
    "    '''Display dataframe with option to export'''\n",
    "\n",
    "    button = widgets.Button(description=\"Export data\")\n",
    "    button.style.button_color = \"lightgray\"\n",
    "    def click(e) :\n",
    "        df.to_csv(\"out.csv\")\n",
    "        button.description = \"exported as 'out.csv'\"\n",
    "    dfout = widgets.Output()\n",
    "    with dfout :\n",
    "        display(df)\n",
    "\n",
    "    button.on_click(click)\n",
    "\n",
    "    display(widgets.VBox([button, dfout]))"
   ]
  },
  {
   "cell_type": "markdown",
   "id": "ed2ef574-052c-479d-abe2-dbeed35be06e",
   "metadata": {},
   "source": [
    "### Dashboard compare"
   ]
  },
  {
   "cell_type": "code",
   "execution_count": 206,
   "id": "f99ff4a5-30e5-46a0-b8a6-a56787b43072",
   "metadata": {},
   "outputs": [],
   "source": [
    "def compare(fu, methods, act_transfert, reference_category =('Impact Potential', 'GCC'), sharex=True, cols=1, func_unit=\"kg\"):\n",
    "    '''\n",
    "    Compare several activities for several impact categories\n",
    "    ----------\n",
    "    fu : dicitonnary of the activity/activities to compare associated with its/their associated reference flow/s\n",
    "    methods : set of methods,\n",
    "    act_transfert : activity for which the impact transfers compared to the top activity are computed \n",
    "    method_ref : method used for normalization    \n",
    "    sharex: Shared X axes ? True by default\n",
    "    cols: number of columns to plot\n",
    "    func_unit : functionnal unit (kg by default)\n",
    "    '''\n",
    "    \n",
    "    act=list(fu.keys())\n",
    "    df=lca_comparison(fu, methods, method_ref=reference_category)\n",
    "    act_ref=act_topscore(fu)\n",
    "    df_norm=df.T.apply(lambda x: x/x.max(), axis=1) #to normalize the results for each impact category\n",
    "    \n",
    "    def table():\n",
    "        displayWithExportButton(df)\n",
    "        \n",
    "    def graph_method_ref():\n",
    "        with warnings.catch_warnings():\n",
    "            warnings.simplefilter(\"ignore\")\n",
    "            fig, axes = plt.subplots(figsize=(20,10))\n",
    "            sns.set_style(\"white\")\n",
    "            df[reference_category ].plot(\n",
    "                ax=axes, sharex=sharex,\n",
    "                legend=None,\n",
    "                rot=0,\n",
    "                kind='bar',\n",
    "                alpha=0.8,\n",
    "                fontsize=20,\n",
    "                color=colors)\n",
    "\n",
    "            axes.set_yticklabels([\"0\"]) #to remove all the graduations and keep only the zero\n",
    "            axes.set_ylabel(reference_category[0], fontsize=20)\n",
    "\n",
    "            #add each score of components\n",
    "            # the text color is white if the figure is dark and vice versa \n",
    "            r, g, b, _ = fig.get_facecolor()\n",
    "            if r + g + b > 1:\n",
    "                c = 'black'\n",
    "            else:\n",
    "                c = 'white'\n",
    "                \n",
    "            # Hide edges of the frame\n",
    "            for spine in axes.spines.values():\n",
    "                if spine.spine_type == 'bottom':\n",
    "                    spine.set_visible(True)\n",
    "                else:\n",
    "                    spine.set_visible(False)\n",
    "                    \n",
    "            for bar in axes.patches:\n",
    "                axes.text(\n",
    "                        # Put the text in the middle of each bar. get_x returns the start\n",
    "                        # so we add half the width to get to the middle.\n",
    "                        bar.get_x() + bar.get_width() / 2,\n",
    "                        # Vertically, add the height of the bar to the start of the bar,\n",
    "                        # along with the offset.\n",
    "                        bar.get_height() + bar.get_y(),\n",
    "                        # This is actual value we'll show.\n",
    "                        str('{:.2e}'.format(bar.get_height())) + '\\n' + reference_category[1],\n",
    "                        # Center the labels and style them a bit.\n",
    "                        ha='center',\n",
    "                        color=c,\n",
    "                        alpha=0.8,\n",
    "                        size=15,\n",
    "                    )\n",
    "            \n",
    "            plt.xticks(range(len(df)), ['\\n'.join(textwrap.wrap(label, 20)) for label in df.index])\n",
    "            \n",
    "            #add a suptitle\n",
    "            fig.suptitle(\"Comparison of different LCA on \" + reference_category[0], fontsize=30, fontweight='bold', ha='center') #centered title in bold\n",
    "            # add a subtitle\n",
    "            axes.set_title(\"for 1 \" + func_unit,fontsize=17, ha='center',y=1.1, color='gray')\n",
    "            plt.tight_layout()\n",
    "            plt.show(fig)\n",
    "\n",
    "    def graph_multi():\n",
    "        with warnings.catch_warnings():\n",
    "            warnings.simplefilter(\"ignore\")\n",
    "            nb_rows = int(np.ceil(len(methods) / cols))\n",
    "            fig, axes = plt.subplots(figsize=(20,15))\n",
    "            sns.set_style(\"white\")\n",
    "            plt.subplots_adjust(None, None, None, None, 0.5, 0.5)\n",
    "\n",
    "            axes = df.plot(\n",
    "                ax=axes, sharex=sharex, subplots=True,\n",
    "                layout=(nb_rows, cols),\n",
    "                legend=None,\n",
    "                rot=0,\n",
    "                kind='bar',\n",
    "                alpha=0.8,\n",
    "                fontsize=15,\n",
    "                color=colors)\n",
    "            axes = axes.flatten()\n",
    "            for ax, m in zip(axes, methods):\n",
    "                ax.set_yticklabels([\"0\"]) #to remove all the graduations and keep only the zero\n",
    "                ax.set_ylabel(m[0], fontsize=15)\n",
    "                ax.set_xticks(range(len(df)), ['\\n'.join(textwrap.wrap(label, 20)) for label in df.index])\n",
    "                ax.set_title('')\n",
    "                \n",
    "                # Hide edges of the frame\n",
    "                for spine in ax.spines.values():\n",
    "                    if spine.spine_type == 'bottom':\n",
    "                        spine.set_visible(True)\n",
    "                    else:\n",
    "                        spine.set_visible(False)\n",
    "\n",
    "                #add each score of components\n",
    "                # the color is white if the figure is dark and vice versa \n",
    "                r, g, b, _ = fig.get_facecolor()\n",
    "                if r + g + b > 1:\n",
    "                    c = 'black'\n",
    "                else:\n",
    "                    c = 'white'  \n",
    "                for bar in ax.patches:\n",
    "                    ax.text(\n",
    "                        # Put the text in the middle of each bar. get_x returns the start\n",
    "                        # so we add half the width to get to the middle.\n",
    "                        bar.get_x() + bar.get_width() / 2,\n",
    "                        # Vertically, add the height of the bar to the start of the bar,\n",
    "                        # along with the offset.\n",
    "                        bar.get_height() + bar.get_y(),\n",
    "                        # This is actual value we'll show.\n",
    "                        str('{:.1e}'.format(bar.get_height())) + '\\n' + m[1],\n",
    "                        # Center the labels and style them a bit.\n",
    "                        ha='center',\n",
    "                        color=c,\n",
    "                        alpha=0.7,\n",
    "                        size=12,\n",
    "                        )\n",
    "            \n",
    "            fig.suptitle(\"Comparison of different LCA on several impact categories\", fontsize=30, fontweight='bold', ha='center', y=1.03) #centered title in bold\n",
    "            fig.text(0.5, 0.99, \"for 1 \" + func_unit, fontsize=17, ha='center', color='gray')            \n",
    "            plt.tight_layout()\n",
    "            plt.show(fig)\n",
    "            \n",
    "            displayWithExportButton(df)\n",
    "\n",
    "    def heatmap():\n",
    "        with warnings.catch_warnings():\n",
    "            warnings.simplefilter(\"ignore\")\n",
    "            fig, axes = plt.subplots(figsize=(20,10))\n",
    "            sns.set_style(\"white\")\n",
    "            sns.heatmap(df_norm,annot = True, cbar = True, ax=axes, cmap='YlOrBr', alpha=0.8, linewidth=0.5, xticklabels=True)\n",
    "            axes.set_yticklabels([m[0] for m in methods], rotation=0, fontsize=20)\n",
    "            axes.set_xticks(range(len(df_norm.columns)), ['\\n'.join(textwrap.wrap(label, 30)) for label in df_norm.columns],rotation=0,fontsize=20,ha=\"left\")\n",
    "            fig.suptitle(\"Comparison of different LCA\", fontsize=30, fontweight='bold',x=0.44, y=1.02) #centered title in bold\n",
    "            axes.set_title(\"for 1 \" + func_unit,fontsize=17, ha='center',y=1.1, color='gray')\n",
    "            plt.show()\n",
    "            displayWithExportButton(df_norm)\n",
    "\n",
    "            \n",
    "    def transfer_impact():\n",
    "        if act_transfert==act_ref:\n",
    "            display(\"To plot the impact transfer diagram, the considered activity must be different from the top activity\")\n",
    "        else :\n",
    "            df_transfer=df_norm[act_transfert['name'] ]*100-df_norm[act_ref['name']]*100 #%\n",
    "            df_transfer=df_transfer.sort_values()\n",
    "            with warnings.catch_warnings():\n",
    "                warnings.simplefilter(\"ignore\")\n",
    "                sns.set_style(\"white\")\n",
    "                fig, axes = plt.subplots(figsize=(20,10))\n",
    "                plt.bar(range(len(df_transfer)),df_transfer,alpha=0.8, color=colors)\n",
    "                plt.xticks(range(len(df_transfer)),[m[0] + ' ' + m[1] for m in methods], fontsize=20)\n",
    "                \n",
    "                #To remove the frame but keep a horizontal line on 0\n",
    "                axes.spines['top'].set_visible(False)\n",
    "                axes.spines['right'].set_visible(False)\n",
    "                axes.spines['bottom'].set_visible(False)\n",
    "                axes.spines['left'].set_visible(False)\n",
    "                axes.axhline(y=0, color='gray', linewidth=1)\n",
    "\n",
    "                #add each score of components\n",
    "                for bar in axes.patches:\n",
    "                    if bar.get_height()>=0:\n",
    "                        y_offset=-3\n",
    "                        axes.set_ylabel('Impact Transfer', fontsize=20)\n",
    "                        fig.suptitle('Impact transfer of {} \\n compared to {}'.format(act_transfert['name'],act_ref['name']),\n",
    "                                     fontsize=30, fontweight='bold', ha='center')\n",
    "                    else :\n",
    "                        y_offset=1\n",
    "                        axes.set_ylabel('Impact Reduction', fontsize=20)\n",
    "                        fig.suptitle('Impact Reduction of {} \\n compared to {}'.format(act_transfert['name'],act_ref['name']),\n",
    "                                     fontsize=30, fontweight='bold', ha='center')\n",
    "\n",
    "                    # the color is white if the bar is dark and vice versa \n",
    "                    r, g, b, _ = bar.get_facecolor()\n",
    "                    if r + g + b > 1.8:\n",
    "                        c = 'black'\n",
    "                    else:\n",
    "                        c = 'white'\n",
    "                    axes.text(\n",
    "                          # Put the text in the middle of each bar. get_x returns the start\n",
    "                          # so we add half the width to get to the middle.\n",
    "                          bar.get_x() + bar.get_width() / 2,\n",
    "                          # Vertically, add the height of the bar to the start of the bar,\n",
    "                          # along with the offset.\n",
    "                          bar.get_height() + bar.get_y() + y_offset,\n",
    "                          # This is actual value we'll show.\n",
    "                          str(round(bar.get_height())) + ' %',\n",
    "                          # Center the labels and style them a bit.\n",
    "                          ha='center',\n",
    "                          color=c,\n",
    "                          alpha=0.9,\n",
    "                          size=20,\n",
    "                      )\n",
    "                axes.set_yticks([0]) #to remove all the graduations and keep only the zero\n",
    "                plt.show()\n",
    "        \n",
    "    _display_tabs([\n",
    "        (\"Reference indicator\", graph_method_ref),\n",
    "        (\"All indicators\",graph_multi),\n",
    "        (\"Heatmap\",heatmap),\n",
    "        (\"Impact transfer\",transfer_impact)        \n",
    "    ])\n"
   ]
  },
  {
   "cell_type": "code",
   "execution_count": 191,
   "id": "7f709172-b208-44ea-9cd5-d7eea7b920b9",
   "metadata": {},
   "outputs": [
    {
     "data": {
      "application/vnd.jupyter.widget-view+json": {
       "model_id": "60e206640599461388833564ab4ec25f",
       "version_major": 2,
       "version_minor": 0
      },
      "text/plain": [
       "Tab(children=(Output(), Output(), Output(), Output()), selected_index=0, titles=('Reference indicator', 'All i…"
      ]
     },
     "metadata": {},
     "output_type": "display_data"
    }
   ],
   "source": [
    "compare({act1:1,act2:1,act3:1}, methods, act2, sharex=False, cols=2, func_unit=\"kWh\")"
   ]
  },
  {
   "cell_type": "markdown",
   "id": "04030ddb-8a71-4ffd-bbb5-9837518fa0cb",
   "metadata": {},
   "source": [
    "### Dashboard hotspots"
   ]
  },
  {
   "cell_type": "code",
   "execution_count": 196,
   "id": "da81212d-97bd-4a3f-adf1-f70dce6971d9",
   "metadata": {},
   "outputs": [],
   "source": [
    "def hotspots(fu, methods, reference_category=('Impact Potential', 'GCC'),limit=0.05, func_unit=\"kg\"):\n",
    "    '''\n",
    "    Plot the contribution analysis of an activity for several impact categories and display the associated DataFrame ready to export. If the number of activities is too large, the figure is not displayed.\n",
    "    ----------\n",
    "    fu : dicitonnary of the single activity with its associated amount\n",
    "    methods : set of impact category methods\n",
    "    method_ref : method used for normalization ('Impact Potential', 'GCC') by default\n",
    "    limit: relative threshold of the total lca score from which contributors are displayed : (0.05 by default)\n",
    "    func_unit : functionnal unit (kg by default)\n",
    "    '''\n",
    "    df=lca_comparison(fu, methods, method_ref=reference_category)\n",
    "    \n",
    "    #to have one color by method, we define a dataframe:\n",
    "    df_color=pd.DataFrame(index=list_methods,data=[colors[c] for c in range(len(list_methods))]).T\n",
    "    \n",
    "    def contributions(act, method):\n",
    "        with warnings.catch_warnings():\n",
    "            warnings.simplefilter(\"ignore\")  \n",
    "            fig, axes = plt.subplots(figsize=(20,10))\n",
    "            sns.set_style(\"white\")\n",
    "            plt.subplots_adjust(None, None, None, None, 0.5, 0.5)\n",
    "            df_contrib=contributions_df(act,method,limit=limit)\n",
    "            plt.barh(df_contrib.index,df_contrib[method],alpha=0.8,color=df_color[method])\n",
    "            axes.set_title('Contribution analysis of  LCA on {}'\n",
    "                          .format(method[0]),fontsize=20)\n",
    "            axes.set_xlabel(method[0], fontsize=20)\n",
    "            axes.set_xticks([])\n",
    "            axes.set_yticks(range(len(df_contrib)), ['\\n'.join(textwrap.wrap(label, 40)) for label in df_contrib.index],fontsize=20)\n",
    "\n",
    "            #add each score of components\n",
    "            for bar in axes.patches:\n",
    "                y_offset = bar.get_width()/100\n",
    "                \n",
    "                # the color is white if the bar is dark and vice versa \n",
    "                r, g, b, _ = bar.get_facecolor()\n",
    "                if r + g + b > 1.8:\n",
    "                    c = 'black'\n",
    "                else:\n",
    "                    c = 'white'\n",
    "                    \n",
    "                axes.text(\n",
    "                    bar.get_x() + y_offset,\n",
    "                    bar.get_y() + bar.get_height()/2,\n",
    "                    str('{:.2e}'.format(bar.get_width())) + ' '+ method[1], \n",
    "                    ha='left',\n",
    "                    color=c,\n",
    "                    alpha=0.8,\n",
    "                    size=15,\n",
    "                )\n",
    "                \n",
    "            # Hide edges of the frame\n",
    "            for spine in axes.spines.values():\n",
    "                if spine.spine_type == 'left':\n",
    "                    spine.set_visible(True)\n",
    "                else:\n",
    "                    spine.set_visible(False)\n",
    "        \n",
    "            fig.suptitle(\"Contribution analysis of \" + act['name'] +\"\\n\", fontsize=30, fontweight='bold', ha='center',x=axes.get_position().x0+0.5, y=1.02) #centered title in bold\n",
    "            plt.tight_layout()\n",
    "            plt.show()\n",
    "            displayWithExportButton(df_contrib)\n",
    "    \n",
    "    if len(fu)>7:\n",
    "        print('The number of activities is too large to plot the contributions for each of them')\n",
    "    else :\n",
    "        for act in list(fu.keys()):\n",
    "            _display_tabs([(\"on \" + str(i[0]+' ['+i[1]+']'), lambda i=i: contributions(act,i)) for i in methods])\n"
   ]
  },
  {
   "cell_type": "code",
   "execution_count": 184,
   "id": "8298689f-097b-494b-b29c-4f97f19f1f8f",
   "metadata": {},
   "outputs": [
    {
     "data": {
      "application/vnd.jupyter.widget-view+json": {
       "model_id": "538010cbff9d4a6bac359911dbb14ccd",
       "version_major": 2,
       "version_minor": 0
      },
      "text/plain": [
       "Tab(children=(Output(), Output(), Output(), Output()), selected_index=0, titles=('on Impact Potential [GCC]', …"
      ]
     },
     "metadata": {},
     "output_type": "display_data"
    },
    {
     "data": {
      "application/vnd.jupyter.widget-view+json": {
       "model_id": "03dc96059727458c938f58c48635ca34",
       "version_major": 2,
       "version_minor": 0
      },
      "text/plain": [
       "Tab(children=(Output(), Output(), Output(), Output()), selected_index=0, titles=('on Impact Potential [GCC]', …"
      ]
     },
     "metadata": {},
     "output_type": "display_data"
    },
    {
     "data": {
      "application/vnd.jupyter.widget-view+json": {
       "model_id": "8d24c7aa010a409dbdf59dc948d76eaa",
       "version_major": 2,
       "version_minor": 0
      },
      "text/plain": [
       "Tab(children=(Output(), Output(), Output(), Output()), selected_index=0, titles=('on Impact Potential [GCC]', …"
      ]
     },
     "metadata": {},
     "output_type": "display_data"
    }
   ],
   "source": [
    "hotspots(fu, methods, limit=0.02)"
   ]
  },
  {
   "cell_type": "markdown",
   "id": "dd9554c2-4955-437b-99a5-c26d4becc7b0",
   "metadata": {},
   "source": [
    "### Dashboard balance"
   ]
  },
  {
   "cell_type": "code",
   "execution_count": 180,
   "id": "7d4c9453-8bf3-41a3-938f-faacbedcf231",
   "metadata": {},
   "outputs": [],
   "source": [
    "def balance(fu, methods, reference_category=('Impact Potential', 'GCC'),limit=5, cols=3):\n",
    "    '''\n",
    "    Plot the variations of the contribution of the top processes (for the reference method) for each impact category \n",
    "\n",
    "    ----------\n",
    "    fu : dicitonnary of the single activity with its associated amount\n",
    "    methods : set of impact category methods\n",
    "    method_ref : method used for normalization ('Impact Potential', 'GCC') by default\n",
    "    limit: relative threshold of the total lca score from which contributors are displayed : (0.05 by default)\n",
    "    '''\n",
    "\n",
    "    def reference_contributions(act):\n",
    "        #Get the top contributors for the reference impact category\n",
    "        df = contributions_df(act,reference_category,limit=limit,limit_type='number',group_by_other=False,norm=True)\n",
    "        top_contributors_reference = [a for a in df.index]\n",
    "\n",
    "        #Compute the contributors for the other impact categories and gather it into a dictionnary\n",
    "        contributions_by_category = {}\n",
    "        for m in methods:\n",
    "            contributions_by_category[m] = contributions_df(act, m, limit=0.000001,norm=True) #  very small threshold to get almost every contributors\n",
    "\n",
    "        # Create an empty dataframe with the top reference contributors as indexes and the impact categories as columns\n",
    "        result_df = pd.DataFrame(columns=methods, index=top_contributors_reference)\n",
    "\n",
    "        # For each reference top contributor, check if it appears in the contributions dataframes stored in the dictionary\n",
    "        for c in top_contributors_reference:\n",
    "            for m in methods:\n",
    "                if c in contributions_by_category[m].index:\n",
    "                    result_df.at[c, m] = contributions_by_category[m].at[c, m]\n",
    "                else:\n",
    "                    result_df.at[c, m] = pd.np.nan\n",
    "        \n",
    "        #Add a row for the other contributors\n",
    "        result_df.loc['Others'] = [100 - result_df[c].sum() for c in result_df.columns]\n",
    "\n",
    "        #Plot the dataframe in a horizontal bar chart\n",
    "        with warnings.catch_warnings():\n",
    "            warnings.simplefilter(\"ignore\")  \n",
    "            fig, axes = plt.subplots(figsize=(20,10))\n",
    "            nb_rows = int(np.ceil(len(methods) / cols))      \n",
    "\n",
    "            sns.set_style(\"white\")\n",
    "            plt.subplots_adjust(None, None, None, None, 0.5, 0.5)\n",
    "            axes = result_df.plot(\n",
    "                ax=axes, sharey=True, subplots=True,\n",
    "                layout=(nb_rows, cols),\n",
    "                legend=None,\n",
    "                rot=0,\n",
    "                kind='barh',\n",
    "                alpha=0.8,\n",
    "                fontsize=20,\n",
    "                color=colors)         \n",
    "            axes=axes.flatten()\n",
    "\n",
    "            for ax, m in zip(axes, methods):\n",
    "                ax.set_title(m[0], fontsize=15)\n",
    "                ax.set_xticks([])\n",
    "                ax.set_yticks(range(len(result_df)), ['\\n'.join(textwrap.wrap(label, 40)) for label in result_df.index],fontsize=20)\n",
    "                #add each score of components\n",
    "                for bar in ax.patches:\n",
    "                    y_offset = 1\n",
    "                    ax.text(\n",
    "                        bar.get_x() + + bar.get_width()+ y_offset,\n",
    "                        bar.get_y() + bar.get_height()/3,\n",
    "                        str('{:.0f}'.format(bar.get_width())) + ' %', \n",
    "                        ha='left',\n",
    "                        color='black',\n",
    "                        alpha=0.8,\n",
    "                        size=12)\n",
    "\n",
    "                # Hide edges of the frame\n",
    "                for spine in ax.spines.values():\n",
    "                    if spine.spine_type == 'left':\n",
    "                        spine.set_visible(True)\n",
    "                    else:\n",
    "                        spine.set_visible(False)\n",
    "                    \n",
    "            fig.suptitle(\"Contribution analysis of \" + act['name'] +\"\\n\", fontsize=30, fontweight='bold', ha='center', y=1.02) #centered title in bold\n",
    "            plt.tight_layout()\n",
    "            plt.show()\n",
    "            \n",
    "    _display_tabs([(j['name'], lambda k=j: reference_contributions(k)) for j in list(fu.keys())])"
   ]
  },
  {
   "cell_type": "code",
   "execution_count": 156,
   "id": "d5df430f-2d2a-4cd9-96d2-9c11a38a40c1",
   "metadata": {},
   "outputs": [
    {
     "data": {
      "application/vnd.jupyter.widget-view+json": {
       "model_id": "cd1eaad6c7514dba9a19597d7973aa38",
       "version_major": 2,
       "version_minor": 0
      },
      "text/plain": [
       "Tab(children=(Output(), Output(), Output()), selected_index=0, titles=('Internet publishing and broadcasting',…"
      ]
     },
     "metadata": {},
     "output_type": "display_data"
    }
   ],
   "source": [
    "balance(fu, methods,reference_category=('Impact Potential', 'GCC'),limit=5)"
   ]
  },
  {
   "cell_type": "markdown",
   "id": "b7830bec-54d8-43af-bb14-760ea13645e6",
   "metadata": {},
   "source": [
    "## Generic function : lca_graphic"
   ]
  },
  {
   "cell_type": "code",
   "execution_count": 195,
   "id": "18bcf5fa-4fbd-4cca-922f-6eab37ad7f64",
   "metadata": {},
   "outputs": [],
   "source": [
    "def lca_graphic(fu,methods,act_transfert, reference_category=('Impact Potential', 'GCC'), func_unit=\"kWh\"):\n",
    "    '''\n",
    "    Generic function that calls the other methods to plot :\n",
    "        - one dashboard that compare the impacts of serveral activites in different impact categories\n",
    "        - one dashboard for each activity to plot the main contributors for each impact categories\n",
    "        - one dashboard to plot the variations of the contribution of the top processes (for the reference method) for each impact category \n",
    "    ----------\n",
    "    fu : dicitonnary of the activity/activities to compare associated with its/their associated reference flow/s\n",
    "    methods : set of methods,\n",
    "    method_ref : method used for normalization    \n",
    "    act_transfert : activity for which the impact transfers compared to the top activity are computed\n",
    "    func_unit : functionnal unit (kg by default)    \n",
    "    '''\n",
    "    \n",
    "    compare(fu, methods, act_transfert, cols=cols, func_unit=func_unit)\n",
    "    hotspots(fu, methods, limit=0.02)\n",
    "    balance(fu, methods,reference_category=reference_category,limit=5)"
   ]
  },
  {
   "cell_type": "code",
   "execution_count": 193,
   "id": "9ccb2375-1f52-4255-bf89-75578be48414",
   "metadata": {},
   "outputs": [
    {
     "data": {
      "application/vnd.jupyter.widget-view+json": {
       "model_id": "594645687b614eee9376e54c1cb91ae1",
       "version_major": 2,
       "version_minor": 0
      },
      "text/plain": [
       "Tab(children=(Output(), Output(), Output(), Output()), selected_index=0, titles=('Reference indicator', 'All i…"
      ]
     },
     "metadata": {},
     "output_type": "display_data"
    },
    {
     "data": {
      "application/vnd.jupyter.widget-view+json": {
       "model_id": "dd622ef79ec447ec91a3092f091ae1d2",
       "version_major": 2,
       "version_minor": 0
      },
      "text/plain": [
       "Tab(children=(Output(), Output(), Output(), Output()), selected_index=0, titles=('on Impact Potential [GCC]', …"
      ]
     },
     "metadata": {},
     "output_type": "display_data"
    },
    {
     "data": {
      "application/vnd.jupyter.widget-view+json": {
       "model_id": "2f8347e94e464c52bf12c8672df66b3a",
       "version_major": 2,
       "version_minor": 0
      },
      "text/plain": [
       "Tab(children=(Output(), Output(), Output(), Output()), selected_index=0, titles=('on Impact Potential [GCC]', …"
      ]
     },
     "metadata": {},
     "output_type": "display_data"
    },
    {
     "data": {
      "application/vnd.jupyter.widget-view+json": {
       "model_id": "aad5bd8e106345c883c2bc48a74a3bae",
       "version_major": 2,
       "version_minor": 0
      },
      "text/plain": [
       "Tab(children=(Output(), Output(), Output(), Output()), selected_index=0, titles=('on Impact Potential [GCC]', …"
      ]
     },
     "metadata": {},
     "output_type": "display_data"
    },
    {
     "data": {
      "application/vnd.jupyter.widget-view+json": {
       "model_id": "af53d820c3b848fdb9cc878d32a1d384",
       "version_major": 2,
       "version_minor": 0
      },
      "text/plain": [
       "Tab(children=(Output(), Output(), Output()), selected_index=0, titles=('Storage batteries; at manufacturer', '…"
      ]
     },
     "metadata": {},
     "output_type": "display_data"
    }
   ],
   "source": [
    "lca_graphic(fu,methods,act2, reference_category=('Impact Potential', 'GCC'), cols=2, func_unit=\"kWh\")"
   ]
  },
  {
   "cell_type": "code",
   "execution_count": null,
   "id": "d866c355-a476-45e4-98a1-9f5e1c6bf6a1",
   "metadata": {},
   "outputs": [],
   "source": []
  }
 ],
 "metadata": {
  "kernelspec": {
   "display_name": "Python 3 (ipykernel)",
   "language": "python",
   "name": "python3"
  },
  "language_info": {
   "codemirror_mode": {
    "name": "ipython",
    "version": 3
   },
   "file_extension": ".py",
   "mimetype": "text/x-python",
   "name": "python",
   "nbconvert_exporter": "python",
   "pygments_lexer": "ipython3",
   "version": "3.11.0"
  },
  "vscode": {
   "interpreter": {
    "hash": "5f417be04f91f0718b989f3234292f09cafb7263a3fd4fa9e204297b1fa5cd6f"
   }
  }
 },
 "nbformat": 4,
 "nbformat_minor": 5
}
