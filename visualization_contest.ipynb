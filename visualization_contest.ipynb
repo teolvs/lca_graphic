{
 "cells": [
  {
   "cell_type": "markdown",
   "id": "e612716f-70a0-4a2d-b0dd-9854a0ccf2f6",
   "metadata": {},
   "source": [
    "# *``lca_graphic``* : **A toolbox for daily LCA users**"
   ]
  },
  {
   "cell_type": "markdown",
   "id": "f2ff7e1f-8c4f-4dea-9fd5-c3d4486b2662",
   "metadata": {},
   "source": [
    "---\n",
    "\n",
    "**Purpose = to give understandable graphs for the daily LCA users to quickly analyze his LCA**\n",
    "<br>\n",
    "---\n",
    "\n",
    "**Author** : Teo Lavisse, teo.lavisse@cea.fr       \n"
   ]
  },
  {
   "cell_type": "markdown",
   "id": "a4da6a81-21ca-4635-9b8f-18d286d83e52",
   "metadata": {
    "tags": []
   },
   "source": [
    "## Initializing"
   ]
  },
  {
   "cell_type": "code",
   "execution_count": 1,
   "id": "1dd4042e-1a62-43a0-a2b9-ce24ea189760",
   "metadata": {},
   "outputs": [],
   "source": [
    "import bw2data as bd\n",
    "import bw2calc as bc\n",
    "import bw2io as bi\n",
    "import numpy as np\n",
    "import matplotlib.pyplot as plt\n",
    "from pathlib import Path\n",
    "import pandas as pd\n",
    "import json\n",
    "import os\n",
    "import matrix_utils as mu\n",
    "import bw_processing as bp\n",
    "import math\n",
    "import warnings\n",
    "import ipywidgets as widgets\n",
    "from ipywidgets import interact\n",
    "import bw2analyzer as ba\n",
    "import seaborn as sns\n",
    "import textwrap\n",
    "\n",
    "from utils import *\n",
    "from dashboards import *"
   ]
  },
  {
   "cell_type": "code",
   "execution_count": 2,
   "id": "f805dca7-63e1-4c80-931c-96b54dbfb426",
   "metadata": {},
   "outputs": [],
   "source": [
    "bd.projects.set_current(\"Visualization\")"
   ]
  },
  {
   "cell_type": "markdown",
   "id": "8c234f2f-75de-4d34-8676-12f4b7ec61db",
   "metadata": {
    "tags": []
   },
   "source": [
    "### Importing Databases"
   ]
  },
  {
   "cell_type": "code",
   "execution_count": 3,
   "id": "05568b3a-1e2b-41c7-93de-6950d51e9b5a",
   "metadata": {},
   "outputs": [
    {
     "data": {
      "text/plain": [
       "Databases dictionary with 3 object(s):\n",
       "\tUS EEIO 1.1\n",
       "\tbiosphere3\n",
       "\tecoinvent 3.9_cutoff"
      ]
     },
     "execution_count": 3,
     "metadata": {},
     "output_type": "execute_result"
    }
   ],
   "source": [
    "bd.databases\n"
   ]
  },
  {
   "cell_type": "code",
   "execution_count": 4,
   "id": "ca19dd8e-a073-4902-a3ea-b94c747751c4",
   "metadata": {},
   "outputs": [],
   "source": [
    "db_USLCI=bd.Database(\"US EEIO 1.1\")\n",
    "db_EI=bd.Database(\"ecoinvent 3.9_cutoff\")"
   ]
  },
  {
   "cell_type": "markdown",
   "id": "19e8af32-ce56-42c4-9c14-6ccc8c7fa35f",
   "metadata": {
    "tags": []
   },
   "source": [
    "###  Get activities and methods"
   ]
  },
  {
   "cell_type": "markdown",
   "id": "6af2612b-e376-4d88-844b-901bc402a531",
   "metadata": {
    "jp-MarkdownHeadingCollapsed": true,
    "tags": []
   },
   "source": [
    "#### US LCI"
   ]
  },
  {
   "cell_type": "markdown",
   "id": "acade620-4874-43e0-9437-c969e84d78e4",
   "metadata": {},
   "source": [
    "Get 2 activities and methods from the database"
   ]
  },
  {
   "cell_type": "code",
   "execution_count": 5,
   "id": "7c710767-b1f6-40db-b64d-4e0d9975e81f",
   "metadata": {},
   "outputs": [
    {
     "data": {
      "text/plain": [
       "'Metal windows, doors, and architectural products; at manufacturer' (, United States, ('31-33: Manufacturing', '3323: Architectural and Structural Metals Manufacturing'))"
      ]
     },
     "execution_count": 5,
     "metadata": {},
     "output_type": "execute_result"
    }
   ],
   "source": [
    "window_metal=next(node for node in db_USLCI if node['type'] == 'product' if node['name']==\"Metal windows, doors, and architectural products; at manufacturer\")\n",
    "window_metal"
   ]
  },
  {
   "cell_type": "code",
   "execution_count": 6,
   "id": "4bb44a27-0edd-45f0-8e72-7e4acb99deec",
   "metadata": {},
   "outputs": [
    {
     "data": {
      "text/plain": [
       "'Wooden windows, door, and flooring; at manufacturer' (, United States, ('31-33: Manufacturing', '3219: Other Wood Product Manufacturing'))"
      ]
     },
     "execution_count": 6,
     "metadata": {},
     "output_type": "execute_result"
    }
   ],
   "source": [
    "window_wood=next(node for node in db_USLCI if node['type'] == 'product' if node['name']==\"Wooden windows, door, and flooring; at manufacturer\")\n",
    "window_wood"
   ]
  },
  {
   "cell_type": "code",
   "execution_count": 7,
   "id": "f2755f87-304f-4329-98ef-336fbb928c09",
   "metadata": {},
   "outputs": [],
   "source": [
    "fu={window_metal:1,window_wood:1}"
   ]
  },
  {
   "cell_type": "code",
   "execution_count": 8,
   "id": "f2062ad7-2ed3-40ae-ba20-8ebf6051b828",
   "metadata": {},
   "outputs": [],
   "source": [
    "methods = [\n",
    "    ('Impact Potential', 'GCC'),\n",
    "    ('Impact Potential', 'HTOX'),\n",
    "    ('Resource Use', 'LAND'),\n",
    "    ('Resource Use', 'WATR'),\n",
    "]"
   ]
  },
  {
   "cell_type": "markdown",
   "id": "e54c56da-bb0d-45ee-982f-83e91a76b18b",
   "metadata": {
    "jp-MarkdownHeadingCollapsed": true,
    "tags": []
   },
   "source": [
    "#### EI"
   ]
  },
  {
   "cell_type": "code",
   "execution_count": 9,
   "id": "c9a190b9-8af1-4447-9a21-e2a65ee67aca",
   "metadata": {},
   "outputs": [],
   "source": [
    "act1 = db_EI.random()\n",
    "act2 = db_EI.random()\n",
    "\n",
    "fu = {act1: 1, act2: 1}"
   ]
  },
  {
   "cell_type": "code",
   "execution_count": 10,
   "id": "c087e343-bdf9-4faa-ab5a-d47d5a8b8921",
   "metadata": {},
   "outputs": [],
   "source": [
    "CC = [method for method in bd.methods if \"IPCC 2021\" in str(method) and \"GWP100\" in str(method)][0]\n",
    "ADP = [method for method in bd.methods if \"ADP\" in str(method) if \"ultimate reserves\" in str(method) if 'EF v3.1 no LT' in str(method)][0]\n",
    "TOX = [method for method in bd.methods if \"human toxicity: carcinogenic no LT\" in str(method) if 'EF v3.1' in str(method)][0]\n",
    "\n",
    "impact_categories = [CC, ADP, TOX]"
   ]
  },
  {
   "cell_type": "code",
   "execution_count": 11,
   "id": "b3b07fe5-e3cf-45a2-87c9-760127fd7e98",
   "metadata": {},
   "outputs": [
    {
     "data": {
      "text/plain": [
       "{'market for maize silage' (kilogram, BR, None): 1,\n",
       " 'electricity production, hydro, run-of-river' (kilowatt hour, ZA, None): 1}"
      ]
     },
     "execution_count": 11,
     "metadata": {},
     "output_type": "execute_result"
    }
   ],
   "source": [
    "fu"
   ]
  },
  {
   "cell_type": "markdown",
   "id": "b12a1acf-1ca0-487d-8cdc-cbb9c2f25877",
   "metadata": {
    "tags": []
   },
   "source": [
    "##  Perform basic lca computations"
   ]
  },
  {
   "cell_type": "code",
   "execution_count": 12,
   "id": "18a19d32-fa2d-43d9-882e-838a4a5e0a38",
   "metadata": {},
   "outputs": [
    {
     "data": {
      "text/plain": [
       "{'market for maize silage' (kilogram, BR, None): 1,\n",
       " 'electricity production, hydro, run-of-river' (kilowatt hour, ZA, None): 1}"
      ]
     },
     "execution_count": 12,
     "metadata": {},
     "output_type": "execute_result"
    }
   ],
   "source": [
    "fu"
   ]
  },
  {
   "cell_type": "code",
   "execution_count": 13,
   "id": "c97c208a-4f55-4695-a52b-d64c65d61734",
   "metadata": {},
   "outputs": [
    {
     "data": {
      "text/html": [
       "<div>\n",
       "<style scoped>\n",
       "    .dataframe tbody tr th:only-of-type {\n",
       "        vertical-align: middle;\n",
       "    }\n",
       "\n",
       "    .dataframe tbody tr th {\n",
       "        vertical-align: top;\n",
       "    }\n",
       "\n",
       "    .dataframe thead th {\n",
       "        text-align: right;\n",
       "    }\n",
       "</style>\n",
       "<table border=\"1\" class=\"dataframe\">\n",
       "  <thead>\n",
       "    <tr style=\"text-align: right;\">\n",
       "      <th></th>\n",
       "      <th>(IPCC 2021 no LT, climate change no LT, global warming potential (GWP100) no LT)</th>\n",
       "      <th>(EF v3.1 no LT, material resources: metals/minerals no LT, abiotic depletion potential (ADP): elements (ultimate reserves) no LT)</th>\n",
       "      <th>(EF v3.1 no LT, human toxicity: carcinogenic no LT, comparative toxic unit for human (CTUh) no LT)</th>\n",
       "    </tr>\n",
       "  </thead>\n",
       "  <tbody>\n",
       "    <tr>\n",
       "      <th>market for maize silage</th>\n",
       "      <td>0.061560</td>\n",
       "      <td>4.588674e-07</td>\n",
       "      <td>9.477998e-11</td>\n",
       "    </tr>\n",
       "    <tr>\n",
       "      <th>electricity production, hydro, run-of-river</th>\n",
       "      <td>0.004524</td>\n",
       "      <td>2.349866e-08</td>\n",
       "      <td>1.365371e-11</td>\n",
       "    </tr>\n",
       "  </tbody>\n",
       "</table>\n",
       "</div>"
      ],
      "text/plain": [
       "                                             (IPCC 2021 no LT, climate change no LT, global warming potential (GWP100) no LT)  \\\n",
       "market for maize silage                                                               0.061560                                  \n",
       "electricity production, hydro, run-of-river                                           0.004524                                  \n",
       "\n",
       "                                             (EF v3.1 no LT, material resources: metals/minerals no LT, abiotic depletion potential (ADP): elements (ultimate reserves) no LT)  \\\n",
       "market for maize silage                                                           4.588674e-07                                                                                   \n",
       "electricity production, hydro, run-of-river                                       2.349866e-08                                                                                   \n",
       "\n",
       "                                             (EF v3.1 no LT, human toxicity: carcinogenic no LT, comparative toxic unit for human (CTUh) no LT)  \n",
       "market for maize silage                                                           9.477998e-11                                                   \n",
       "electricity production, hydro, run-of-river                                       1.365371e-11                                                   "
      ]
     },
     "execution_count": 13,
     "metadata": {},
     "output_type": "execute_result"
    }
   ],
   "source": [
    "df=lca_comparison(fu, impact_categories)\n",
    "df"
   ]
  },
  {
   "cell_type": "code",
   "execution_count": 14,
   "id": "54eb5447-c6b4-41fa-8167-dc033ebf9a65",
   "metadata": {},
   "outputs": [
    {
     "data": {
      "text/html": [
       "<div>\n",
       "<style scoped>\n",
       "    .dataframe tbody tr th:only-of-type {\n",
       "        vertical-align: middle;\n",
       "    }\n",
       "\n",
       "    .dataframe tbody tr th {\n",
       "        vertical-align: top;\n",
       "    }\n",
       "\n",
       "    .dataframe thead th {\n",
       "        text-align: right;\n",
       "    }\n",
       "</style>\n",
       "<table border=\"1\" class=\"dataframe\">\n",
       "  <thead>\n",
       "    <tr style=\"text-align: right;\">\n",
       "      <th></th>\n",
       "      <th>market for maize silage</th>\n",
       "      <th>electricity production, hydro, run-of-river</th>\n",
       "    </tr>\n",
       "  </thead>\n",
       "  <tbody>\n",
       "    <tr>\n",
       "      <th>(IPCC 2021 no LT, climate change no LT, global warming potential (GWP100) no LT)</th>\n",
       "      <td>100.0</td>\n",
       "      <td>7.349681</td>\n",
       "    </tr>\n",
       "    <tr>\n",
       "      <th>(EF v3.1 no LT, material resources: metals/minerals no LT, abiotic depletion potential (ADP): elements (ultimate reserves) no LT)</th>\n",
       "      <td>100.0</td>\n",
       "      <td>5.121014</td>\n",
       "    </tr>\n",
       "    <tr>\n",
       "      <th>(EF v3.1 no LT, human toxicity: carcinogenic no LT, comparative toxic unit for human (CTUh) no LT)</th>\n",
       "      <td>100.0</td>\n",
       "      <td>14.405686</td>\n",
       "    </tr>\n",
       "  </tbody>\n",
       "</table>\n",
       "</div>"
      ],
      "text/plain": [
       "                                                    market for maize silage  \\\n",
       "(IPCC 2021 no LT, climate change no LT, global ...                    100.0   \n",
       "(EF v3.1 no LT, material resources: metals/mine...                    100.0   \n",
       "(EF v3.1 no LT, human toxicity: carcinogenic no...                    100.0   \n",
       "\n",
       "                                                    electricity production, hydro, run-of-river  \n",
       "(IPCC 2021 no LT, climate change no LT, global ...                                     7.349681  \n",
       "(EF v3.1 no LT, material resources: metals/mine...                                     5.121014  \n",
       "(EF v3.1 no LT, human toxicity: carcinogenic no...                                    14.405686  "
      ]
     },
     "execution_count": 14,
     "metadata": {},
     "output_type": "execute_result"
    }
   ],
   "source": [
    "df_norm=df.T.apply(lambda x: x/x.max(), axis=1)*100 #to normalize the results for each impact category\n",
    "df_norm"
   ]
  },
  {
   "cell_type": "markdown",
   "id": "b11d3183-c4f7-4ed4-8b69-ec1a7e2fd8d8",
   "metadata": {
    "tags": []
   },
   "source": [
    "## Perform a basic contribution analysis"
   ]
  },
  {
   "cell_type": "code",
   "execution_count": 15,
   "id": "d1afc24e-8c24-4235-9232-b5576ecd7a2c",
   "metadata": {},
   "outputs": [
    {
     "data": {
      "text/plain": [
       "'market for maize silage' (kilogram, BR, None)"
      ]
     },
     "execution_count": 15,
     "metadata": {},
     "output_type": "execute_result"
    }
   ],
   "source": [
    "act_topscore(fu, CC)"
   ]
  },
  {
   "cell_type": "code",
   "execution_count": 36,
   "id": "6eb97725-eb85-407a-97cf-44ac2a464d40",
   "metadata": {},
   "outputs": [],
   "source": [
    "df=contributions_df(act1,CC,limit=5,limit_type='number',norm=True, group_by_other=True)"
   ]
  },
  {
   "cell_type": "code",
   "execution_count": 37,
   "id": "ffff255e-721d-45bc-9398-75dec076dfd0",
   "metadata": {},
   "outputs": [
    {
     "data": {
      "text/html": [
       "<div>\n",
       "<style scoped>\n",
       "    .dataframe tbody tr th:only-of-type {\n",
       "        vertical-align: middle;\n",
       "    }\n",
       "\n",
       "    .dataframe tbody tr th {\n",
       "        vertical-align: top;\n",
       "    }\n",
       "\n",
       "    .dataframe thead th {\n",
       "        text-align: right;\n",
       "    }\n",
       "</style>\n",
       "<table border=\"1\" class=\"dataframe\">\n",
       "  <thead>\n",
       "    <tr style=\"text-align: right;\">\n",
       "      <th></th>\n",
       "      <th>(IPCC 2021 no LT, climate change no LT, global warming potential (GWP100) no LT)</th>\n",
       "    </tr>\n",
       "  </thead>\n",
       "  <tbody>\n",
       "    <tr>\n",
       "      <th>0f42c1a81749fe6c6ea9b8d5876e1921</th>\n",
       "      <td>-6.596539</td>\n",
       "    </tr>\n",
       "    <tr>\n",
       "      <th>a819bfd13adefc9d2f6c05444dc985d0</th>\n",
       "      <td>4.371495</td>\n",
       "    </tr>\n",
       "    <tr>\n",
       "      <th>e23afab9f29944ff46bf1e1c02a90e3e</th>\n",
       "      <td>4.600684</td>\n",
       "    </tr>\n",
       "    <tr>\n",
       "      <th>7f4f4179f172f5b9cf7e1d923b6b1897</th>\n",
       "      <td>5.354151</td>\n",
       "    </tr>\n",
       "    <tr>\n",
       "      <th>Others</th>\n",
       "      <td>45.720657</td>\n",
       "    </tr>\n",
       "    <tr>\n",
       "      <th>c36959056f9a688a2bdc608ba7d4f8cb</th>\n",
       "      <td>46.549551</td>\n",
       "    </tr>\n",
       "  </tbody>\n",
       "</table>\n",
       "</div>"
      ],
      "text/plain": [
       "                                  (IPCC 2021 no LT, climate change no LT, global warming potential (GWP100) no LT)\n",
       "0f42c1a81749fe6c6ea9b8d5876e1921                                          -6.596539                               \n",
       "a819bfd13adefc9d2f6c05444dc985d0                                           4.371495                               \n",
       "e23afab9f29944ff46bf1e1c02a90e3e                                           4.600684                               \n",
       "7f4f4179f172f5b9cf7e1d923b6b1897                                           5.354151                               \n",
       "Others                                                                    45.720657                               \n",
       "c36959056f9a688a2bdc608ba7d4f8cb                                          46.549551                               "
      ]
     },
     "execution_count": 37,
     "metadata": {},
     "output_type": "execute_result"
    }
   ],
   "source": [
    "df"
   ]
  },
  {
   "cell_type": "code",
   "execution_count": 38,
   "id": "034137e2-3fa3-482a-a7c3-71493b139f12",
   "metadata": {},
   "outputs": [
    {
     "data": {
      "text/plain": [
       "100.0"
      ]
     },
     "execution_count": 38,
     "metadata": {},
     "output_type": "execute_result"
    }
   ],
   "source": [
    "df.values.sum()"
   ]
  },
  {
   "cell_type": "markdown",
   "id": "a7524732-b07b-49e8-a421-25d0e443f114",
   "metadata": {},
   "source": [
    "## Display all thes informations in a nice dashboard"
   ]
  },
  {
   "cell_type": "markdown",
   "id": "e2e88f64-9513-4349-b712-ffe976f6326b",
   "metadata": {
    "tags": []
   },
   "source": [
    "### Defining colors"
   ]
  },
  {
   "cell_type": "code",
   "execution_count": 39,
   "id": "025a2537-7388-48b9-b3d1-7d9e2670eaaf",
   "metadata": {},
   "outputs": [],
   "source": [
    "#define standard color palette:\n",
    "colors = [\"#F08C2E\", \"#7f6000\", \"#72AF42\", \"#A32683\"]\n",
    "\n",
    "#create longer color list for complex figures\n",
    "color_div_YlBr=sns.color_palette('YlOrBr',6)\n",
    "color_seq_green=sns.color_palette('Greens',6)\n",
    "color_seq_RdPu=sns.color_palette('RdPu',6)\n",
    "color_seq_org=sns.color_palette('Oranges',5)\n",
    "\n",
    "colors.extend(colors)\n",
    "# colors.extend(color_div_YlBr)\n",
    "# colors.extend(color_seq_green)\n",
    "# colors.extend(color_seq_RdPu)\n",
    "# colors.extend(color_seq_org)\n",
    "\n",
    "df_color=pd.DataFrame(index=impact_categories,data=[colors[c] for c in range(len(impact_categories))]).T"
   ]
  },
  {
   "cell_type": "markdown",
   "id": "ed2ef574-052c-479d-abe2-dbeed35be06e",
   "metadata": {
    "tags": []
   },
   "source": [
    "### Dashboard compare"
   ]
  },
  {
   "cell_type": "code",
   "execution_count": 40,
   "id": "7f709172-b208-44ea-9cd5-d7eea7b920b9",
   "metadata": {},
   "outputs": [
    {
     "data": {
      "application/vnd.jupyter.widget-view+json": {
       "model_id": "312f3c3502e84b0698c336a102b07cbd",
       "version_major": 2,
       "version_minor": 0
      },
      "text/plain": [
       "Tab(children=(Output(), Output()), selected_index=0, titles=('Reference indicator', 'All indicators'))"
      ]
     },
     "metadata": {},
     "output_type": "display_data"
    }
   ],
   "source": [
    "compare(fu, impact_categories, sharex=False, cols=2, func_unit=\"kg\")"
   ]
  },
  {
   "cell_type": "markdown",
   "id": "04030ddb-8a71-4ffd-bbb5-9837518fa0cb",
   "metadata": {
    "tags": []
   },
   "source": [
    "### Dashboard hotspots"
   ]
  },
  {
   "cell_type": "code",
   "execution_count": 21,
   "id": "0633cc3c-9a6b-41ea-a5db-7c853b0becd4",
   "metadata": {},
   "outputs": [
    {
     "data": {
      "text/html": [
       "<div>\n",
       "<style scoped>\n",
       "    .dataframe tbody tr th:only-of-type {\n",
       "        vertical-align: middle;\n",
       "    }\n",
       "\n",
       "    .dataframe tbody tr th {\n",
       "        vertical-align: top;\n",
       "    }\n",
       "\n",
       "    .dataframe thead th {\n",
       "        text-align: right;\n",
       "    }\n",
       "</style>\n",
       "<table border=\"1\" class=\"dataframe\">\n",
       "  <thead>\n",
       "    <tr style=\"text-align: right;\">\n",
       "      <th></th>\n",
       "      <th>(IPCC 2021 no LT, climate change no LT, global warming potential (GWP100) no LT)</th>\n",
       "      <th>(EF v3.1 no LT, material resources: metals/minerals no LT, abiotic depletion potential (ADP): elements (ultimate reserves) no LT)</th>\n",
       "      <th>(EF v3.1 no LT, human toxicity: carcinogenic no LT, comparative toxic unit for human (CTUh) no LT)</th>\n",
       "    </tr>\n",
       "  </thead>\n",
       "  <tbody>\n",
       "    <tr>\n",
       "      <th>market for maize silage</th>\n",
       "      <td>0.061560</td>\n",
       "      <td>4.588674e-07</td>\n",
       "      <td>9.477998e-11</td>\n",
       "    </tr>\n",
       "    <tr>\n",
       "      <th>electricity production, hydro, run-of-river</th>\n",
       "      <td>0.004524</td>\n",
       "      <td>2.349866e-08</td>\n",
       "      <td>1.365371e-11</td>\n",
       "    </tr>\n",
       "  </tbody>\n",
       "</table>\n",
       "</div>"
      ],
      "text/plain": [
       "                                             (IPCC 2021 no LT, climate change no LT, global warming potential (GWP100) no LT)  \\\n",
       "market for maize silage                                                               0.061560                                  \n",
       "electricity production, hydro, run-of-river                                           0.004524                                  \n",
       "\n",
       "                                             (EF v3.1 no LT, material resources: metals/minerals no LT, abiotic depletion potential (ADP): elements (ultimate reserves) no LT)  \\\n",
       "market for maize silage                                                           4.588674e-07                                                                                   \n",
       "electricity production, hydro, run-of-river                                       2.349866e-08                                                                                   \n",
       "\n",
       "                                             (EF v3.1 no LT, human toxicity: carcinogenic no LT, comparative toxic unit for human (CTUh) no LT)  \n",
       "market for maize silage                                                           9.477998e-11                                                   \n",
       "electricity production, hydro, run-of-river                                       1.365371e-11                                                   "
      ]
     },
     "execution_count": 21,
     "metadata": {},
     "output_type": "execute_result"
    }
   ],
   "source": [
    "df = lca_comparison(fu, impact_categories)\n",
    "df"
   ]
  },
  {
   "cell_type": "code",
   "execution_count": 22,
   "id": "c05d78be-0330-4d5e-a485-26549c638e2d",
   "metadata": {},
   "outputs": [
    {
     "data": {
      "text/plain": [
       "'market for maize silage' (kilogram, BR, None)"
      ]
     },
     "execution_count": 22,
     "metadata": {},
     "output_type": "execute_result"
    }
   ],
   "source": [
    "act1"
   ]
  },
  {
   "cell_type": "code",
   "execution_count": 23,
   "id": "91ea4eaf-7c6c-48f1-b535-a83e5b169d42",
   "metadata": {},
   "outputs": [
    {
     "data": {
      "text/html": [
       "<div>\n",
       "<style scoped>\n",
       "    .dataframe tbody tr th:only-of-type {\n",
       "        vertical-align: middle;\n",
       "    }\n",
       "\n",
       "    .dataframe tbody tr th {\n",
       "        vertical-align: top;\n",
       "    }\n",
       "\n",
       "    .dataframe thead th {\n",
       "        text-align: right;\n",
       "    }\n",
       "</style>\n",
       "<table border=\"1\" class=\"dataframe\">\n",
       "  <thead>\n",
       "    <tr style=\"text-align: right;\">\n",
       "      <th></th>\n",
       "      <th>(IPCC 2021 no LT, climate change no LT, global warming potential (GWP100) no LT)</th>\n",
       "    </tr>\n",
       "  </thead>\n",
       "  <tbody>\n",
       "    <tr>\n",
       "      <th>0f42c1a81749fe6c6ea9b8d5876e1921</th>\n",
       "      <td>-0.004061</td>\n",
       "    </tr>\n",
       "    <tr>\n",
       "      <th>c36959056f9a688a2bdc608ba7d4f8cb</th>\n",
       "      <td>0.028656</td>\n",
       "    </tr>\n",
       "  </tbody>\n",
       "</table>\n",
       "</div>"
      ],
      "text/plain": [
       "                                  (IPCC 2021 no LT, climate change no LT, global warming potential (GWP100) no LT)\n",
       "0f42c1a81749fe6c6ea9b8d5876e1921                                          -0.004061                               \n",
       "c36959056f9a688a2bdc608ba7d4f8cb                                           0.028656                               "
      ]
     },
     "execution_count": 23,
     "metadata": {},
     "output_type": "execute_result"
    }
   ],
   "source": [
    "df_contrib = contributions_df(act1,CC,limit=0.05)\n",
    "df_contrib"
   ]
  },
  {
   "cell_type": "code",
   "execution_count": null,
   "id": "b5855750-3b64-4967-b505-0be4ae56e181",
   "metadata": {},
   "outputs": [],
   "source": []
  },
  {
   "cell_type": "code",
   "execution_count": 24,
   "id": "8298689f-097b-494b-b29c-4f97f19f1f8f",
   "metadata": {},
   "outputs": [
    {
     "data": {
      "application/vnd.jupyter.widget-view+json": {
       "model_id": "5351bef8f7794418b794e1bf400dcb67",
       "version_major": 2,
       "version_minor": 0
      },
      "text/plain": [
       "Tab(children=(Output(), Output(), Output()), selected_index=0, titles=('on climate change no LT', 'on material…"
      ]
     },
     "metadata": {},
     "output_type": "display_data"
    },
    {
     "data": {
      "application/vnd.jupyter.widget-view+json": {
       "model_id": "e92322d8797e4d95967d3fbce78ec244",
       "version_major": 2,
       "version_minor": 0
      },
      "text/plain": [
       "Tab(children=(Output(), Output(), Output()), selected_index=0, titles=('on climate change no LT', 'on material…"
      ]
     },
     "metadata": {},
     "output_type": "display_data"
    }
   ],
   "source": [
    "hotspots(fu, impact_categories, limit=0.05)"
   ]
  },
  {
   "cell_type": "markdown",
   "id": "dd9554c2-4955-437b-99a5-c26d4becc7b0",
   "metadata": {
    "tags": []
   },
   "source": [
    "### Dashboard impact_transfer"
   ]
  },
  {
   "cell_type": "code",
   "execution_count": 25,
   "id": "d5df430f-2d2a-4cd9-96d2-9c11a38a40c1",
   "metadata": {},
   "outputs": [
    {
     "data": {
      "application/vnd.jupyter.widget-view+json": {
       "model_id": "0f24a9790e0a46b6aa83f91f4c36b944",
       "version_major": 2,
       "version_minor": 0
      },
      "text/plain": [
       "Tab(children=(Output(), Output(), Output(), Output()), selected_index=0, titles=('Impact transfer', 'Heatmap',…"
      ]
     },
     "metadata": {},
     "output_type": "display_data"
    }
   ],
   "source": [
    "impact_transfer({act1:1,act2:1}, impact_categories,limit=5, cols=2, func_unit=\"kWh\")"
   ]
  },
  {
   "cell_type": "markdown",
   "id": "b7830bec-54d8-43af-bb14-760ea13645e6",
   "metadata": {},
   "source": [
    "## Generic function : lca_graphic"
   ]
  },
  {
   "cell_type": "code",
   "execution_count": 27,
   "id": "e9ed3aa8-0707-4117-a611-491ba2292585",
   "metadata": {},
   "outputs": [
    {
     "data": {
      "application/vnd.jupyter.widget-view+json": {
       "model_id": "376eacab024b43b9abe554686aca67ac",
       "version_major": 2,
       "version_minor": 0
      },
      "text/plain": [
       "Tab(children=(Output(), Output()), selected_index=0, titles=('Reference indicator', 'All indicators'))"
      ]
     },
     "metadata": {},
     "output_type": "display_data"
    },
    {
     "data": {
      "application/vnd.jupyter.widget-view+json": {
       "model_id": "d6f4e73e0960480094aa7a0169abd79b",
       "version_major": 2,
       "version_minor": 0
      },
      "text/plain": [
       "Tab(children=(Output(), Output(), Output(), Output()), selected_index=0, titles=('Impact transfer', 'Heatmap',…"
      ]
     },
     "metadata": {},
     "output_type": "display_data"
    },
    {
     "data": {
      "application/vnd.jupyter.widget-view+json": {
       "model_id": "a6c905a1335e4ccda245c0d5f00bfbdb",
       "version_major": 2,
       "version_minor": 0
      },
      "text/plain": [
       "Tab(children=(Output(), Output(), Output()), selected_index=0, titles=('on climate change no LT', 'on material…"
      ]
     },
     "metadata": {},
     "output_type": "display_data"
    },
    {
     "data": {
      "application/vnd.jupyter.widget-view+json": {
       "model_id": "f1a88cda3e694a60875137be6b2c2253",
       "version_major": 2,
       "version_minor": 0
      },
      "text/plain": [
       "Tab(children=(Output(), Output(), Output()), selected_index=0, titles=('on climate change no LT', 'on material…"
      ]
     },
     "metadata": {},
     "output_type": "display_data"
    }
   ],
   "source": [
    "lca_graphic(fu,impact_categories)"
   ]
  },
  {
   "cell_type": "code",
   "execution_count": 26,
   "id": "0eca8ecb-2006-4eab-a661-65569b33f095",
   "metadata": {},
   "outputs": [
    {
     "data": {
      "application/vnd.jupyter.widget-view+json": {
       "model_id": "be8afd353f5a4e10a209242aad482735",
       "version_major": 2,
       "version_minor": 0
      },
      "text/plain": [
       "Tab(children=(Output(), Output()), selected_index=0, titles=('Reference indicator', 'All indicators'))"
      ]
     },
     "metadata": {},
     "output_type": "display_data"
    },
    {
     "data": {
      "application/vnd.jupyter.widget-view+json": {
       "model_id": "0af606646a0343ef80774a5e53c55c51",
       "version_major": 2,
       "version_minor": 0
      },
      "text/plain": [
       "Tab(children=(Output(), Output(), Output(), Output()), selected_index=0, titles=('Impact transfer', 'Heatmap',…"
      ]
     },
     "metadata": {},
     "output_type": "display_data"
    },
    {
     "data": {
      "application/vnd.jupyter.widget-view+json": {
       "model_id": "f2a2f539ef7141b88210f62c3887213e",
       "version_major": 2,
       "version_minor": 0
      },
      "text/plain": [
       "Tab(children=(Output(), Output(), Output(), Output()), selected_index=0, titles=('on GCC', 'on HTOX', 'on LAND…"
      ]
     },
     "metadata": {},
     "output_type": "display_data"
    },
    {
     "data": {
      "application/vnd.jupyter.widget-view+json": {
       "model_id": "f5af460e524846bf9a3599c3a768f752",
       "version_major": 2,
       "version_minor": 0
      },
      "text/plain": [
       "Tab(children=(Output(), Output(), Output(), Output()), selected_index=0, titles=('on GCC', 'on HTOX', 'on LAND…"
      ]
     },
     "metadata": {},
     "output_type": "display_data"
    }
   ],
   "source": [
    "lca_graphic({window_metal:1,window_wood:1},methods, reference_category=('Impact Potential', 'GCC'), func_unit=\"kg\")"
   ]
  }
 ],
 "metadata": {
  "kernelspec": {
   "display_name": "Python 3 (ipykernel)",
   "language": "python",
   "name": "python3"
  },
  "language_info": {
   "codemirror_mode": {
    "name": "ipython",
    "version": 3
   },
   "file_extension": ".py",
   "mimetype": "text/x-python",
   "name": "python",
   "nbconvert_exporter": "python",
   "pygments_lexer": "ipython3",
   "version": "3.11.0 | packaged by conda-forge | (main, Oct 25 2022, 06:12:32) [MSC v.1929 64 bit (AMD64)]"
  },
  "vscode": {
   "interpreter": {
    "hash": "5f417be04f91f0718b989f3234292f09cafb7263a3fd4fa9e204297b1fa5cd6f"
   }
  }
 },
 "nbformat": 4,
 "nbformat_minor": 5
}
