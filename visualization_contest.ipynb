{
 "cells": [
  {
   "cell_type": "markdown",
   "id": "e612716f-70a0-4a2d-b0dd-9854a0ccf2f6",
   "metadata": {},
   "source": [
    "# *``lca_graphic``* : **A toolbox for daily LCA users**"
   ]
  },
  {
   "cell_type": "markdown",
   "id": "f2ff7e1f-8c4f-4dea-9fd5-c3d4486b2662",
   "metadata": {},
   "source": [
    "---\n",
    "\n",
    "**Purpose = to give understandable graphs for the daily LCA users to quickly analyze his LCA**\n",
    "<br>\n",
    "---\n",
    "Author : Teo Lavisse, teo.lavisse@cea.fr       \n",
    "---\n"
   ]
  },
  {
   "cell_type": "markdown",
   "id": "a4da6a81-21ca-4635-9b8f-18d286d83e52",
   "metadata": {
    "tags": []
   },
   "source": [
    "## Initializing"
   ]
  },
  {
   "cell_type": "code",
   "execution_count": 1,
   "id": "1dd4042e-1a62-43a0-a2b9-ce24ea189760",
   "metadata": {},
   "outputs": [],
   "source": [
    "import bw2data as bd\n",
    "import bw2calc as bc\n",
    "import bw2io as bi\n",
    "import numpy as np\n",
    "import matplotlib.pyplot as plt\n",
    "from pathlib import Path\n",
    "import pandas as pd\n",
    "import json\n",
    "import os\n",
    "import matrix_utils as mu\n",
    "import bw_processing as bp\n",
    "import math\n",
    "import warnings\n",
    "import ipywidgets as widgets\n",
    "from ipywidgets import interact\n",
    "import bw2analyzer as ba\n",
    "import seaborn as sns\n",
    "import textwrap\n",
    "\n",
    "from utils import *\n",
    "from dashboards import *"
   ]
  },
  {
   "cell_type": "code",
   "execution_count": 2,
   "id": "f805dca7-63e1-4c80-931c-96b54dbfb426",
   "metadata": {},
   "outputs": [],
   "source": [
    "bd.projects.set_current(\"Visualization\")"
   ]
  },
  {
   "cell_type": "markdown",
   "id": "8c234f2f-75de-4d34-8676-12f4b7ec61db",
   "metadata": {
    "jp-MarkdownHeadingCollapsed": true,
    "tags": []
   },
   "source": [
    "### Importing Databases"
   ]
  },
  {
   "cell_type": "code",
   "execution_count": 3,
   "id": "c989cfba-50b9-4df2-b3b4-60889947a469",
   "metadata": {},
   "outputs": [
    {
     "data": {
      "text/plain": [
       "Databases dictionary with 2 object(s):\n",
       "\tUS EEIO 1.1\n",
       "\tbiosphere3"
      ]
     },
     "execution_count": 3,
     "metadata": {},
     "output_type": "execute_result"
    }
   ],
   "source": [
    "bd.databases"
   ]
  },
  {
   "cell_type": "code",
   "execution_count": 4,
   "id": "bca03117-8c63-4d4d-b167-0cea0be04a91",
   "metadata": {},
   "outputs": [],
   "source": [
    "datadir = Path(\"data\")\n",
    "datadir.mkdir(exist_ok=True)"
   ]
  },
  {
   "cell_type": "code",
   "execution_count": 5,
   "id": "ca335eeb-df8a-405e-8f0e-c3313be4afcf",
   "metadata": {},
   "outputs": [
    {
     "name": "stdout",
     "output_type": "stream",
     "text": [
      "US EEIO 1.1 already present\n"
     ]
    }
   ],
   "source": [
    "bi.useeio11()"
   ]
  },
  {
   "cell_type": "code",
   "execution_count": 6,
   "id": "b0481cb1-1dec-4ee9-a5ae-9cb3c1091477",
   "metadata": {},
   "outputs": [
    {
     "data": {
      "text/html": [
       "<div>\n",
       "<style scoped>\n",
       "    .dataframe tbody tr th:only-of-type {\n",
       "        vertical-align: middle;\n",
       "    }\n",
       "\n",
       "    .dataframe tbody tr th {\n",
       "        vertical-align: top;\n",
       "    }\n",
       "\n",
       "    .dataframe thead th {\n",
       "        text-align: right;\n",
       "    }\n",
       "</style>\n",
       "<table border=\"1\" class=\"dataframe\">\n",
       "  <thead>\n",
       "    <tr style=\"text-align: right;\">\n",
       "      <th></th>\n",
       "      <th>CAS number</th>\n",
       "      <th>categories</th>\n",
       "      <th>classifications</th>\n",
       "      <th>code</th>\n",
       "      <th>database</th>\n",
       "      <th>description</th>\n",
       "      <th>dqEntry</th>\n",
       "      <th>dqSystem</th>\n",
       "      <th>exchangeDqSystem</th>\n",
       "      <th>filename</th>\n",
       "      <th>id</th>\n",
       "      <th>location</th>\n",
       "      <th>modified</th>\n",
       "      <th>name</th>\n",
       "      <th>processDocumentation</th>\n",
       "      <th>type</th>\n",
       "      <th>unit</th>\n",
       "      <th>version</th>\n",
       "    </tr>\n",
       "  </thead>\n",
       "  <tbody>\n",
       "    <tr>\n",
       "      <th>1150</th>\n",
       "      <td></td>\n",
       "      <td>(air, low population density)</td>\n",
       "      <td>NaN</td>\n",
       "      <td>6ca23b5d-83dc-3b02-bf39-8eabf9d41151</td>\n",
       "      <td>US EEIO 1.1</td>\n",
       "      <td>NaN</td>\n",
       "      <td>NaN</td>\n",
       "      <td>NaN</td>\n",
       "      <td>NaN</td>\n",
       "      <td>NaN</td>\n",
       "      <td>1640</td>\n",
       "      <td>NaN</td>\n",
       "      <td>NaN</td>\n",
       "      <td>(2,4-DICHLOROPHENOXY)ACETIC ACID COMPD. WITH 2...</td>\n",
       "      <td>NaN</td>\n",
       "      <td>emission</td>\n",
       "      <td></td>\n",
       "      <td>NaN</td>\n",
       "    </tr>\n",
       "    <tr>\n",
       "      <th>2112</th>\n",
       "      <td></td>\n",
       "      <td>(soil, groundwater)</td>\n",
       "      <td>NaN</td>\n",
       "      <td>5b98f875-8d1c-3549-a7df-28d7d90e7ccb</td>\n",
       "      <td>US EEIO 1.1</td>\n",
       "      <td>NaN</td>\n",
       "      <td>NaN</td>\n",
       "      <td>NaN</td>\n",
       "      <td>NaN</td>\n",
       "      <td>NaN</td>\n",
       "      <td>1427</td>\n",
       "      <td>NaN</td>\n",
       "      <td>NaN</td>\n",
       "      <td>(2,4-DICHLOROPHENOXY)ACETIC ACID COMPD. WITH 2...</td>\n",
       "      <td>NaN</td>\n",
       "      <td>emission</td>\n",
       "      <td></td>\n",
       "      <td>NaN</td>\n",
       "    </tr>\n",
       "    <tr>\n",
       "      <th>2341</th>\n",
       "      <td></td>\n",
       "      <td>(water, unspecified)</td>\n",
       "      <td>NaN</td>\n",
       "      <td>2ee4697d-b7f4-362b-86a4-94b644699500</td>\n",
       "      <td>US EEIO 1.1</td>\n",
       "      <td>NaN</td>\n",
       "      <td>NaN</td>\n",
       "      <td>NaN</td>\n",
       "      <td>NaN</td>\n",
       "      <td>NaN</td>\n",
       "      <td>1134</td>\n",
       "      <td>NaN</td>\n",
       "      <td>NaN</td>\n",
       "      <td>(2,4-DICHLOROPHENOXY)ACETIC ACID COMPD. WITH 2...</td>\n",
       "      <td>NaN</td>\n",
       "      <td>emission</td>\n",
       "      <td></td>\n",
       "      <td>NaN</td>\n",
       "    </tr>\n",
       "    <tr>\n",
       "      <th>482</th>\n",
       "      <td></td>\n",
       "      <td>(water, unspecified)</td>\n",
       "      <td>NaN</td>\n",
       "      <td>93086e32-c013-3e34-a074-4760c72fe775</td>\n",
       "      <td>US EEIO 1.1</td>\n",
       "      <td>NaN</td>\n",
       "      <td>NaN</td>\n",
       "      <td>NaN</td>\n",
       "      <td>NaN</td>\n",
       "      <td>NaN</td>\n",
       "      <td>1886</td>\n",
       "      <td>NaN</td>\n",
       "      <td>NaN</td>\n",
       "      <td>(4-CHLORO-2-METHYLPHENOXY)ACETIC ACID COMPD. W...</td>\n",
       "      <td>NaN</td>\n",
       "      <td>emission</td>\n",
       "      <td></td>\n",
       "      <td>NaN</td>\n",
       "    </tr>\n",
       "    <tr>\n",
       "      <th>1185</th>\n",
       "      <td></td>\n",
       "      <td>(soil, groundwater)</td>\n",
       "      <td>NaN</td>\n",
       "      <td>b8889098-9a89-35c6-b226-07cb66c83217</td>\n",
       "      <td>US EEIO 1.1</td>\n",
       "      <td>NaN</td>\n",
       "      <td>NaN</td>\n",
       "      <td>NaN</td>\n",
       "      <td>NaN</td>\n",
       "      <td>NaN</td>\n",
       "      <td>2160</td>\n",
       "      <td>NaN</td>\n",
       "      <td>NaN</td>\n",
       "      <td>(4-CHLORO-2-METHYLPHENOXY)ACETIC ACID COMPD. W...</td>\n",
       "      <td>NaN</td>\n",
       "      <td>emission</td>\n",
       "      <td></td>\n",
       "      <td>NaN</td>\n",
       "    </tr>\n",
       "    <tr>\n",
       "      <th>...</th>\n",
       "      <td>...</td>\n",
       "      <td>...</td>\n",
       "      <td>...</td>\n",
       "      <td>...</td>\n",
       "      <td>...</td>\n",
       "      <td>...</td>\n",
       "      <td>...</td>\n",
       "      <td>...</td>\n",
       "      <td>...</td>\n",
       "      <td>...</td>\n",
       "      <td>...</td>\n",
       "      <td>...</td>\n",
       "      <td>...</td>\n",
       "      <td>...</td>\n",
       "      <td>...</td>\n",
       "      <td>...</td>\n",
       "      <td>...</td>\n",
       "      <td>...</td>\n",
       "    </tr>\n",
       "    <tr>\n",
       "      <th>2244</th>\n",
       "      <td></td>\n",
       "      <td>(air, unspecified)</td>\n",
       "      <td>NaN</td>\n",
       "      <td>d9a5b786-d06c-44af-a088-b070aa605d9b</td>\n",
       "      <td>US EEIO 1.1</td>\n",
       "      <td>NaN</td>\n",
       "      <td>NaN</td>\n",
       "      <td>NaN</td>\n",
       "      <td>NaN</td>\n",
       "      <td>NaN</td>\n",
       "      <td>2370</td>\n",
       "      <td>NaN</td>\n",
       "      <td>NaN</td>\n",
       "      <td>trifluralin</td>\n",
       "      <td>NaN</td>\n",
       "      <td>emission</td>\n",
       "      <td></td>\n",
       "      <td>NaN</td>\n",
       "    </tr>\n",
       "    <tr>\n",
       "      <th>350</th>\n",
       "      <td>7440622.0</td>\n",
       "      <td>(water, unspecified)</td>\n",
       "      <td>NaN</td>\n",
       "      <td>63e8256e-8549-11e0-9d78-0800200c9a66</td>\n",
       "      <td>US EEIO 1.1</td>\n",
       "      <td>NaN</td>\n",
       "      <td>NaN</td>\n",
       "      <td>NaN</td>\n",
       "      <td>NaN</td>\n",
       "      <td>NaN</td>\n",
       "      <td>1577</td>\n",
       "      <td>NaN</td>\n",
       "      <td>NaN</td>\n",
       "      <td>vanadium</td>\n",
       "      <td>NaN</td>\n",
       "      <td>emission</td>\n",
       "      <td></td>\n",
       "      <td>NaN</td>\n",
       "    </tr>\n",
       "    <tr>\n",
       "      <th>1337</th>\n",
       "      <td>7440622.0</td>\n",
       "      <td>(air, unspecified)</td>\n",
       "      <td>NaN</td>\n",
       "      <td>591b0a62-8064-4697-86ed-47bfa1f8b5e6</td>\n",
       "      <td>US EEIO 1.1</td>\n",
       "      <td>NaN</td>\n",
       "      <td>NaN</td>\n",
       "      <td>NaN</td>\n",
       "      <td>NaN</td>\n",
       "      <td>NaN</td>\n",
       "      <td>1407</td>\n",
       "      <td>NaN</td>\n",
       "      <td>NaN</td>\n",
       "      <td>vanadium</td>\n",
       "      <td>NaN</td>\n",
       "      <td>emission</td>\n",
       "      <td></td>\n",
       "      <td>NaN</td>\n",
       "    </tr>\n",
       "    <tr>\n",
       "      <th>1554</th>\n",
       "      <td>7440622.0</td>\n",
       "      <td>(soil, industrial)</td>\n",
       "      <td>NaN</td>\n",
       "      <td>1a5850a0-0069-4b73-bb91-7a61e8d45ae5</td>\n",
       "      <td>US EEIO 1.1</td>\n",
       "      <td>NaN</td>\n",
       "      <td>NaN</td>\n",
       "      <td>NaN</td>\n",
       "      <td>NaN</td>\n",
       "      <td>NaN</td>\n",
       "      <td>971</td>\n",
       "      <td>NaN</td>\n",
       "      <td>NaN</td>\n",
       "      <td>vanadium</td>\n",
       "      <td>NaN</td>\n",
       "      <td>emission</td>\n",
       "      <td></td>\n",
       "      <td>NaN</td>\n",
       "    </tr>\n",
       "    <tr>\n",
       "      <th>64</th>\n",
       "      <td></td>\n",
       "      <td>(air, unspecified)</td>\n",
       "      <td>NaN</td>\n",
       "      <td>1d444a45-70c4-4718-8427-1c0fff91f88e</td>\n",
       "      <td>US EEIO 1.1</td>\n",
       "      <td>NaN</td>\n",
       "      <td>NaN</td>\n",
       "      <td>NaN</td>\n",
       "      <td>NaN</td>\n",
       "      <td>NaN</td>\n",
       "      <td>1000</td>\n",
       "      <td>NaN</td>\n",
       "      <td>NaN</td>\n",
       "      <td>vinyl acetate</td>\n",
       "      <td>NaN</td>\n",
       "      <td>emission</td>\n",
       "      <td></td>\n",
       "      <td>NaN</td>\n",
       "    </tr>\n",
       "  </tbody>\n",
       "</table>\n",
       "<p>2649 rows × 18 columns</p>\n",
       "</div>"
      ],
      "text/plain": [
       "     CAS number                     categories classifications  \\\n",
       "1150             (air, low population density)             NaN   \n",
       "2112                       (soil, groundwater)             NaN   \n",
       "2341                      (water, unspecified)             NaN   \n",
       "482                       (water, unspecified)             NaN   \n",
       "1185                       (soil, groundwater)             NaN   \n",
       "...         ...                            ...             ...   \n",
       "2244                        (air, unspecified)             NaN   \n",
       "350   7440622.0           (water, unspecified)             NaN   \n",
       "1337  7440622.0             (air, unspecified)             NaN   \n",
       "1554  7440622.0             (soil, industrial)             NaN   \n",
       "64                          (air, unspecified)             NaN   \n",
       "\n",
       "                                      code     database description dqEntry  \\\n",
       "1150  6ca23b5d-83dc-3b02-bf39-8eabf9d41151  US EEIO 1.1         NaN     NaN   \n",
       "2112  5b98f875-8d1c-3549-a7df-28d7d90e7ccb  US EEIO 1.1         NaN     NaN   \n",
       "2341  2ee4697d-b7f4-362b-86a4-94b644699500  US EEIO 1.1         NaN     NaN   \n",
       "482   93086e32-c013-3e34-a074-4760c72fe775  US EEIO 1.1         NaN     NaN   \n",
       "1185  b8889098-9a89-35c6-b226-07cb66c83217  US EEIO 1.1         NaN     NaN   \n",
       "...                                    ...          ...         ...     ...   \n",
       "2244  d9a5b786-d06c-44af-a088-b070aa605d9b  US EEIO 1.1         NaN     NaN   \n",
       "350   63e8256e-8549-11e0-9d78-0800200c9a66  US EEIO 1.1         NaN     NaN   \n",
       "1337  591b0a62-8064-4697-86ed-47bfa1f8b5e6  US EEIO 1.1         NaN     NaN   \n",
       "1554  1a5850a0-0069-4b73-bb91-7a61e8d45ae5  US EEIO 1.1         NaN     NaN   \n",
       "64    1d444a45-70c4-4718-8427-1c0fff91f88e  US EEIO 1.1         NaN     NaN   \n",
       "\n",
       "     dqSystem exchangeDqSystem filename    id location modified  \\\n",
       "1150      NaN              NaN      NaN  1640      NaN      NaN   \n",
       "2112      NaN              NaN      NaN  1427      NaN      NaN   \n",
       "2341      NaN              NaN      NaN  1134      NaN      NaN   \n",
       "482       NaN              NaN      NaN  1886      NaN      NaN   \n",
       "1185      NaN              NaN      NaN  2160      NaN      NaN   \n",
       "...       ...              ...      ...   ...      ...      ...   \n",
       "2244      NaN              NaN      NaN  2370      NaN      NaN   \n",
       "350       NaN              NaN      NaN  1577      NaN      NaN   \n",
       "1337      NaN              NaN      NaN  1407      NaN      NaN   \n",
       "1554      NaN              NaN      NaN   971      NaN      NaN   \n",
       "64        NaN              NaN      NaN  1000      NaN      NaN   \n",
       "\n",
       "                                                   name processDocumentation  \\\n",
       "1150  (2,4-DICHLOROPHENOXY)ACETIC ACID COMPD. WITH 2...                  NaN   \n",
       "2112  (2,4-DICHLOROPHENOXY)ACETIC ACID COMPD. WITH 2...                  NaN   \n",
       "2341  (2,4-DICHLOROPHENOXY)ACETIC ACID COMPD. WITH 2...                  NaN   \n",
       "482   (4-CHLORO-2-METHYLPHENOXY)ACETIC ACID COMPD. W...                  NaN   \n",
       "1185  (4-CHLORO-2-METHYLPHENOXY)ACETIC ACID COMPD. W...                  NaN   \n",
       "...                                                 ...                  ...   \n",
       "2244                                        trifluralin                  NaN   \n",
       "350                                            vanadium                  NaN   \n",
       "1337                                           vanadium                  NaN   \n",
       "1554                                           vanadium                  NaN   \n",
       "64                                        vinyl acetate                  NaN   \n",
       "\n",
       "          type unit version  \n",
       "1150  emission          NaN  \n",
       "2112  emission          NaN  \n",
       "2341  emission          NaN  \n",
       "482   emission          NaN  \n",
       "1185  emission          NaN  \n",
       "...        ...  ...     ...  \n",
       "2244  emission          NaN  \n",
       "350   emission          NaN  \n",
       "1337  emission          NaN  \n",
       "1554  emission          NaN  \n",
       "64    emission          NaN  \n",
       "\n",
       "[2649 rows x 18 columns]"
      ]
     },
     "execution_count": 6,
     "metadata": {},
     "output_type": "execute_result"
    }
   ],
   "source": [
    "df = bd.Database(\"US EEIO 1.1\").nodes_to_dataframe()\n",
    "df"
   ]
  },
  {
   "cell_type": "code",
   "execution_count": 7,
   "id": "28e80f62-c04c-4846-a23c-ee44410e405a",
   "metadata": {},
   "outputs": [],
   "source": [
    "def safe_joiner(x):\n",
    "    try:\n",
    "        if not x or np.isnan(x):\n",
    "            return None\n",
    "    except TypeError:\n",
    "        pass\n",
    "    return \"::\".join(x)"
   ]
  },
  {
   "cell_type": "code",
   "execution_count": 8,
   "id": "234f98c3-94fd-4e90-a2a8-b409aa887438",
   "metadata": {},
   "outputs": [],
   "source": [
    "df['categories'] = df['categories'].apply(safe_joiner)\n"
   ]
  },
  {
   "cell_type": "code",
   "execution_count": 9,
   "id": "d8cecbb7-666a-46b2-b280-edcd4cb34c0e",
   "metadata": {},
   "outputs": [],
   "source": [
    "def safe_converter(x):\n",
    "    try:\n",
    "        return str(int(x))\n",
    "    except:\n",
    "        return None"
   ]
  },
  {
   "cell_type": "code",
   "execution_count": 10,
   "id": "8de69250-810b-44f9-873b-14c79976d073",
   "metadata": {},
   "outputs": [],
   "source": [
    "df['CAS number'] = df['CAS number'].apply(safe_converter)\n"
   ]
  },
  {
   "cell_type": "code",
   "execution_count": 11,
   "id": "6d552cb2-6c86-4308-b332-f4bfcaf7427f",
   "metadata": {},
   "outputs": [],
   "source": [
    "df.to_csv(datadir / \"useeio_nodes.csv\", index=False)"
   ]
  },
  {
   "cell_type": "code",
   "execution_count": 12,
   "id": "a79a0b13-b0a9-4cbb-a220-6fcdb8c4703a",
   "metadata": {},
   "outputs": [
    {
     "name": "stdout",
     "output_type": "stream",
     "text": [
      "Getting activity data\n"
     ]
    },
    {
     "name": "stderr",
     "output_type": "stream",
     "text": [
      "100%|███████████████████████████████████████████████████████████████████████████| 2649/2649 [00:00<00:00, 65428.33it/s]\n"
     ]
    },
    {
     "name": "stdout",
     "output_type": "stream",
     "text": [
      "Adding exchange data to activities\n"
     ]
    },
    {
     "name": "stderr",
     "output_type": "stream",
     "text": [
      "100%|███████████████████████████████████████████████████████████████████████| 162926/162926 [00:10<00:00, 15582.95it/s]\n"
     ]
    },
    {
     "name": "stdout",
     "output_type": "stream",
     "text": [
      "Filling out exchange data\n"
     ]
    },
    {
     "name": "stderr",
     "output_type": "stream",
     "text": [
      "100%|███████████████████████████████████████████████████████████████████████████| 2649/2649 [00:00<00:00, 78188.83it/s]\n"
     ]
    },
    {
     "name": "stdout",
     "output_type": "stream",
     "text": [
      "Creating DataFrame\n",
      "Compressing DataFrame\n"
     ]
    }
   ],
   "source": [
    "\n",
    "bd.Database(\"US EEIO 1.1\").edges_to_dataframe().to_csv(datadir / \"useeio_edges.csv\", index=False)"
   ]
  },
  {
   "cell_type": "code",
   "execution_count": 13,
   "id": "3e60c680-1067-44b0-a977-c9e98364ccc7",
   "metadata": {},
   "outputs": [],
   "source": [
    "product = next(node for node in bd.Database(\"US EEIO 1.1\") if node['type'] == 'product')\n"
   ]
  },
  {
   "cell_type": "code",
   "execution_count": 14,
   "id": "5065a84a-cb00-4f5b-abb5-67d6f2fa8d5a",
   "metadata": {},
   "outputs": [
    {
     "name": "stdout",
     "output_type": "stream",
     "text": [
      "Biosphere database already present!!! No setup is needed\n"
     ]
    }
   ],
   "source": [
    "bi.bw2setup() #Importing elementary flows, LCIA methods and some other data"
   ]
  },
  {
   "cell_type": "code",
   "execution_count": 15,
   "id": "05568b3a-1e2b-41c7-93de-6950d51e9b5a",
   "metadata": {},
   "outputs": [
    {
     "data": {
      "text/plain": [
       "Databases dictionary with 2 object(s):\n",
       "\tUS EEIO 1.1\n",
       "\tbiosphere3"
      ]
     },
     "execution_count": 15,
     "metadata": {},
     "output_type": "execute_result"
    }
   ],
   "source": [
    "bd.databases\n"
   ]
  },
  {
   "cell_type": "code",
   "execution_count": 16,
   "id": "ca19dd8e-a073-4902-a3ea-b94c747751c4",
   "metadata": {},
   "outputs": [],
   "source": [
    "df=bd.Database(\"US EEIO 1.1\")\n"
   ]
  },
  {
   "cell_type": "markdown",
   "id": "19e8af32-ce56-42c4-9c14-6ccc8c7fa35f",
   "metadata": {
    "tags": []
   },
   "source": [
    "###  Get activities and methods"
   ]
  },
  {
   "cell_type": "markdown",
   "id": "acade620-4874-43e0-9437-c969e84d78e4",
   "metadata": {},
   "source": [
    "Get 2 activities and methods from the database"
   ]
  },
  {
   "cell_type": "code",
   "execution_count": 5,
   "id": "6cb1d07a-4f02-42f0-9090-3020b6a6b593",
   "metadata": {},
   "outputs": [
    {
     "data": {
      "text/plain": [
       "'Irradiation apparatuses; at manufacturer' (, United States, ('31-33: Manufacturing', '3345: Navigational, Measuring, Electromedical, and Control Instruments Manufacturing'))"
      ]
     },
     "execution_count": 5,
     "metadata": {},
     "output_type": "execute_result"
    }
   ],
   "source": [
    "act3=next(node for node in bd.Database(\"US EEIO 1.1\") if node['type'] == 'product')\n",
    "act3"
   ]
  },
  {
   "cell_type": "code",
   "execution_count": 6,
   "id": "7c710767-b1f6-40db-b64d-4e0d9975e81f",
   "metadata": {},
   "outputs": [
    {
     "data": {
      "text/plain": [
       "'Metal windows, doors, and architectural products; at manufacturer' (, United States, ('31-33: Manufacturing', '3323: Architectural and Structural Metals Manufacturing'))"
      ]
     },
     "execution_count": 6,
     "metadata": {},
     "output_type": "execute_result"
    }
   ],
   "source": [
    "window_metal=next(node for node in bd.Database(\"US EEIO 1.1\") if node['type'] == 'product' if node['name']==\"Metal windows, doors, and architectural products; at manufacturer\")\n",
    "window_metal"
   ]
  },
  {
   "cell_type": "code",
   "execution_count": 7,
   "id": "4bb44a27-0edd-45f0-8e72-7e4acb99deec",
   "metadata": {},
   "outputs": [
    {
     "data": {
      "text/plain": [
       "'Wooden windows, door, and flooring; at manufacturer' (, United States, ('31-33: Manufacturing', '3219: Other Wood Product Manufacturing'))"
      ]
     },
     "execution_count": 7,
     "metadata": {},
     "output_type": "execute_result"
    }
   ],
   "source": [
    "window_wood=next(node for node in bd.Database(\"US EEIO 1.1\") if node['type'] == 'product' if node['name']==\"Wooden windows, door, and flooring; at manufacturer\")\n",
    "window_wood"
   ]
  },
  {
   "cell_type": "code",
   "execution_count": 8,
   "id": "f2755f87-304f-4329-98ef-336fbb928c09",
   "metadata": {},
   "outputs": [],
   "source": [
    "fu={window_metal:1,window_wood:1}"
   ]
  },
  {
   "cell_type": "code",
   "execution_count": 9,
   "id": "f2062ad7-2ed3-40ae-ba20-8ebf6051b828",
   "metadata": {},
   "outputs": [],
   "source": [
    "methods = [\n",
    "    ('Impact Potential', 'GCC'),\n",
    "    ('Impact Potential', 'HTOX'),\n",
    "    ('Resource Use', 'LAND'),\n",
    "    ('Resource Use', 'WATR'),\n",
    "]"
   ]
  },
  {
   "cell_type": "markdown",
   "id": "e2e88f64-9513-4349-b712-ffe976f6326b",
   "metadata": {
    "tags": []
   },
   "source": [
    "### Defining colors"
   ]
  },
  {
   "cell_type": "code",
   "execution_count": 10,
   "id": "025a2537-7388-48b9-b3d1-7d9e2670eaaf",
   "metadata": {},
   "outputs": [],
   "source": [
    "#define standard color palette:\n",
    "colors = [\"#F08C2E\", \"#7f6000\", \"#72AF42\", \"#A32683\"]\n",
    "\n",
    "#create longer color list for complex figures\n",
    "color_div_YlBr=sns.color_palette('YlOrBr',6)\n",
    "color_seq_green=sns.color_palette('Greens',6)\n",
    "color_seq_RdPu=sns.color_palette('RdPu',6)\n",
    "color_seq_org=sns.color_palette('Oranges',5)\n",
    "\n",
    "colors.extend(colors)\n",
    "# colors.extend(color_div_YlBr)\n",
    "# colors.extend(color_seq_green)\n",
    "# colors.extend(color_seq_RdPu)\n",
    "# colors.extend(color_seq_org)\n",
    "\n",
    "df_color=pd.DataFrame(index=methods,data=[colors[c] for c in range(len(methods))]).T"
   ]
  },
  {
   "cell_type": "markdown",
   "id": "b12a1acf-1ca0-487d-8cdc-cbb9c2f25877",
   "metadata": {
    "tags": []
   },
   "source": [
    "##  Perform basic lca computations"
   ]
  },
  {
   "cell_type": "code",
   "execution_count": 11,
   "id": "c97c208a-4f55-4695-a52b-d64c65d61734",
   "metadata": {},
   "outputs": [
    {
     "data": {
      "text/html": [
       "<div>\n",
       "<style scoped>\n",
       "    .dataframe tbody tr th:only-of-type {\n",
       "        vertical-align: middle;\n",
       "    }\n",
       "\n",
       "    .dataframe tbody tr th {\n",
       "        vertical-align: top;\n",
       "    }\n",
       "\n",
       "    .dataframe thead th {\n",
       "        text-align: right;\n",
       "    }\n",
       "</style>\n",
       "<table border=\"1\" class=\"dataframe\">\n",
       "  <thead>\n",
       "    <tr style=\"text-align: right;\">\n",
       "      <th></th>\n",
       "      <th>(Impact Potential, GCC)</th>\n",
       "    </tr>\n",
       "  </thead>\n",
       "  <tbody>\n",
       "    <tr>\n",
       "      <th>Metal windows, doors, and architectural products; at manufacturer</th>\n",
       "      <td>0.567139</td>\n",
       "    </tr>\n",
       "    <tr>\n",
       "      <th>Wooden windows, door, and flooring; at manufacturer</th>\n",
       "      <td>0.384134</td>\n",
       "    </tr>\n",
       "  </tbody>\n",
       "</table>\n",
       "</div>"
      ],
      "text/plain": [
       "                                                    (Impact Potential, GCC)\n",
       "Metal windows, doors, and architectural product...                 0.567139\n",
       "Wooden windows, door, and flooring; at manufact...                 0.384134"
      ]
     },
     "execution_count": 11,
     "metadata": {},
     "output_type": "execute_result"
    }
   ],
   "source": [
    "df=lca_comparison(fu, [methods[0]])\n",
    "df"
   ]
  },
  {
   "cell_type": "code",
   "execution_count": 12,
   "id": "54eb5447-c6b4-41fa-8167-dc033ebf9a65",
   "metadata": {},
   "outputs": [
    {
     "data": {
      "text/html": [
       "<div>\n",
       "<style scoped>\n",
       "    .dataframe tbody tr th:only-of-type {\n",
       "        vertical-align: middle;\n",
       "    }\n",
       "\n",
       "    .dataframe tbody tr th {\n",
       "        vertical-align: top;\n",
       "    }\n",
       "\n",
       "    .dataframe thead th {\n",
       "        text-align: right;\n",
       "    }\n",
       "</style>\n",
       "<table border=\"1\" class=\"dataframe\">\n",
       "  <thead>\n",
       "    <tr style=\"text-align: right;\">\n",
       "      <th></th>\n",
       "      <th>Metal windows, doors, and architectural products; at manufacturer</th>\n",
       "      <th>Wooden windows, door, and flooring; at manufacturer</th>\n",
       "    </tr>\n",
       "  </thead>\n",
       "  <tbody>\n",
       "    <tr>\n",
       "      <th>(Impact Potential, GCC)</th>\n",
       "      <td>100.0</td>\n",
       "      <td>67.731889</td>\n",
       "    </tr>\n",
       "  </tbody>\n",
       "</table>\n",
       "</div>"
      ],
      "text/plain": [
       "                         Metal windows, doors, and architectural products; at manufacturer  \\\n",
       "(Impact Potential, GCC)                                              100.0                   \n",
       "\n",
       "                         Wooden windows, door, and flooring; at manufacturer  \n",
       "(Impact Potential, GCC)                                          67.731889    "
      ]
     },
     "execution_count": 12,
     "metadata": {},
     "output_type": "execute_result"
    }
   ],
   "source": [
    "df_norm=df.T.apply(lambda x: x/x.max(), axis=1)*100 #to normalize the results for each impact category\n",
    "df_norm"
   ]
  },
  {
   "cell_type": "markdown",
   "id": "b11d3183-c4f7-4ed4-8b69-ec1a7e2fd8d8",
   "metadata": {
    "tags": []
   },
   "source": [
    "## Perform a basic contribution analysis"
   ]
  },
  {
   "cell_type": "code",
   "execution_count": 13,
   "id": "d1afc24e-8c24-4235-9232-b5576ecd7a2c",
   "metadata": {},
   "outputs": [
    {
     "data": {
      "text/plain": [
       "'Metal windows, doors, and architectural products; at manufacturer' (, United States, ('31-33: Manufacturing', '3323: Architectural and Structural Metals Manufacturing'))"
      ]
     },
     "execution_count": 13,
     "metadata": {},
     "output_type": "execute_result"
    }
   ],
   "source": [
    "act_topscore(fu)"
   ]
  },
  {
   "cell_type": "code",
   "execution_count": 12,
   "id": "6eb97725-eb85-407a-97cf-44ac2a464d40",
   "metadata": {},
   "outputs": [
    {
     "data": {
      "text/html": [
       "<div>\n",
       "<style scoped>\n",
       "    .dataframe tbody tr th:only-of-type {\n",
       "        vertical-align: middle;\n",
       "    }\n",
       "\n",
       "    .dataframe tbody tr th {\n",
       "        vertical-align: top;\n",
       "    }\n",
       "\n",
       "    .dataframe thead th {\n",
       "        text-align: right;\n",
       "    }\n",
       "</style>\n",
       "<table border=\"1\" class=\"dataframe\">\n",
       "  <thead>\n",
       "    <tr style=\"text-align: right;\">\n",
       "      <th></th>\n",
       "      <th>(Impact Potential, GCC)</th>\n",
       "    </tr>\n",
       "  </thead>\n",
       "  <tbody>\n",
       "    <tr>\n",
       "      <th>Natural gas; at consumer</th>\n",
       "      <td>4.746876</td>\n",
       "    </tr>\n",
       "    <tr>\n",
       "      <th>Truck transport</th>\n",
       "      <td>6.116044</td>\n",
       "    </tr>\n",
       "    <tr>\n",
       "      <th>Coal; at mine</th>\n",
       "      <td>6.409533</td>\n",
       "    </tr>\n",
       "    <tr>\n",
       "      <th>Electricity; at consumer</th>\n",
       "      <td>21.308793</td>\n",
       "    </tr>\n",
       "    <tr>\n",
       "      <th>Primary iron, steel, and ferroalloy products; at manufacturer</th>\n",
       "      <td>27.927123</td>\n",
       "    </tr>\n",
       "    <tr>\n",
       "      <th>Others</th>\n",
       "      <td>33.491631</td>\n",
       "    </tr>\n",
       "  </tbody>\n",
       "</table>\n",
       "</div>"
      ],
      "text/plain": [
       "                                                    (Impact Potential, GCC)\n",
       "Natural gas; at consumer                                           4.746876\n",
       "Truck transport                                                    6.116044\n",
       "Coal; at mine                                                      6.409533\n",
       "Electricity; at consumer                                          21.308793\n",
       "Primary iron, steel, and ferroalloy products; a...                27.927123\n",
       "Others                                                            33.491631"
      ]
     },
     "execution_count": 12,
     "metadata": {},
     "output_type": "execute_result"
    }
   ],
   "source": [
    "df=contributions_df(window_metal,methods[0],limit=5,limit_type='number',norm=True)\n",
    "df"
   ]
  },
  {
   "cell_type": "code",
   "execution_count": 13,
   "id": "034137e2-3fa3-482a-a7c3-71493b139f12",
   "metadata": {},
   "outputs": [
    {
     "data": {
      "text/plain": [
       "100.0"
      ]
     },
     "execution_count": 13,
     "metadata": {},
     "output_type": "execute_result"
    }
   ],
   "source": [
    "df.values.sum()"
   ]
  },
  {
   "cell_type": "markdown",
   "id": "a7524732-b07b-49e8-a421-25d0e443f114",
   "metadata": {},
   "source": [
    "## Display all thes informations in a nice dashboard"
   ]
  },
  {
   "cell_type": "markdown",
   "id": "ed2ef574-052c-479d-abe2-dbeed35be06e",
   "metadata": {
    "tags": []
   },
   "source": [
    "### Dashboard compare"
   ]
  },
  {
   "cell_type": "code",
   "execution_count": 14,
   "id": "7f709172-b208-44ea-9cd5-d7eea7b920b9",
   "metadata": {},
   "outputs": [
    {
     "data": {
      "application/vnd.jupyter.widget-view+json": {
       "model_id": "0a5291a4d56f47398f19d000e3e9a3d7",
       "version_major": 2,
       "version_minor": 0
      },
      "text/plain": [
       "Tab(children=(Output(), Output()), selected_index=0, titles=('Reference indicator', 'All indicators'))"
      ]
     },
     "metadata": {},
     "output_type": "display_data"
    }
   ],
   "source": [
    "compare(fu, methods, sharex=False, cols=2, func_unit=\"kWh\")"
   ]
  },
  {
   "cell_type": "markdown",
   "id": "04030ddb-8a71-4ffd-bbb5-9837518fa0cb",
   "metadata": {
    "tags": []
   },
   "source": [
    "### Dashboard hotspots"
   ]
  },
  {
   "cell_type": "code",
   "execution_count": 15,
   "id": "8298689f-097b-494b-b29c-4f97f19f1f8f",
   "metadata": {},
   "outputs": [
    {
     "data": {
      "application/vnd.jupyter.widget-view+json": {
       "model_id": "3d748762a457451db52e52a4ca7e55bb",
       "version_major": 2,
       "version_minor": 0
      },
      "text/plain": [
       "Tab(children=(Output(), Output(), Output(), Output()), selected_index=0, titles=('on Impact Potential [GCC]', …"
      ]
     },
     "metadata": {},
     "output_type": "display_data"
    },
    {
     "data": {
      "application/vnd.jupyter.widget-view+json": {
       "model_id": "643e78ac99c04566be18c33a972a14f0",
       "version_major": 2,
       "version_minor": 0
      },
      "text/plain": [
       "Tab(children=(Output(), Output(), Output(), Output()), selected_index=0, titles=('on Impact Potential [GCC]', …"
      ]
     },
     "metadata": {},
     "output_type": "display_data"
    }
   ],
   "source": [
    "hotspots(fu, methods, limit=0.02)"
   ]
  },
  {
   "cell_type": "markdown",
   "id": "dd9554c2-4955-437b-99a5-c26d4becc7b0",
   "metadata": {
    "tags": []
   },
   "source": [
    "### Dashboard impact_transfer"
   ]
  },
  {
   "cell_type": "code",
   "execution_count": 19,
   "id": "d5df430f-2d2a-4cd9-96d2-9c11a38a40c1",
   "metadata": {},
   "outputs": [
    {
     "data": {
      "application/vnd.jupyter.widget-view+json": {
       "model_id": "80ec7516f5e841d9bd69fbaec7274324",
       "version_major": 2,
       "version_minor": 0
      },
      "text/plain": [
       "Tab(children=(Output(), Output(), Output(), Output()), selected_index=0, titles=('Heatmap', 'Metal windows, do…"
      ]
     },
     "metadata": {},
     "output_type": "display_data"
    }
   ],
   "source": [
    "impact_transfer({window_metal:1,window_wood:1,act3:1}, methods, reference_category=('Impact Potential', 'GCC'),limit=5, cols=2, func_unit=\"kWh\")"
   ]
  },
  {
   "cell_type": "markdown",
   "id": "b7830bec-54d8-43af-bb14-760ea13645e6",
   "metadata": {},
   "source": [
    "## Generic function : lca_graphic"
   ]
  },
  {
   "cell_type": "markdown",
   "id": "f8ac8403-0e41-4c08-afdb-6988d0861e64",
   "metadata": {},
   "source": [
    "###### lca_graphic(fu,methods, reference_category=('Impact Potential', 'GCC'), func_unit=\"kg\")"
   ]
  },
  {
   "cell_type": "code",
   "execution_count": 20,
   "id": "ac1140b2-b452-4149-90f8-7844f9001bee",
   "metadata": {},
   "outputs": [
    {
     "data": {
      "application/vnd.jupyter.widget-view+json": {
       "model_id": "f01f29b923e14dabb2320001fb93e8bd",
       "version_major": 2,
       "version_minor": 0
      },
      "text/plain": [
       "Tab(children=(Output(), Output()), selected_index=0, titles=('Reference indicator', 'All indicators'))"
      ]
     },
     "metadata": {},
     "output_type": "display_data"
    },
    {
     "data": {
      "application/vnd.jupyter.widget-view+json": {
       "model_id": "06533e84f0b94a2c9a3a35aa0ddf4a91",
       "version_major": 2,
       "version_minor": 0
      },
      "text/plain": [
       "Tab(children=(Output(), Output(), Output(), Output()), selected_index=0, titles=('Impact transfer', 'Heatmap',…"
      ]
     },
     "metadata": {},
     "output_type": "display_data"
    },
    {
     "data": {
      "application/vnd.jupyter.widget-view+json": {
       "model_id": "cc8c5932626642db9237e18c24c5d1a5",
       "version_major": 2,
       "version_minor": 0
      },
      "text/plain": [
       "Tab(children=(Output(), Output(), Output(), Output()), selected_index=0, titles=('on Impact Potential [GCC]', …"
      ]
     },
     "metadata": {},
     "output_type": "display_data"
    },
    {
     "data": {
      "application/vnd.jupyter.widget-view+json": {
       "model_id": "55dda9b9bc5146b48536bb364a27d1c6",
       "version_major": 2,
       "version_minor": 0
      },
      "text/plain": [
       "Tab(children=(Output(), Output(), Output(), Output()), selected_index=0, titles=('on Impact Potential [GCC]', …"
      ]
     },
     "metadata": {},
     "output_type": "display_data"
    }
   ],
   "source": [
    "lca_graphic(fu,methods)"
   ]
  },
  {
   "cell_type": "code",
   "execution_count": null,
   "id": "cdac0c66-711d-4388-b877-06798a9df3cd",
   "metadata": {},
   "outputs": [],
   "source": []
  }
 ],
 "metadata": {
  "kernelspec": {
   "display_name": "Python 3 (ipykernel)",
   "language": "python",
   "name": "python3"
  },
  "language_info": {
   "codemirror_mode": {
    "name": "ipython",
    "version": 3
   },
   "file_extension": ".py",
   "mimetype": "text/x-python",
   "name": "python",
   "nbconvert_exporter": "python",
   "pygments_lexer": "ipython3",
   "version": "3.11.0"
  },
  "vscode": {
   "interpreter": {
    "hash": "5f417be04f91f0718b989f3234292f09cafb7263a3fd4fa9e204297b1fa5cd6f"
   }
  }
 },
 "nbformat": 4,
 "nbformat_minor": 5
}
